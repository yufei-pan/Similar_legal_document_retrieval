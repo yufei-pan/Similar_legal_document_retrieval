{
 "cells": [
  {
   "cell_type": "code",
   "execution_count": 47,
   "metadata": {},
   "outputs": [
    {
     "name": "stdout",
     "output_type": "stream",
     "text": [
      "Requirement already satisfied: pip in c:\\users\\kes\\appdata\\local\\programs\\python\\python310\\lib\\site-packages (22.3.1)\n",
      "Requirement already satisfied: setuptools in c:\\users\\kes\\appdata\\local\\programs\\python\\python310\\lib\\site-packages (65.6.3)\n",
      "Requirement already satisfied: wheel in c:\\users\\kes\\appdata\\local\\programs\\python\\python310\\lib\\site-packages (0.38.4)\n",
      "Requirement already satisfied: spacy[cuda113] in c:\\users\\kes\\appdata\\local\\programs\\python\\python310\\lib\\site-packages (3.4.3)\n",
      "Requirement already satisfied: tqdm<5.0.0,>=4.38.0 in c:\\users\\kes\\appdata\\local\\programs\\python\\python310\\lib\\site-packages (from spacy[cuda113]) (4.64.1)\n",
      "Requirement already satisfied: srsly<3.0.0,>=2.4.3 in c:\\users\\kes\\appdata\\local\\programs\\python\\python310\\lib\\site-packages (from spacy[cuda113]) (2.4.5)\n",
      "Requirement already satisfied: jinja2 in c:\\users\\kes\\appdata\\local\\programs\\python\\python310\\lib\\site-packages (from spacy[cuda113]) (3.1.2)\n",
      "Requirement already satisfied: thinc<8.2.0,>=8.1.0 in c:\\users\\kes\\appdata\\local\\programs\\python\\python310\\lib\\site-packages (from spacy[cuda113]) (8.1.5)\n",
      "Requirement already satisfied: packaging>=20.0 in c:\\users\\kes\\appdata\\local\\programs\\python\\python310\\lib\\site-packages (from spacy[cuda113]) (21.3)\n",
      "Requirement already satisfied: preshed<3.1.0,>=3.0.2 in c:\\users\\kes\\appdata\\local\\programs\\python\\python310\\lib\\site-packages (from spacy[cuda113]) (3.0.8)\n",
      "Requirement already satisfied: murmurhash<1.1.0,>=0.28.0 in c:\\users\\kes\\appdata\\local\\programs\\python\\python310\\lib\\site-packages (from spacy[cuda113]) (1.0.9)\n",
      "Requirement already satisfied: requests<3.0.0,>=2.13.0 in c:\\users\\kes\\appdata\\local\\programs\\python\\python310\\lib\\site-packages (from spacy[cuda113]) (2.28.1)\n",
      "Requirement already satisfied: pathy>=0.3.5 in c:\\users\\kes\\appdata\\local\\programs\\python\\python310\\lib\\site-packages (from spacy[cuda113]) (0.10.0)\n",
      "Requirement already satisfied: spacy-legacy<3.1.0,>=3.0.10 in c:\\users\\kes\\appdata\\local\\programs\\python\\python310\\lib\\site-packages (from spacy[cuda113]) (3.0.10)\n",
      "Requirement already satisfied: langcodes<4.0.0,>=3.2.0 in c:\\users\\kes\\appdata\\local\\programs\\python\\python310\\lib\\site-packages (from spacy[cuda113]) (3.3.0)\n",
      "Requirement already satisfied: numpy>=1.15.0 in c:\\users\\kes\\appdata\\local\\programs\\python\\python310\\lib\\site-packages (from spacy[cuda113]) (1.23.3)\n",
      "Requirement already satisfied: wasabi<1.1.0,>=0.9.1 in c:\\users\\kes\\appdata\\local\\programs\\python\\python310\\lib\\site-packages (from spacy[cuda113]) (0.10.1)\n",
      "Requirement already satisfied: spacy-loggers<2.0.0,>=1.0.0 in c:\\users\\kes\\appdata\\local\\programs\\python\\python310\\lib\\site-packages (from spacy[cuda113]) (1.0.3)\n",
      "Requirement already satisfied: catalogue<2.1.0,>=2.0.6 in c:\\users\\kes\\appdata\\local\\programs\\python\\python310\\lib\\site-packages (from spacy[cuda113]) (2.0.8)\n",
      "Requirement already satisfied: pydantic!=1.8,!=1.8.1,<1.11.0,>=1.7.4 in c:\\users\\kes\\appdata\\local\\programs\\python\\python310\\lib\\site-packages (from spacy[cuda113]) (1.10.2)\n",
      "Requirement already satisfied: cymem<2.1.0,>=2.0.2 in c:\\users\\kes\\appdata\\local\\programs\\python\\python310\\lib\\site-packages (from spacy[cuda113]) (2.0.7)\n",
      "Requirement already satisfied: typer<0.8.0,>=0.3.0 in c:\\users\\kes\\appdata\\local\\programs\\python\\python310\\lib\\site-packages (from spacy[cuda113]) (0.7.0)\n",
      "Requirement already satisfied: setuptools in c:\\users\\kes\\appdata\\local\\programs\\python\\python310\\lib\\site-packages (from spacy[cuda113]) (65.6.3)\n",
      "Collecting cupy-cuda113<12.0.0,>=5.0.0b4\n",
      "  Using cached cupy_cuda113-10.6.0-cp310-cp310-win_amd64.whl (56.7 MB)\n",
      "Requirement already satisfied: fastrlock>=0.5 in c:\\users\\kes\\appdata\\local\\programs\\python\\python310\\lib\\site-packages (from cupy-cuda113<12.0.0,>=5.0.0b4->spacy[cuda113]) (0.8.1)\n",
      "Requirement already satisfied: pyparsing!=3.0.5,>=2.0.2 in c:\\users\\kes\\appdata\\local\\programs\\python\\python310\\lib\\site-packages (from packaging>=20.0->spacy[cuda113]) (3.0.9)\n",
      "Requirement already satisfied: smart-open<6.0.0,>=5.2.1 in c:\\users\\kes\\appdata\\local\\programs\\python\\python310\\lib\\site-packages (from pathy>=0.3.5->spacy[cuda113]) (5.2.1)\n",
      "Requirement already satisfied: typing-extensions>=4.1.0 in c:\\users\\kes\\appdata\\local\\programs\\python\\python310\\lib\\site-packages (from pydantic!=1.8,!=1.8.1,<1.11.0,>=1.7.4->spacy[cuda113]) (4.4.0)\n",
      "Requirement already satisfied: charset-normalizer<3,>=2 in c:\\users\\kes\\appdata\\local\\programs\\python\\python310\\lib\\site-packages (from requests<3.0.0,>=2.13.0->spacy[cuda113]) (2.1.1)\n",
      "Requirement already satisfied: urllib3<1.27,>=1.21.1 in c:\\users\\kes\\appdata\\local\\programs\\python\\python310\\lib\\site-packages (from requests<3.0.0,>=2.13.0->spacy[cuda113]) (1.26.12)\n",
      "Requirement already satisfied: idna<4,>=2.5 in c:\\users\\kes\\appdata\\local\\programs\\python\\python310\\lib\\site-packages (from requests<3.0.0,>=2.13.0->spacy[cuda113]) (3.4)\n",
      "Requirement already satisfied: certifi>=2017.4.17 in c:\\users\\kes\\appdata\\local\\programs\\python\\python310\\lib\\site-packages (from requests<3.0.0,>=2.13.0->spacy[cuda113]) (2022.9.24)\n",
      "Requirement already satisfied: confection<1.0.0,>=0.0.1 in c:\\users\\kes\\appdata\\local\\programs\\python\\python310\\lib\\site-packages (from thinc<8.2.0,>=8.1.0->spacy[cuda113]) (0.0.3)\n",
      "Requirement already satisfied: blis<0.8.0,>=0.7.8 in c:\\users\\kes\\appdata\\local\\programs\\python\\python310\\lib\\site-packages (from thinc<8.2.0,>=8.1.0->spacy[cuda113]) (0.7.9)\n",
      "Requirement already satisfied: colorama in c:\\users\\kes\\appdata\\local\\programs\\python\\python310\\lib\\site-packages (from tqdm<5.0.0,>=4.38.0->spacy[cuda113]) (0.4.5)\n",
      "Requirement already satisfied: click<9.0.0,>=7.1.1 in c:\\users\\kes\\appdata\\local\\programs\\python\\python310\\lib\\site-packages (from typer<0.8.0,>=0.3.0->spacy[cuda113]) (8.1.3)\n",
      "Requirement already satisfied: MarkupSafe>=2.0 in c:\\users\\kes\\appdata\\local\\programs\\python\\python310\\lib\\site-packages (from jinja2->spacy[cuda113]) (2.1.1)\n",
      "Installing collected packages: cupy-cuda113\n",
      "Successfully installed cupy-cuda113-10.6.0\n"
     ]
    }
   ],
   "source": [
    "# ! pip install -U pip setuptools wheel\n",
    "# ! pip install -U spacy[cuda113]"
   ]
  },
  {
   "cell_type": "code",
   "execution_count": 48,
   "metadata": {},
   "outputs": [
    {
     "name": "stdout",
     "output_type": "stream",
     "text": [
      "Collecting en-core-web-trf==3.4.1\n",
      "  Downloading https://github.com/explosion/spacy-models/releases/download/en_core_web_trf-3.4.1/en_core_web_trf-3.4.1-py3-none-any.whl (460.3 MB)\n",
      "     ------------------------------------- 460.3/460.3 MB 11.5 MB/s eta 0:00:00\n",
      "Requirement already satisfied: spacy-transformers<1.2.0,>=1.1.2 in c:\\users\\kes\\appdata\\local\\programs\\python\\python310\\lib\\site-packages (from en-core-web-trf==3.4.1) (1.1.8)\n",
      "Requirement already satisfied: spacy<3.5.0,>=3.4.1 in c:\\users\\kes\\appdata\\local\\programs\\python\\python310\\lib\\site-packages (from en-core-web-trf==3.4.1) (3.4.3)\n",
      "Requirement already satisfied: spacy-loggers<2.0.0,>=1.0.0 in c:\\users\\kes\\appdata\\local\\programs\\python\\python310\\lib\\site-packages (from spacy<3.5.0,>=3.4.1->en-core-web-trf==3.4.1) (1.0.3)\n",
      "Requirement already satisfied: preshed<3.1.0,>=3.0.2 in c:\\users\\kes\\appdata\\local\\programs\\python\\python310\\lib\\site-packages (from spacy<3.5.0,>=3.4.1->en-core-web-trf==3.4.1) (3.0.8)\n",
      "Requirement already satisfied: srsly<3.0.0,>=2.4.3 in c:\\users\\kes\\appdata\\local\\programs\\python\\python310\\lib\\site-packages (from spacy<3.5.0,>=3.4.1->en-core-web-trf==3.4.1) (2.4.5)\n",
      "Requirement already satisfied: typer<0.8.0,>=0.3.0 in c:\\users\\kes\\appdata\\local\\programs\\python\\python310\\lib\\site-packages (from spacy<3.5.0,>=3.4.1->en-core-web-trf==3.4.1) (0.7.0)\n",
      "Requirement already satisfied: thinc<8.2.0,>=8.1.0 in c:\\users\\kes\\appdata\\local\\programs\\python\\python310\\lib\\site-packages (from spacy<3.5.0,>=3.4.1->en-core-web-trf==3.4.1) (8.1.5)\n",
      "Requirement already satisfied: packaging>=20.0 in c:\\users\\kes\\appdata\\local\\programs\\python\\python310\\lib\\site-packages (from spacy<3.5.0,>=3.4.1->en-core-web-trf==3.4.1) (21.3)\n",
      "Requirement already satisfied: tqdm<5.0.0,>=4.38.0 in c:\\users\\kes\\appdata\\local\\programs\\python\\python310\\lib\\site-packages (from spacy<3.5.0,>=3.4.1->en-core-web-trf==3.4.1) (4.64.1)\n",
      "Requirement already satisfied: numpy>=1.15.0 in c:\\users\\kes\\appdata\\local\\programs\\python\\python310\\lib\\site-packages (from spacy<3.5.0,>=3.4.1->en-core-web-trf==3.4.1) (1.23.3)\n",
      "Requirement already satisfied: requests<3.0.0,>=2.13.0 in c:\\users\\kes\\appdata\\local\\programs\\python\\python310\\lib\\site-packages (from spacy<3.5.0,>=3.4.1->en-core-web-trf==3.4.1) (2.28.1)\n",
      "Requirement already satisfied: jinja2 in c:\\users\\kes\\appdata\\local\\programs\\python\\python310\\lib\\site-packages (from spacy<3.5.0,>=3.4.1->en-core-web-trf==3.4.1) (3.1.2)\n",
      "Requirement already satisfied: setuptools in c:\\users\\kes\\appdata\\local\\programs\\python\\python310\\lib\\site-packages (from spacy<3.5.0,>=3.4.1->en-core-web-trf==3.4.1) (65.6.3)\n",
      "Requirement already satisfied: pathy>=0.3.5 in c:\\users\\kes\\appdata\\local\\programs\\python\\python310\\lib\\site-packages (from spacy<3.5.0,>=3.4.1->en-core-web-trf==3.4.1) (0.10.0)\n",
      "Requirement already satisfied: cymem<2.1.0,>=2.0.2 in c:\\users\\kes\\appdata\\local\\programs\\python\\python310\\lib\\site-packages (from spacy<3.5.0,>=3.4.1->en-core-web-trf==3.4.1) (2.0.7)\n",
      "Requirement already satisfied: catalogue<2.1.0,>=2.0.6 in c:\\users\\kes\\appdata\\local\\programs\\python\\python310\\lib\\site-packages (from spacy<3.5.0,>=3.4.1->en-core-web-trf==3.4.1) (2.0.8)\n",
      "Requirement already satisfied: murmurhash<1.1.0,>=0.28.0 in c:\\users\\kes\\appdata\\local\\programs\\python\\python310\\lib\\site-packages (from spacy<3.5.0,>=3.4.1->en-core-web-trf==3.4.1) (1.0.9)\n",
      "Requirement already satisfied: spacy-legacy<3.1.0,>=3.0.10 in c:\\users\\kes\\appdata\\local\\programs\\python\\python310\\lib\\site-packages (from spacy<3.5.0,>=3.4.1->en-core-web-trf==3.4.1) (3.0.10)\n",
      "Requirement already satisfied: pydantic!=1.8,!=1.8.1,<1.11.0,>=1.7.4 in c:\\users\\kes\\appdata\\local\\programs\\python\\python310\\lib\\site-packages (from spacy<3.5.0,>=3.4.1->en-core-web-trf==3.4.1) (1.10.2)\n",
      "Requirement already satisfied: wasabi<1.1.0,>=0.9.1 in c:\\users\\kes\\appdata\\local\\programs\\python\\python310\\lib\\site-packages (from spacy<3.5.0,>=3.4.1->en-core-web-trf==3.4.1) (0.10.1)\n",
      "Requirement already satisfied: langcodes<4.0.0,>=3.2.0 in c:\\users\\kes\\appdata\\local\\programs\\python\\python310\\lib\\site-packages (from spacy<3.5.0,>=3.4.1->en-core-web-trf==3.4.1) (3.3.0)\n",
      "Requirement already satisfied: torch>=1.6.0 in c:\\users\\kes\\appdata\\local\\programs\\python\\python310\\lib\\site-packages (from spacy-transformers<1.2.0,>=1.1.2->en-core-web-trf==3.4.1) (1.12.1+cu116)\n",
      "Requirement already satisfied: spacy-alignments<1.0.0,>=0.7.2 in c:\\users\\kes\\appdata\\local\\programs\\python\\python310\\lib\\site-packages (from spacy-transformers<1.2.0,>=1.1.2->en-core-web-trf==3.4.1) (0.8.6)\n",
      "Requirement already satisfied: transformers<4.22.0,>=3.4.0 in c:\\users\\kes\\appdata\\local\\programs\\python\\python310\\lib\\site-packages (from spacy-transformers<1.2.0,>=1.1.2->en-core-web-trf==3.4.1) (4.21.3)\n",
      "Requirement already satisfied: pyparsing!=3.0.5,>=2.0.2 in c:\\users\\kes\\appdata\\local\\programs\\python\\python310\\lib\\site-packages (from packaging>=20.0->spacy<3.5.0,>=3.4.1->en-core-web-trf==3.4.1) (3.0.9)\n",
      "Requirement already satisfied: smart-open<6.0.0,>=5.2.1 in c:\\users\\kes\\appdata\\local\\programs\\python\\python310\\lib\\site-packages (from pathy>=0.3.5->spacy<3.5.0,>=3.4.1->en-core-web-trf==3.4.1) (5.2.1)\n",
      "Requirement already satisfied: typing-extensions>=4.1.0 in c:\\users\\kes\\appdata\\local\\programs\\python\\python310\\lib\\site-packages (from pydantic!=1.8,!=1.8.1,<1.11.0,>=1.7.4->spacy<3.5.0,>=3.4.1->en-core-web-trf==3.4.1) (4.4.0)\n",
      "Requirement already satisfied: idna<4,>=2.5 in c:\\users\\kes\\appdata\\local\\programs\\python\\python310\\lib\\site-packages (from requests<3.0.0,>=2.13.0->spacy<3.5.0,>=3.4.1->en-core-web-trf==3.4.1) (3.4)\n",
      "Requirement already satisfied: charset-normalizer<3,>=2 in c:\\users\\kes\\appdata\\local\\programs\\python\\python310\\lib\\site-packages (from requests<3.0.0,>=2.13.0->spacy<3.5.0,>=3.4.1->en-core-web-trf==3.4.1) (2.1.1)\n",
      "Requirement already satisfied: certifi>=2017.4.17 in c:\\users\\kes\\appdata\\local\\programs\\python\\python310\\lib\\site-packages (from requests<3.0.0,>=2.13.0->spacy<3.5.0,>=3.4.1->en-core-web-trf==3.4.1) (2022.9.24)\n",
      "Requirement already satisfied: urllib3<1.27,>=1.21.1 in c:\\users\\kes\\appdata\\local\\programs\\python\\python310\\lib\\site-packages (from requests<3.0.0,>=2.13.0->spacy<3.5.0,>=3.4.1->en-core-web-trf==3.4.1) (1.26.12)\n",
      "Requirement already satisfied: confection<1.0.0,>=0.0.1 in c:\\users\\kes\\appdata\\local\\programs\\python\\python310\\lib\\site-packages (from thinc<8.2.0,>=8.1.0->spacy<3.5.0,>=3.4.1->en-core-web-trf==3.4.1) (0.0.3)\n",
      "Requirement already satisfied: blis<0.8.0,>=0.7.8 in c:\\users\\kes\\appdata\\local\\programs\\python\\python310\\lib\\site-packages (from thinc<8.2.0,>=8.1.0->spacy<3.5.0,>=3.4.1->en-core-web-trf==3.4.1) (0.7.9)\n",
      "Requirement already satisfied: colorama in c:\\users\\kes\\appdata\\local\\programs\\python\\python310\\lib\\site-packages (from tqdm<5.0.0,>=4.38.0->spacy<3.5.0,>=3.4.1->en-core-web-trf==3.4.1) (0.4.5)\n",
      "Requirement already satisfied: pyyaml>=5.1 in c:\\users\\kes\\appdata\\local\\programs\\python\\python310\\lib\\site-packages (from transformers<4.22.0,>=3.4.0->spacy-transformers<1.2.0,>=1.1.2->en-core-web-trf==3.4.1) (6.0)\n",
      "Requirement already satisfied: tokenizers!=0.11.3,<0.13,>=0.11.1 in c:\\users\\kes\\appdata\\local\\programs\\python\\python310\\lib\\site-packages (from transformers<4.22.0,>=3.4.0->spacy-transformers<1.2.0,>=1.1.2->en-core-web-trf==3.4.1) (0.12.1)\n",
      "Requirement already satisfied: regex!=2019.12.17 in c:\\users\\kes\\appdata\\local\\programs\\python\\python310\\lib\\site-packages (from transformers<4.22.0,>=3.4.0->spacy-transformers<1.2.0,>=1.1.2->en-core-web-trf==3.4.1) (2022.9.13)\n",
      "Requirement already satisfied: huggingface-hub<1.0,>=0.1.0 in c:\\users\\kes\\appdata\\local\\programs\\python\\python310\\lib\\site-packages (from transformers<4.22.0,>=3.4.0->spacy-transformers<1.2.0,>=1.1.2->en-core-web-trf==3.4.1) (0.10.0)\n",
      "Requirement already satisfied: filelock in c:\\users\\kes\\appdata\\local\\programs\\python\\python310\\lib\\site-packages (from transformers<4.22.0,>=3.4.0->spacy-transformers<1.2.0,>=1.1.2->en-core-web-trf==3.4.1) (3.8.0)\n",
      "Requirement already satisfied: click<9.0.0,>=7.1.1 in c:\\users\\kes\\appdata\\local\\programs\\python\\python310\\lib\\site-packages (from typer<0.8.0,>=0.3.0->spacy<3.5.0,>=3.4.1->en-core-web-trf==3.4.1) (8.1.3)\n",
      "Requirement already satisfied: MarkupSafe>=2.0 in c:\\users\\kes\\appdata\\local\\programs\\python\\python310\\lib\\site-packages (from jinja2->spacy<3.5.0,>=3.4.1->en-core-web-trf==3.4.1) (2.1.1)\n",
      "✔ Download and installation successful\n",
      "You can now load the package via spacy.load('en_core_web_trf')\n"
     ]
    },
    {
     "name": "stderr",
     "output_type": "stream",
     "text": [
      "c:\\Users\\kes\\AppData\\Local\\Programs\\Python\\Python310\\lib\\site-packages\\cupy\\_environment.py:437: UserWarning: \n",
      "--------------------------------------------------------------------------------\n",
      "\n",
      "  CuPy may not function correctly because multiple CuPy packages are installed\n",
      "  in your environment:\n",
      "\n",
      "    cupy-cuda112, cupy-cuda113\n",
      "\n",
      "  Follow these steps to resolve this issue:\n",
      "\n",
      "    1. For all packages listed above, run the following command to remove all\n",
      "       existing CuPy installations:\n",
      "\n",
      "         $ pip uninstall <package_name>\n",
      "\n",
      "      If you previously installed CuPy via conda, also run the following:\n",
      "\n",
      "         $ conda uninstall cupy\n",
      "\n",
      "    2. Install the appropriate CuPy package.\n",
      "       Refer to the Installation Guide for detailed instructions.\n",
      "\n",
      "         https://docs.cupy.dev/en/stable/install.html\n",
      "\n",
      "--------------------------------------------------------------------------------\n",
      "\n",
      "  warnings.warn(f'''\n"
     ]
    }
   ],
   "source": [
    "# ! python -m spacy download en_core_web_trf"
   ]
  },
  {
   "cell_type": "code",
   "execution_count": 49,
   "metadata": {},
   "outputs": [
    {
     "name": "stdout",
     "output_type": "stream",
     "text": [
      "Requirement already satisfied: sentence_transformers in c:\\users\\kes\\appdata\\local\\programs\\python\\python310\\lib\\site-packages (2.2.2)\n",
      "Requirement already satisfied: torchvision in c:\\users\\kes\\appdata\\local\\programs\\python\\python310\\lib\\site-packages (from sentence_transformers) (0.13.1+cu116)\n",
      "Requirement already satisfied: numpy in c:\\users\\kes\\appdata\\local\\programs\\python\\python310\\lib\\site-packages (from sentence_transformers) (1.23.3)\n",
      "Requirement already satisfied: huggingface-hub>=0.4.0 in c:\\users\\kes\\appdata\\local\\programs\\python\\python310\\lib\\site-packages (from sentence_transformers) (0.10.0)\n",
      "Requirement already satisfied: torch>=1.6.0 in c:\\users\\kes\\appdata\\local\\programs\\python\\python310\\lib\\site-packages (from sentence_transformers) (1.12.1+cu116)\n",
      "Requirement already satisfied: scipy in c:\\users\\kes\\appdata\\local\\programs\\python\\python310\\lib\\site-packages (from sentence_transformers) (1.9.1)\n",
      "Requirement already satisfied: nltk in c:\\users\\kes\\appdata\\local\\programs\\python\\python310\\lib\\site-packages (from sentence_transformers) (3.7)\n",
      "Requirement already satisfied: sentencepiece in c:\\users\\kes\\appdata\\local\\programs\\python\\python310\\lib\\site-packages (from sentence_transformers) (0.1.97)\n",
      "Requirement already satisfied: tqdm in c:\\users\\kes\\appdata\\local\\programs\\python\\python310\\lib\\site-packages (from sentence_transformers) (4.64.1)\n",
      "Requirement already satisfied: scikit-learn in c:\\users\\kes\\appdata\\local\\programs\\python\\python310\\lib\\site-packages (from sentence_transformers) (1.1.2)\n",
      "Requirement already satisfied: transformers<5.0.0,>=4.6.0 in c:\\users\\kes\\appdata\\local\\programs\\python\\python310\\lib\\site-packages (from sentence_transformers) (4.21.3)\n",
      "Requirement already satisfied: requests in c:\\users\\kes\\appdata\\local\\programs\\python\\python310\\lib\\site-packages (from huggingface-hub>=0.4.0->sentence_transformers) (2.28.1)\n",
      "Requirement already satisfied: filelock in c:\\users\\kes\\appdata\\local\\programs\\python\\python310\\lib\\site-packages (from huggingface-hub>=0.4.0->sentence_transformers) (3.8.0)\n",
      "Requirement already satisfied: pyyaml>=5.1 in c:\\users\\kes\\appdata\\local\\programs\\python\\python310\\lib\\site-packages (from huggingface-hub>=0.4.0->sentence_transformers) (6.0)\n",
      "Requirement already satisfied: typing-extensions>=3.7.4.3 in c:\\users\\kes\\appdata\\local\\programs\\python\\python310\\lib\\site-packages (from huggingface-hub>=0.4.0->sentence_transformers) (4.4.0)\n",
      "Requirement already satisfied: packaging>=20.9 in c:\\users\\kes\\appdata\\local\\programs\\python\\python310\\lib\\site-packages (from huggingface-hub>=0.4.0->sentence_transformers) (21.3)\n",
      "Requirement already satisfied: tokenizers!=0.11.3,<0.13,>=0.11.1 in c:\\users\\kes\\appdata\\local\\programs\\python\\python310\\lib\\site-packages (from transformers<5.0.0,>=4.6.0->sentence_transformers) (0.12.1)\n",
      "Requirement already satisfied: regex!=2019.12.17 in c:\\users\\kes\\appdata\\local\\programs\\python\\python310\\lib\\site-packages (from transformers<5.0.0,>=4.6.0->sentence_transformers) (2022.9.13)\n",
      "Requirement already satisfied: colorama in c:\\users\\kes\\appdata\\local\\programs\\python\\python310\\lib\\site-packages (from tqdm->sentence_transformers) (0.4.5)\n",
      "Requirement already satisfied: click in c:\\users\\kes\\appdata\\local\\programs\\python\\python310\\lib\\site-packages (from nltk->sentence_transformers) (8.1.3)\n",
      "Requirement already satisfied: joblib in c:\\users\\kes\\appdata\\local\\programs\\python\\python310\\lib\\site-packages (from nltk->sentence_transformers) (1.2.0)\n",
      "Requirement already satisfied: threadpoolctl>=2.0.0 in c:\\users\\kes\\appdata\\local\\programs\\python\\python310\\lib\\site-packages (from scikit-learn->sentence_transformers) (3.1.0)\n",
      "Requirement already satisfied: pillow!=8.3.*,>=5.3.0 in c:\\users\\kes\\appdata\\local\\programs\\python\\python310\\lib\\site-packages (from torchvision->sentence_transformers) (9.3.0)\n",
      "Requirement already satisfied: pyparsing!=3.0.5,>=2.0.2 in c:\\users\\kes\\appdata\\local\\programs\\python\\python310\\lib\\site-packages (from packaging>=20.9->huggingface-hub>=0.4.0->sentence_transformers) (3.0.9)\n",
      "Requirement already satisfied: charset-normalizer<3,>=2 in c:\\users\\kes\\appdata\\local\\programs\\python\\python310\\lib\\site-packages (from requests->huggingface-hub>=0.4.0->sentence_transformers) (2.1.1)\n",
      "Requirement already satisfied: idna<4,>=2.5 in c:\\users\\kes\\appdata\\local\\programs\\python\\python310\\lib\\site-packages (from requests->huggingface-hub>=0.4.0->sentence_transformers) (3.4)\n",
      "Requirement already satisfied: certifi>=2017.4.17 in c:\\users\\kes\\appdata\\local\\programs\\python\\python310\\lib\\site-packages (from requests->huggingface-hub>=0.4.0->sentence_transformers) (2022.9.24)\n",
      "Requirement already satisfied: urllib3<1.27,>=1.21.1 in c:\\users\\kes\\appdata\\local\\programs\\python\\python310\\lib\\site-packages (from requests->huggingface-hub>=0.4.0->sentence_transformers) (1.26.12)\n"
     ]
    }
   ],
   "source": [
    "# ! pip install sentence_transformers"
   ]
  },
  {
   "cell_type": "code",
   "execution_count": 50,
   "metadata": {},
   "outputs": [
    {
     "name": "stdout",
     "output_type": "stream",
     "text": [
      "Requirement already satisfied: simpletransformers in c:\\users\\kes\\appdata\\local\\programs\\python\\python310\\lib\\site-packages (0.63.9)\n",
      "Requirement already satisfied: wandb in c:\\users\\kes\\appdata\\local\\programs\\python\\python310\\lib\\site-packages (0.13.5)\n",
      "Requirement already satisfied: pytorch-lightning in c:\\users\\kes\\appdata\\local\\programs\\python\\python310\\lib\\site-packages (1.8.3.post1)\n",
      "Requirement already satisfied: requests in c:\\users\\kes\\appdata\\local\\programs\\python\\python310\\lib\\site-packages (from simpletransformers) (2.28.1)\n",
      "Requirement already satisfied: regex in c:\\users\\kes\\appdata\\local\\programs\\python\\python310\\lib\\site-packages (from simpletransformers) (2022.9.13)\n",
      "Requirement already satisfied: seqeval in c:\\users\\kes\\appdata\\local\\programs\\python\\python310\\lib\\site-packages (from simpletransformers) (1.2.2)\n",
      "Requirement already satisfied: numpy in c:\\users\\kes\\appdata\\local\\programs\\python\\python310\\lib\\site-packages (from simpletransformers) (1.23.3)\n",
      "Requirement already satisfied: transformers>=4.6.0 in c:\\users\\kes\\appdata\\local\\programs\\python\\python310\\lib\\site-packages (from simpletransformers) (4.21.3)\n",
      "Requirement already satisfied: tqdm>=4.47.0 in c:\\users\\kes\\appdata\\local\\programs\\python\\python310\\lib\\site-packages (from simpletransformers) (4.64.1)\n",
      "Requirement already satisfied: datasets in c:\\users\\kes\\appdata\\local\\programs\\python\\python310\\lib\\site-packages (from simpletransformers) (2.5.2)\n",
      "Requirement already satisfied: scikit-learn in c:\\users\\kes\\appdata\\local\\programs\\python\\python310\\lib\\site-packages (from simpletransformers) (1.1.2)\n",
      "Requirement already satisfied: pandas in c:\\users\\kes\\appdata\\local\\programs\\python\\python310\\lib\\site-packages (from simpletransformers) (1.5.0)\n",
      "Requirement already satisfied: scipy in c:\\users\\kes\\appdata\\local\\programs\\python\\python310\\lib\\site-packages (from simpletransformers) (1.9.1)\n",
      "Requirement already satisfied: streamlit in c:\\users\\kes\\appdata\\local\\programs\\python\\python310\\lib\\site-packages (from simpletransformers) (1.15.1)\n",
      "Requirement already satisfied: sentencepiece in c:\\users\\kes\\appdata\\local\\programs\\python\\python310\\lib\\site-packages (from simpletransformers) (0.1.97)\n",
      "Requirement already satisfied: tokenizers in c:\\users\\kes\\appdata\\local\\programs\\python\\python310\\lib\\site-packages (from simpletransformers) (0.12.1)\n",
      "Requirement already satisfied: tensorboard in c:\\users\\kes\\appdata\\local\\programs\\python\\python310\\lib\\site-packages (from simpletransformers) (2.10.1)\n",
      "Requirement already satisfied: promise<3,>=2.0 in c:\\users\\kes\\appdata\\local\\programs\\python\\python310\\lib\\site-packages (from wandb) (2.3)\n",
      "Requirement already satisfied: PyYAML in c:\\users\\kes\\appdata\\local\\programs\\python\\python310\\lib\\site-packages (from wandb) (6.0)\n",
      "Requirement already satisfied: shortuuid>=0.5.0 in c:\\users\\kes\\appdata\\local\\programs\\python\\python310\\lib\\site-packages (from wandb) (1.0.10)\n",
      "Requirement already satisfied: GitPython>=1.0.0 in c:\\users\\kes\\appdata\\local\\programs\\python\\python310\\lib\\site-packages (from wandb) (3.1.29)\n",
      "Requirement already satisfied: psutil>=5.0.0 in c:\\users\\kes\\appdata\\local\\programs\\python\\python310\\lib\\site-packages (from wandb) (5.9.2)\n",
      "Requirement already satisfied: sentry-sdk>=1.0.0 in c:\\users\\kes\\appdata\\local\\programs\\python\\python310\\lib\\site-packages (from wandb) (1.11.1)\n",
      "Requirement already satisfied: six>=1.13.0 in c:\\users\\kes\\appdata\\local\\programs\\python\\python310\\lib\\site-packages (from wandb) (1.16.0)\n",
      "Requirement already satisfied: pathtools in c:\\users\\kes\\appdata\\local\\programs\\python\\python310\\lib\\site-packages (from wandb) (0.1.2)\n",
      "Requirement already satisfied: Click!=8.0.0,>=7.0 in c:\\users\\kes\\appdata\\local\\programs\\python\\python310\\lib\\site-packages (from wandb) (8.1.3)\n",
      "Requirement already satisfied: setuptools in c:\\users\\kes\\appdata\\local\\programs\\python\\python310\\lib\\site-packages (from wandb) (65.6.3)\n",
      "Requirement already satisfied: protobuf!=4.0.*,!=4.21.0,<5,>=3.12.0 in c:\\users\\kes\\appdata\\local\\programs\\python\\python310\\lib\\site-packages (from wandb) (3.19.6)\n",
      "Requirement already satisfied: setproctitle in c:\\users\\kes\\appdata\\local\\programs\\python\\python310\\lib\\site-packages (from wandb) (1.3.2)\n",
      "Requirement already satisfied: docker-pycreds>=0.4.0 in c:\\users\\kes\\appdata\\local\\programs\\python\\python310\\lib\\site-packages (from wandb) (0.4.0)\n",
      "Requirement already satisfied: lightning-utilities==0.3.* in c:\\users\\kes\\appdata\\local\\programs\\python\\python310\\lib\\site-packages (from pytorch-lightning) (0.3.0)\n",
      "Requirement already satisfied: tensorboardX>=2.2 in c:\\users\\kes\\appdata\\local\\programs\\python\\python310\\lib\\site-packages (from pytorch-lightning) (2.5.1)\n",
      "Requirement already satisfied: packaging>=17.0 in c:\\users\\kes\\appdata\\local\\programs\\python\\python310\\lib\\site-packages (from pytorch-lightning) (21.3)\n",
      "Requirement already satisfied: typing-extensions>=4.0.0 in c:\\users\\kes\\appdata\\local\\programs\\python\\python310\\lib\\site-packages (from pytorch-lightning) (4.4.0)\n",
      "Requirement already satisfied: torch>=1.9.* in c:\\users\\kes\\appdata\\local\\programs\\python\\python310\\lib\\site-packages (from pytorch-lightning) (1.12.1+cu116)\n",
      "Requirement already satisfied: torchmetrics>=0.7.0 in c:\\users\\kes\\appdata\\local\\programs\\python\\python310\\lib\\site-packages (from pytorch-lightning) (0.10.3)\n",
      "Requirement already satisfied: fsspec[http]>2021.06.0 in c:\\users\\kes\\appdata\\local\\programs\\python\\python310\\lib\\site-packages (from pytorch-lightning) (2022.8.2)\n",
      "Requirement already satisfied: fire in c:\\users\\kes\\appdata\\local\\programs\\python\\python310\\lib\\site-packages (from lightning-utilities==0.3.*->pytorch-lightning) (0.4.0)\n",
      "Requirement already satisfied: colorama in c:\\users\\kes\\appdata\\local\\programs\\python\\python310\\lib\\site-packages (from Click!=8.0.0,>=7.0->wandb) (0.4.5)\n",
      "Requirement already satisfied: aiohttp!=4.0.0a0,!=4.0.0a1 in c:\\users\\kes\\appdata\\local\\programs\\python\\python310\\lib\\site-packages (from fsspec[http]>2021.06.0->pytorch-lightning) (3.8.3)\n",
      "Requirement already satisfied: gitdb<5,>=4.0.1 in c:\\users\\kes\\appdata\\local\\programs\\python\\python310\\lib\\site-packages (from GitPython>=1.0.0->wandb) (4.0.10)\n",
      "Requirement already satisfied: pyparsing!=3.0.5,>=2.0.2 in c:\\users\\kes\\appdata\\local\\programs\\python\\python310\\lib\\site-packages (from packaging>=17.0->pytorch-lightning) (3.0.9)\n",
      "Requirement already satisfied: idna<4,>=2.5 in c:\\users\\kes\\appdata\\local\\programs\\python\\python310\\lib\\site-packages (from requests->simpletransformers) (3.4)\n",
      "Requirement already satisfied: certifi>=2017.4.17 in c:\\users\\kes\\appdata\\local\\programs\\python\\python310\\lib\\site-packages (from requests->simpletransformers) (2022.9.24)\n",
      "Requirement already satisfied: charset-normalizer<3,>=2 in c:\\users\\kes\\appdata\\local\\programs\\python\\python310\\lib\\site-packages (from requests->simpletransformers) (2.1.1)\n",
      "Requirement already satisfied: urllib3<1.27,>=1.21.1 in c:\\users\\kes\\appdata\\local\\programs\\python\\python310\\lib\\site-packages (from requests->simpletransformers) (1.26.12)\n",
      "Requirement already satisfied: filelock in c:\\users\\kes\\appdata\\local\\programs\\python\\python310\\lib\\site-packages (from transformers>=4.6.0->simpletransformers) (3.8.0)\n",
      "Requirement already satisfied: huggingface-hub<1.0,>=0.1.0 in c:\\users\\kes\\appdata\\local\\programs\\python\\python310\\lib\\site-packages (from transformers>=4.6.0->simpletransformers) (0.10.0)\n",
      "Requirement already satisfied: responses<0.19 in c:\\users\\kes\\appdata\\local\\programs\\python\\python310\\lib\\site-packages (from datasets->simpletransformers) (0.18.0)\n",
      "Requirement already satisfied: dill<0.3.6 in c:\\users\\kes\\appdata\\local\\programs\\python\\python310\\lib\\site-packages (from datasets->simpletransformers) (0.3.5.1)\n",
      "Requirement already satisfied: pyarrow>=6.0.0 in c:\\users\\kes\\appdata\\local\\programs\\python\\python310\\lib\\site-packages (from datasets->simpletransformers) (9.0.0)\n",
      "Requirement already satisfied: multiprocess in c:\\users\\kes\\appdata\\local\\programs\\python\\python310\\lib\\site-packages (from datasets->simpletransformers) (0.70.13)\n",
      "Requirement already satisfied: xxhash in c:\\users\\kes\\appdata\\local\\programs\\python\\python310\\lib\\site-packages (from datasets->simpletransformers) (3.0.0)\n",
      "Requirement already satisfied: python-dateutil>=2.8.1 in c:\\users\\kes\\appdata\\local\\programs\\python\\python310\\lib\\site-packages (from pandas->simpletransformers) (2.8.2)\n",
      "Requirement already satisfied: pytz>=2020.1 in c:\\users\\kes\\appdata\\local\\programs\\python\\python310\\lib\\site-packages (from pandas->simpletransformers) (2022.4)\n",
      "Requirement already satisfied: threadpoolctl>=2.0.0 in c:\\users\\kes\\appdata\\local\\programs\\python\\python310\\lib\\site-packages (from scikit-learn->simpletransformers) (3.1.0)\n",
      "Requirement already satisfied: joblib>=1.0.0 in c:\\users\\kes\\appdata\\local\\programs\\python\\python310\\lib\\site-packages (from scikit-learn->simpletransformers) (1.2.0)\n",
      "Requirement already satisfied: pydeck>=0.1.dev5 in c:\\users\\kes\\appdata\\local\\programs\\python\\python310\\lib\\site-packages (from streamlit->simpletransformers) (0.8.0)\n",
      "Requirement already satisfied: toml in c:\\users\\kes\\appdata\\local\\programs\\python\\python310\\lib\\site-packages (from streamlit->simpletransformers) (0.10.2)\n",
      "Requirement already satisfied: importlib-metadata>=1.4 in c:\\users\\kes\\appdata\\local\\programs\\python\\python310\\lib\\site-packages (from streamlit->simpletransformers) (5.0.0)\n",
      "Requirement already satisfied: pympler>=0.9 in c:\\users\\kes\\appdata\\local\\programs\\python\\python310\\lib\\site-packages (from streamlit->simpletransformers) (1.0.1)\n",
      "Requirement already satisfied: altair>=3.2.0 in c:\\users\\kes\\appdata\\local\\programs\\python\\python310\\lib\\site-packages (from streamlit->simpletransformers) (4.2.0)\n",
      "Requirement already satisfied: blinker>=1.0.0 in c:\\users\\kes\\appdata\\local\\programs\\python\\python310\\lib\\site-packages (from streamlit->simpletransformers) (1.5)\n",
      "Requirement already satisfied: validators>=0.2 in c:\\users\\kes\\appdata\\local\\programs\\python\\python310\\lib\\site-packages (from streamlit->simpletransformers) (0.20.0)\n",
      "Requirement already satisfied: cachetools>=4.0 in c:\\users\\kes\\appdata\\local\\programs\\python\\python310\\lib\\site-packages (from streamlit->simpletransformers) (5.2.0)\n",
      "Requirement already satisfied: semver in c:\\users\\kes\\appdata\\local\\programs\\python\\python310\\lib\\site-packages (from streamlit->simpletransformers) (2.13.0)\n",
      "Requirement already satisfied: rich>=10.11.0 in c:\\users\\kes\\appdata\\local\\programs\\python\\python310\\lib\\site-packages (from streamlit->simpletransformers) (12.6.0)\n",
      "Requirement already satisfied: tornado>=5.0 in c:\\users\\kes\\appdata\\local\\programs\\python\\python310\\lib\\site-packages (from streamlit->simpletransformers) (6.2)\n",
      "Requirement already satisfied: pillow>=6.2.0 in c:\\users\\kes\\appdata\\local\\programs\\python\\python310\\lib\\site-packages (from streamlit->simpletransformers) (9.3.0)\n",
      "Requirement already satisfied: tzlocal>=1.1 in c:\\users\\kes\\appdata\\local\\programs\\python\\python310\\lib\\site-packages (from streamlit->simpletransformers) (4.2)\n",
      "Requirement already satisfied: watchdog in c:\\users\\kes\\appdata\\local\\programs\\python\\python310\\lib\\site-packages (from streamlit->simpletransformers) (2.1.9)\n",
      "Requirement already satisfied: google-auth<3,>=1.6.3 in c:\\users\\kes\\appdata\\local\\programs\\python\\python310\\lib\\site-packages (from tensorboard->simpletransformers) (2.12.0)\n",
      "Requirement already satisfied: google-auth-oauthlib<0.5,>=0.4.1 in c:\\users\\kes\\appdata\\local\\programs\\python\\python310\\lib\\site-packages (from tensorboard->simpletransformers) (0.4.6)\n",
      "Requirement already satisfied: markdown>=2.6.8 in c:\\users\\kes\\appdata\\local\\programs\\python\\python310\\lib\\site-packages (from tensorboard->simpletransformers) (3.4.1)\n",
      "Requirement already satisfied: tensorboard-plugin-wit>=1.6.0 in c:\\users\\kes\\appdata\\local\\programs\\python\\python310\\lib\\site-packages (from tensorboard->simpletransformers) (1.8.1)\n",
      "Requirement already satisfied: wheel>=0.26 in c:\\users\\kes\\appdata\\local\\programs\\python\\python310\\lib\\site-packages (from tensorboard->simpletransformers) (0.38.4)\n",
      "Requirement already satisfied: grpcio>=1.24.3 in c:\\users\\kes\\appdata\\local\\programs\\python\\python310\\lib\\site-packages (from tensorboard->simpletransformers) (1.49.1)\n",
      "Requirement already satisfied: tensorboard-data-server<0.7.0,>=0.6.0 in c:\\users\\kes\\appdata\\local\\programs\\python\\python310\\lib\\site-packages (from tensorboard->simpletransformers) (0.6.1)\n",
      "Requirement already satisfied: absl-py>=0.4 in c:\\users\\kes\\appdata\\local\\programs\\python\\python310\\lib\\site-packages (from tensorboard->simpletransformers) (1.2.0)\n",
      "Requirement already satisfied: werkzeug>=1.0.1 in c:\\users\\kes\\appdata\\local\\programs\\python\\python310\\lib\\site-packages (from tensorboard->simpletransformers) (2.2.2)\n",
      "Requirement already satisfied: frozenlist>=1.1.1 in c:\\users\\kes\\appdata\\local\\programs\\python\\python310\\lib\\site-packages (from aiohttp!=4.0.0a0,!=4.0.0a1->fsspec[http]>2021.06.0->pytorch-lightning) (1.3.1)\n",
      "Requirement already satisfied: multidict<7.0,>=4.5 in c:\\users\\kes\\appdata\\local\\programs\\python\\python310\\lib\\site-packages (from aiohttp!=4.0.0a0,!=4.0.0a1->fsspec[http]>2021.06.0->pytorch-lightning) (6.0.2)\n",
      "Requirement already satisfied: async-timeout<5.0,>=4.0.0a3 in c:\\users\\kes\\appdata\\local\\programs\\python\\python310\\lib\\site-packages (from aiohttp!=4.0.0a0,!=4.0.0a1->fsspec[http]>2021.06.0->pytorch-lightning) (4.0.2)\n",
      "Requirement already satisfied: attrs>=17.3.0 in c:\\users\\kes\\appdata\\local\\programs\\python\\python310\\lib\\site-packages (from aiohttp!=4.0.0a0,!=4.0.0a1->fsspec[http]>2021.06.0->pytorch-lightning) (22.1.0)\n",
      "Requirement already satisfied: yarl<2.0,>=1.0 in c:\\users\\kes\\appdata\\local\\programs\\python\\python310\\lib\\site-packages (from aiohttp!=4.0.0a0,!=4.0.0a1->fsspec[http]>2021.06.0->pytorch-lightning) (1.8.1)\n",
      "Requirement already satisfied: aiosignal>=1.1.2 in c:\\users\\kes\\appdata\\local\\programs\\python\\python310\\lib\\site-packages (from aiohttp!=4.0.0a0,!=4.0.0a1->fsspec[http]>2021.06.0->pytorch-lightning) (1.2.0)\n",
      "Requirement already satisfied: jinja2 in c:\\users\\kes\\appdata\\local\\programs\\python\\python310\\lib\\site-packages (from altair>=3.2.0->streamlit->simpletransformers) (3.1.2)\n",
      "Requirement already satisfied: toolz in c:\\users\\kes\\appdata\\local\\programs\\python\\python310\\lib\\site-packages (from altair>=3.2.0->streamlit->simpletransformers) (0.12.0)\n",
      "Requirement already satisfied: entrypoints in c:\\users\\kes\\appdata\\local\\programs\\python\\python310\\lib\\site-packages (from altair>=3.2.0->streamlit->simpletransformers) (0.4)\n",
      "Requirement already satisfied: jsonschema>=3.0 in c:\\users\\kes\\appdata\\local\\programs\\python\\python310\\lib\\site-packages (from altair>=3.2.0->streamlit->simpletransformers) (4.16.0)\n",
      "Requirement already satisfied: smmap<6,>=3.0.1 in c:\\users\\kes\\appdata\\local\\programs\\python\\python310\\lib\\site-packages (from gitdb<5,>=4.0.1->GitPython>=1.0.0->wandb) (5.0.0)\n",
      "Requirement already satisfied: rsa<5,>=3.1.4 in c:\\users\\kes\\appdata\\local\\programs\\python\\python310\\lib\\site-packages (from google-auth<3,>=1.6.3->tensorboard->simpletransformers) (4.9)\n",
      "Requirement already satisfied: pyasn1-modules>=0.2.1 in c:\\users\\kes\\appdata\\local\\programs\\python\\python310\\lib\\site-packages (from google-auth<3,>=1.6.3->tensorboard->simpletransformers) (0.2.8)\n",
      "Requirement already satisfied: requests-oauthlib>=0.7.0 in c:\\users\\kes\\appdata\\local\\programs\\python\\python310\\lib\\site-packages (from google-auth-oauthlib<0.5,>=0.4.1->tensorboard->simpletransformers) (1.3.1)\n",
      "Requirement already satisfied: zipp>=0.5 in c:\\users\\kes\\appdata\\local\\programs\\python\\python310\\lib\\site-packages (from importlib-metadata>=1.4->streamlit->simpletransformers) (3.10.0)\n",
      "Requirement already satisfied: commonmark<0.10.0,>=0.9.0 in c:\\users\\kes\\appdata\\local\\programs\\python\\python310\\lib\\site-packages (from rich>=10.11.0->streamlit->simpletransformers) (0.9.1)\n",
      "Requirement already satisfied: pygments<3.0.0,>=2.6.0 in c:\\users\\kes\\appdata\\local\\programs\\python\\python310\\lib\\site-packages (from rich>=10.11.0->streamlit->simpletransformers) (2.13.0)\n",
      "Requirement already satisfied: pytz-deprecation-shim in c:\\users\\kes\\appdata\\local\\programs\\python\\python310\\lib\\site-packages (from tzlocal>=1.1->streamlit->simpletransformers) (0.1.0.post0)\n",
      "Requirement already satisfied: tzdata in c:\\users\\kes\\appdata\\local\\programs\\python\\python310\\lib\\site-packages (from tzlocal>=1.1->streamlit->simpletransformers) (2022.6)\n",
      "Requirement already satisfied: decorator>=3.4.0 in c:\\users\\kes\\appdata\\local\\programs\\python\\python310\\lib\\site-packages (from validators>=0.2->streamlit->simpletransformers) (5.1.1)\n",
      "Requirement already satisfied: MarkupSafe>=2.1.1 in c:\\users\\kes\\appdata\\local\\programs\\python\\python310\\lib\\site-packages (from werkzeug>=1.0.1->tensorboard->simpletransformers) (2.1.1)\n",
      "Requirement already satisfied: termcolor in c:\\users\\kes\\appdata\\local\\programs\\python\\python310\\lib\\site-packages (from fire->lightning-utilities==0.3.*->pytorch-lightning) (2.0.1)\n",
      "Requirement already satisfied: pyrsistent!=0.17.0,!=0.17.1,!=0.17.2,>=0.14.0 in c:\\users\\kes\\appdata\\local\\programs\\python\\python310\\lib\\site-packages (from jsonschema>=3.0->altair>=3.2.0->streamlit->simpletransformers) (0.18.1)\n",
      "Requirement already satisfied: pyasn1<0.5.0,>=0.4.6 in c:\\users\\kes\\appdata\\local\\programs\\python\\python310\\lib\\site-packages (from pyasn1-modules>=0.2.1->google-auth<3,>=1.6.3->tensorboard->simpletransformers) (0.4.8)\n",
      "Requirement already satisfied: oauthlib>=3.0.0 in c:\\users\\kes\\appdata\\local\\programs\\python\\python310\\lib\\site-packages (from requests-oauthlib>=0.7.0->google-auth-oauthlib<0.5,>=0.4.1->tensorboard->simpletransformers) (3.2.1)\n",
      "Requirement already satisfied: transformers in c:\\users\\kes\\appdata\\local\\programs\\python\\python310\\lib\\site-packages (4.21.3)\n",
      "Collecting transformers\n",
      "  Using cached transformers-4.24.0-py3-none-any.whl (5.5 MB)\n",
      "Requirement already satisfied: torch in c:\\users\\kes\\appdata\\local\\programs\\python\\python310\\lib\\site-packages (1.12.1+cu116)\n",
      "Collecting torch\n",
      "  Using cached torch-1.13.0-cp310-cp310-win_amd64.whl (167.3 MB)\n",
      "Requirement already satisfied: sentencepiece in c:\\users\\kes\\appdata\\local\\programs\\python\\python310\\lib\\site-packages (0.1.97)\n",
      "Requirement already satisfied: huggingface-hub<1.0,>=0.10.0 in c:\\users\\kes\\appdata\\local\\programs\\python\\python310\\lib\\site-packages (from transformers) (0.10.0)\n",
      "Requirement already satisfied: packaging>=20.0 in c:\\users\\kes\\appdata\\local\\programs\\python\\python310\\lib\\site-packages (from transformers) (21.3)\n",
      "Requirement already satisfied: pyyaml>=5.1 in c:\\users\\kes\\appdata\\local\\programs\\python\\python310\\lib\\site-packages (from transformers) (6.0)\n",
      "Requirement already satisfied: filelock in c:\\users\\kes\\appdata\\local\\programs\\python\\python310\\lib\\site-packages (from transformers) (3.8.0)\n",
      "Requirement already satisfied: regex!=2019.12.17 in c:\\users\\kes\\appdata\\local\\programs\\python\\python310\\lib\\site-packages (from transformers) (2022.9.13)\n",
      "Requirement already satisfied: tqdm>=4.27 in c:\\users\\kes\\appdata\\local\\programs\\python\\python310\\lib\\site-packages (from transformers) (4.64.1)\n",
      "Requirement already satisfied: requests in c:\\users\\kes\\appdata\\local\\programs\\python\\python310\\lib\\site-packages (from transformers) (2.28.1)\n",
      "Requirement already satisfied: tokenizers!=0.11.3,<0.14,>=0.11.1 in c:\\users\\kes\\appdata\\local\\programs\\python\\python310\\lib\\site-packages (from transformers) (0.12.1)\n",
      "Requirement already satisfied: numpy>=1.17 in c:\\users\\kes\\appdata\\local\\programs\\python\\python310\\lib\\site-packages (from transformers) (1.23.3)\n",
      "Requirement already satisfied: typing-extensions in c:\\users\\kes\\appdata\\local\\programs\\python\\python310\\lib\\site-packages (from torch) (4.4.0)\n",
      "Requirement already satisfied: pyparsing!=3.0.5,>=2.0.2 in c:\\users\\kes\\appdata\\local\\programs\\python\\python310\\lib\\site-packages (from packaging>=20.0->transformers) (3.0.9)\n",
      "Requirement already satisfied: colorama in c:\\users\\kes\\appdata\\local\\programs\\python\\python310\\lib\\site-packages (from tqdm>=4.27->transformers) (0.4.5)\n",
      "Requirement already satisfied: idna<4,>=2.5 in c:\\users\\kes\\appdata\\local\\programs\\python\\python310\\lib\\site-packages (from requests->transformers) (3.4)\n",
      "Requirement already satisfied: charset-normalizer<3,>=2 in c:\\users\\kes\\appdata\\local\\programs\\python\\python310\\lib\\site-packages (from requests->transformers) (2.1.1)\n",
      "Requirement already satisfied: certifi>=2017.4.17 in c:\\users\\kes\\appdata\\local\\programs\\python\\python310\\lib\\site-packages (from requests->transformers) (2022.9.24)\n",
      "Requirement already satisfied: urllib3<1.27,>=1.21.1 in c:\\users\\kes\\appdata\\local\\programs\\python\\python310\\lib\\site-packages (from requests->transformers) (1.26.12)\n",
      "Installing collected packages: torch, transformers\n",
      "  Attempting uninstall: torch\n",
      "    Found existing installation: torch 1.12.1+cu116\n",
      "    Uninstalling torch-1.12.1+cu116:\n",
      "      Successfully uninstalled torch-1.12.1+cu116\n"
     ]
    },
    {
     "name": "stderr",
     "output_type": "stream",
     "text": [
      "ERROR: Could not install packages due to an OSError: [WinError 5] Access is denied: 'C:\\\\Users\\\\kes\\\\AppData\\\\Local\\\\Programs\\\\Python\\\\Python310\\\\Lib\\\\site-packages\\\\~orch\\\\lib\\\\asmjit.dll'\n",
      "Consider using the `--user` option or check the permissions.\n",
      "\n"
     ]
    },
    {
     "name": "stdout",
     "output_type": "stream",
     "text": [
      "Requirement already satisfied: summa in c:\\users\\kes\\appdata\\local\\programs\\python\\python310\\lib\\site-packages (1.2.0)\n",
      "Requirement already satisfied: scipy>=0.19 in c:\\users\\kes\\appdata\\local\\programs\\python\\python310\\lib\\site-packages (from summa) (1.9.1)\n",
      "Requirement already satisfied: numpy<1.25.0,>=1.18.5 in c:\\users\\kes\\appdata\\local\\programs\\python\\python310\\lib\\site-packages (from scipy>=0.19->summa) (1.23.3)\n"
     ]
    }
   ],
   "source": [
    "# ! pip install transformers -q\n",
    "# ! pip install simpletransformers wandb pytorch-lightning\n",
    "# ! pip install -U transformers torch sentencepiece\n",
    "# ! pip install -U summa"
   ]
  },
  {
   "cell_type": "code",
   "execution_count": 51,
   "metadata": {},
   "outputs": [],
   "source": [
    "import spacy\n",
    "spacy.prefer_gpu()\n",
    "nlp = spacy.load('en_core_web_sm')"
   ]
  },
  {
   "cell_type": "code",
   "execution_count": 1,
   "metadata": {},
   "outputs": [],
   "source": [
    "import pandas as pd\n",
    "import numpy as np\n",
    "import re\n",
    "import nltk\n",
    "from nltk.corpus import stopwords\n",
    "\n",
    "import string\n",
    "\n",
    "import gensim\n",
    "import gensim.downloader as api\n",
    "from sklearn.metrics.pairwise import cosine_similarity\n",
    "\n",
    "from sklearn.feature_extraction.text import TfidfVectorizer\n",
    "from sklearn.metrics.pairwise import linear_kernel\n",
    "\n",
    "# ! conda install -c conda-forge sentence-transformers\n",
    "\n",
    "from sentence_transformers import SentenceTransformer\n",
    "\n",
    "from gensim.models import Word2Vec\n",
    "\n",
    "# ! pip install transformers -q\n",
    "# ! pip install simpletransformers wandb pytorch-lightning\n",
    "# ! pip install -U transformers torch sentencepiece\n",
    "# ! pip install -U summa\n"
   ]
  },
  {
   "cell_type": "markdown",
   "metadata": {},
   "source": [
    "# $\\textbf{All Pre-processing Functions on Top}$"
   ]
  },
  {
   "cell_type": "code",
   "execution_count": 53,
   "metadata": {},
   "outputs": [],
   "source": [
    "def read_data(path):\n",
    "    df = pd.read_pickle(path,compression = 'zstd')\n",
    "    df = df.dropna(how=\"any\")\n",
    "    return df\n",
    "\n",
    "# def tokenize_and_remove_stopwords(X):\n",
    "#     stop_words = set(stopwords.words('english'))\n",
    "#     return X['tokens'].apply(lambda x: [word for word in x if word not in stop_words])\n",
    "\n",
    "\n",
    "def preprocess(df):\n",
    "\n",
    "    def remove_space(match_obj):\n",
    "        if match_obj.group() is not None:\n",
    "            return match_obj.group().replace(' ','|')\n",
    "\n",
    "    df['Text'] = df['Text'].str.replace(r'[\\S]+\\.(net|com|org|info|edu|gov|uk|de|ca|jp|fr|au|us|ru|ch|it|nel|se|no|es|mil)[\\S]*\\s?', 'URL', regex=True)\n",
    "\n",
    "\n",
    "    # remove '|' so we can use it as a unique space seperator for cases\n",
    "    df['Text'] = df['Text'].str.replace(r'|', '', regex=True)\n",
    "\n",
    "\n",
    "    df['Text'] = df['Text'].str.replace(r'U\\. S\\. C\\.', 'U.S.C.', regex=True)\n",
    "    df['Text'] = df['Text'].str.replace(r'U\\. S\\.', 'U.S.', regex=True)\n",
    "    df['Text'] = df['Text'].str.replace(r'No\\. ', 'No.', regex=True)\n",
    "    r\"F\\.( \\d+-?\\w*,?)+( \\([A-Z]*\\d* ?\\d*\\),?)*\"\n",
    "    # df['Text'] = df['Text'].str.replace(r\"F\\.( \\d+-?\\w*,?)+( \\([A-Z]*\\d* ?\\d*\\),?)*\", remove_space, regex=True)\n",
    "    text = []\n",
    "    for element in df['Text']:\n",
    "        element = re.sub(r\"\\bF\\.( \\d+-?\\w*,?)+( \\([A-Z]*\\d* ?\\d*\\),?)*\", remove_space, element)\n",
    "        element = re.sub(r\"\\b(\\d+ )?U\\.S\\.C\\. [A-Z]+\\d*\", remove_space, element)\n",
    "        element = re.sub(r\"\\b(\\d+ )?U\\.S\\.(( |-)\\(?\\d+,?\\)?)+\", remove_space, element)\n",
    "        element = re.sub(r\"\\bArt\\. [A-Z]+,?( [A-Z]\\d+)?\", remove_space, element)\n",
    "        element = re.sub(r\"\\b\\d{4} [A-Z]+ \\d+,?( \\*\\d*)?\", remove_space, element)\n",
    "        element = re.sub(r\"\\bn\\.( \\d+)+( \\(.+?\\))?\", remove_space, element)\n",
    "        element = re.sub(r\"\\bPp\\. [0-9\\-]+\", remove_space, element)\n",
    "        # element = re.sub(r\"\\b([A-Z]+[a-z]*[A-Z\\.']+,? )+v\\.( [A-Z]+[a-z]*[A-Z\\.']+,?)+ ?\", remove_space, element)\n",
    "        element = re.sub(r\"\\b\\d+ U\\.S.[_,\\- ]*\\(\\d+\\)\", remove_space, element)\n",
    "        element = re.sub(r\"([A-Z0-9]+\\S+)( (([A-Z0-9]+\\S+)|(at)))+(( \\(\\d+\\))|(?! [A-Z]?[a-z]+))(?![A-Z]?[a-z]+)\", remove_space, element)\n",
    "        text.append(element)\n",
    "    df['Text'] = text\n",
    "    # Disabled as legal cases need punctuations to work\n",
    "    # # remove non-alphabetical\n",
    "    # df['Text'] = df['Text'].str.replace('[^a-zA-Z0-9\\'\\\".!()]', ' ', regex=True).str.strip()\n",
    "\n",
    "\n",
    "    # remove extra spaces\n",
    "    df['Text'] = df['Text'].str.replace(' +', ' ', regex=True).str.strip()\n",
    "\n",
    "\n",
    "    return df\n",
    "\n",
    "def process_VS_data(df):\n",
    "\n",
    "    #assert tokens column is present\n",
    "    assert 'tokens' in df.columns\n",
    "\n",
    "    new_tokens = []\n",
    "    for case in df['tokens']:\n",
    "        new_token = []\n",
    "        case_found = False\n",
    "        for tokenIdx in range(len(case)):\n",
    "            new_token.append(case[tokenIdx])\n",
    "            # Handling cases\n",
    "            #United States v. Rostenkowski, 59 F. 3d 1291, 1297 (CADC 1995).\n",
    "            #United States Supreme Court AARON J. SCHOCK v. UNITED STATES(2019) No. 18-406\n",
    "            if case[tokenIdx] == 'v.':\n",
    "                case_found = True\n",
    "            elif case_found and (case[tokenIdx].startswith('No.') or case[tokenIdx][0].islower() or case[tokenIdx][0].isnumeric() or case[tokenIdx-1].lower().startswith('al.')):\n",
    "                # we need to deal with this\n",
    "                last_word = new_token.pop()\n",
    "                castStr = ''\n",
    "                while len(new_token) > 0 and (new_token[-1] == 'v.' or (new_token[-1].lower() != 'see' and new_token[-1][0].isupper())) :\n",
    "                    castStr =  new_token.pop() + '|' + castStr\n",
    "                new_token.append(castStr[:-1])\n",
    "                case_found = False\n",
    "                new_token.append(last_word)\n",
    "        new_tokens.append(new_token)\n",
    "    df['tokens'] = new_tokens\n",
    "\n",
    "    # change all tokens to lower case\n",
    "    # df['tokens'] = df['tokens'].apply(lambda x: [item.lower() for item in x])\n",
    "\n",
    "    return df\n"
   ]
  },
  {
   "cell_type": "code",
   "execution_count": 54,
   "metadata": {},
   "outputs": [],
   "source": [
    "# # read data\n",
    "# path = 'data/all_year.pkl.zst'\n",
    "# df = read_data(path)"
   ]
  },
  {
   "cell_type": "code",
   "execution_count": 55,
   "metadata": {},
   "outputs": [],
   "source": [
    "# read data\n",
    "path = 'data/2021.pkl.zst'\n",
    "df = read_data(path)"
   ]
  },
  {
   "cell_type": "markdown",
   "metadata": {},
   "source": [
    "## Pre-processing here"
   ]
  },
  {
   "cell_type": "code",
   "execution_count": 56,
   "metadata": {},
   "outputs": [],
   "source": [
    "df = preprocess(df)\n",
    "#split the processed text into tokens for further processing with pipes | as the combinator\n",
    "df['tokens'] = df['Text'].str.split() \n",
    "df['tokens'] = process_VS_data(df)['tokens']\n",
    "df['Text'] = df['tokens'].apply(lambda x: ' '.join(x))"
   ]
  },
  {
   "cell_type": "code",
   "execution_count": null,
   "metadata": {},
   "outputs": [],
   "source": [
    "print(df['Text'][0])"
   ]
  },
  {
   "cell_type": "code",
   "execution_count": 58,
   "metadata": {},
   "outputs": [
    {
     "data": {
      "text/plain": [
       "0      (United|States|Supreme|Court|FEDERAL|COMMUNICA...\n",
       "1      (United|States|Supreme|Court|AGENCY|FOR|INTERN...\n",
       "2      (United|States|Supreme|Court|ALLEN|ET|AL.|v.|C...\n",
       "3      (United|States|Supreme|Court|AMERICANS|FOR|PRO...\n",
       "4      (United|States|Supreme|Court|AMG|CAPITAL|MANAG...\n",
       "                             ...                        \n",
       "134    (United|States|Supreme|Court|WHOLE|WOMAN'S|HEA...\n",
       "135    (United|States|Supreme|Court|WHOLE|WOMAN'S|HEA...\n",
       "136    (United|States|Supreme|Court|WILLIAM|P.|BARR,|...\n",
       "137    (United|States|Supreme|Court|WILLIAM|P.|BARR,|...\n",
       "138    (United|States|Supreme|Court|YELLEN,|SECRETARY...\n",
       "Name: nlp, Length: 139, dtype: object"
      ]
     },
     "execution_count": 58,
     "metadata": {},
     "output_type": "execute_result"
    }
   ],
   "source": [
    "#apply nlp to the new text\n",
    "df['nlp'] = df['Text'].apply(lambda x: nlp(x))\n",
    "df['nlp']"
   ]
  },
  {
   "cell_type": "code",
   "execution_count": null,
   "metadata": {},
   "outputs": [],
   "source": [
    "df['nlp'][0]"
   ]
  },
  {
   "cell_type": "code",
   "execution_count": 60,
   "metadata": {},
   "outputs": [],
   "source": [
    "\n",
    "#for each nlp object, get lemma and pos\n",
    "df['lemma'] = df['nlp'].apply(lambda x: [token.lemma_ for token in x])\n",
    "# remove punctuations from lemma\n",
    "df['lemma'] = df['lemma'].apply(lambda x: [token for token in x if token not in string.punctuation])\n",
    "# create a new column and convert lemma to string\n",
    "df['final_text'] = df['lemma'].apply(lambda x: ' '.join(x))\n",
    "# remove '\\'s' from final_text\n",
    "df['final_text'] = df['final_text'].str.replace(r'\\'s', '', regex=True)"
   ]
  },
  {
   "cell_type": "code",
   "execution_count": null,
   "metadata": {},
   "outputs": [],
   "source": [
    "df['final_text'][0]"
   ]
  },
  {
   "cell_type": "code",
   "execution_count": null,
   "metadata": {},
   "outputs": [],
   "source": [
    "df['lemma'][0]"
   ]
  },
  {
   "cell_type": "code",
   "execution_count": 63,
   "metadata": {},
   "outputs": [
    {
     "data": {
      "text/html": [
       "<div>\n",
       "<style scoped>\n",
       "    .dataframe tbody tr th:only-of-type {\n",
       "        vertical-align: middle;\n",
       "    }\n",
       "\n",
       "    .dataframe tbody tr th {\n",
       "        vertical-align: top;\n",
       "    }\n",
       "\n",
       "    .dataframe thead th {\n",
       "        text-align: right;\n",
       "    }\n",
       "</style>\n",
       "<table border=\"1\" class=\"dataframe\">\n",
       "  <thead>\n",
       "    <tr style=\"text-align: right;\">\n",
       "      <th></th>\n",
       "      <th>Title</th>\n",
       "      <th>Docket</th>\n",
       "      <th>Argued</th>\n",
       "      <th>Decided</th>\n",
       "      <th>Text</th>\n",
       "      <th>tokens</th>\n",
       "      <th>nlp</th>\n",
       "      <th>lemma</th>\n",
       "      <th>final_text</th>\n",
       "    </tr>\n",
       "  </thead>\n",
       "  <tbody>\n",
       "    <tr>\n",
       "      <th>0</th>\n",
       "      <td>FEDERAL COMMUNICATIONS COMMISSION ET AL. v. PR...</td>\n",
       "      <td>No. 19-1231</td>\n",
       "      <td>January 19, 2021</td>\n",
       "      <td>April 1, 2021</td>\n",
       "      <td>United|States|Supreme|Court|FEDERAL|COMMUNICAT...</td>\n",
       "      <td>[United|States|Supreme|Court|FEDERAL|COMMUNICA...</td>\n",
       "      <td>(United|States|Supreme|Court|FEDERAL|COMMUNICA...</td>\n",
       "      <td>[United|States|Supreme|Court|FEDERAL|COMMUNICA...</td>\n",
       "      <td>United|States|Supreme|Court|FEDERAL|COMMUNICAT...</td>\n",
       "    </tr>\n",
       "    <tr>\n",
       "      <th>1</th>\n",
       "      <td>AGENCY FOR INTERNATIONAL DEVELOPMENT ET AL. v....</td>\n",
       "      <td>No. 19-177</td>\n",
       "      <td>May 5, 2020</td>\n",
       "      <td>June 29, 2020</td>\n",
       "      <td>United|States|Supreme|Court|AGENCY|FOR|INTERNA...</td>\n",
       "      <td>[United|States|Supreme|Court|AGENCY|FOR|INTERN...</td>\n",
       "      <td>(United|States|Supreme|Court|AGENCY|FOR|INTERN...</td>\n",
       "      <td>[United|States|Supreme|Court|AGENCY|FOR|INTERN...</td>\n",
       "      <td>United|States|Supreme|Court|AGENCY|FOR|INTERNA...</td>\n",
       "    </tr>\n",
       "    <tr>\n",
       "      <th>2</th>\n",
       "      <td>ALLEN ET AL. v. COOPER, GOVERNOR OF NORTH CARO...</td>\n",
       "      <td>No. 18-877</td>\n",
       "      <td>November 5, 2019</td>\n",
       "      <td>March 23, 2020</td>\n",
       "      <td>United|States|Supreme|Court|ALLEN|ET|AL.|v.|CO...</td>\n",
       "      <td>[United|States|Supreme|Court|ALLEN|ET|AL.|v.|C...</td>\n",
       "      <td>(United|States|Supreme|Court|ALLEN|ET|AL.|v.|C...</td>\n",
       "      <td>[united|states|supreme|court|allen|et|al.|v.|c...</td>\n",
       "      <td>united|states|supreme|court|allen|et|al.|v.|co...</td>\n",
       "    </tr>\n",
       "    <tr>\n",
       "      <th>3</th>\n",
       "      <td>AMERICANS FOR PROSPERITY FOUNDATION v. BONTA, ...</td>\n",
       "      <td>No. 19-251</td>\n",
       "      <td>April 26, 2021</td>\n",
       "      <td>July 1, 2021</td>\n",
       "      <td>United|States|Supreme|Court|AMERICANS|FOR|PROS...</td>\n",
       "      <td>[United|States|Supreme|Court|AMERICANS|FOR|PRO...</td>\n",
       "      <td>(United|States|Supreme|Court|AMERICANS|FOR|PRO...</td>\n",
       "      <td>[united|states|supreme|court|americans|for|pro...</td>\n",
       "      <td>united|states|supreme|court|americans|for|pros...</td>\n",
       "    </tr>\n",
       "    <tr>\n",
       "      <th>4</th>\n",
       "      <td>AMG CAPITAL MANAGEMENT, LLC, ET AL. v. FEDERAL...</td>\n",
       "      <td>No. 19-508</td>\n",
       "      <td>January 13, 2021</td>\n",
       "      <td>April 22, 2021</td>\n",
       "      <td>United|States|Supreme|Court|AMG|CAPITAL|MANAGE...</td>\n",
       "      <td>[United|States|Supreme|Court|AMG|CAPITAL|MANAG...</td>\n",
       "      <td>(United|States|Supreme|Court|AMG|CAPITAL|MANAG...</td>\n",
       "      <td>[United|States|Supreme|Court|AMG|CAPITAL|MANAG...</td>\n",
       "      <td>United|States|Supreme|Court|AMG|CAPITAL|MANAGE...</td>\n",
       "    </tr>\n",
       "    <tr>\n",
       "      <th>...</th>\n",
       "      <td>...</td>\n",
       "      <td>...</td>\n",
       "      <td>...</td>\n",
       "      <td>...</td>\n",
       "      <td>...</td>\n",
       "      <td>...</td>\n",
       "      <td>...</td>\n",
       "      <td>...</td>\n",
       "      <td>...</td>\n",
       "    </tr>\n",
       "    <tr>\n",
       "      <th>134</th>\n",
       "      <td>WHOLE WOMAN'S HEALTH ET AL. v. JACKSON, JUDGE,...</td>\n",
       "      <td>No. 21-463</td>\n",
       "      <td>November 1, 2021</td>\n",
       "      <td>December 10, 2021</td>\n",
       "      <td>United|States|Supreme|Court|WHOLE|WOMAN'S|HEAL...</td>\n",
       "      <td>[United|States|Supreme|Court|WHOLE|WOMAN'S|HEA...</td>\n",
       "      <td>(United|States|Supreme|Court|WHOLE|WOMAN'S|HEA...</td>\n",
       "      <td>[United|States|Supreme|Court|WHOLE|WOMAN'S|HEA...</td>\n",
       "      <td>United|States|Supreme|Court|WHOLE|WOMAN'S|HEAL...</td>\n",
       "    </tr>\n",
       "    <tr>\n",
       "      <th>135</th>\n",
       "      <td>WHOLE WOMAN'S HEALTH ET AL.  v.  AUSTIN REEVE ...</td>\n",
       "      <td>No. 21a24</td>\n",
       "      <td></td>\n",
       "      <td>September 1, 2021</td>\n",
       "      <td>United|States|Supreme|Court|WHOLE|WOMAN'S|HEAL...</td>\n",
       "      <td>[United|States|Supreme|Court|WHOLE|WOMAN'S|HEA...</td>\n",
       "      <td>(United|States|Supreme|Court|WHOLE|WOMAN'S|HEA...</td>\n",
       "      <td>[united|states|supreme|court|whole|woman's|hea...</td>\n",
       "      <td>united|states|supreme|court|whole|woman|health...</td>\n",
       "    </tr>\n",
       "    <tr>\n",
       "      <th>136</th>\n",
       "      <td>WILLIAM P. BARR, ATTORNEY GENERAL, ET AL.  v. ...</td>\n",
       "      <td>No. 20a8</td>\n",
       "      <td></td>\n",
       "      <td>July 14, 2020</td>\n",
       "      <td>United|States|Supreme|Court|WILLIAM|P.|BARR,|A...</td>\n",
       "      <td>[United|States|Supreme|Court|WILLIAM|P.|BARR,|...</td>\n",
       "      <td>(United|States|Supreme|Court|WILLIAM|P.|BARR,|...</td>\n",
       "      <td>[united|states|supreme|court|william|p.|barr,|...</td>\n",
       "      <td>united|states|supreme|court|william|p.|barr,|a...</td>\n",
       "    </tr>\n",
       "    <tr>\n",
       "      <th>137</th>\n",
       "      <td>WILLIAM P. BARR, ATTORNEY GENERAL, ET AL.  v. ...</td>\n",
       "      <td>No. 20a9</td>\n",
       "      <td></td>\n",
       "      <td>July 16, 2020</td>\n",
       "      <td>United|States|Supreme|Court|WILLIAM|P.|BARR,|A...</td>\n",
       "      <td>[United|States|Supreme|Court|WILLIAM|P.|BARR,|...</td>\n",
       "      <td>(United|States|Supreme|Court|WILLIAM|P.|BARR,|...</td>\n",
       "      <td>[united|states|supreme|court|william|p.|barr,|...</td>\n",
       "      <td>united|states|supreme|court|william|p.|barr,|a...</td>\n",
       "    </tr>\n",
       "    <tr>\n",
       "      <th>138</th>\n",
       "      <td>YELLEN, SECRETARY OF TREASURY v. CONFEDERATED ...</td>\n",
       "      <td>No. 20-543</td>\n",
       "      <td>April 19, 2021</td>\n",
       "      <td>June 25, 2021</td>\n",
       "      <td>United|States|Supreme|Court|YELLEN,|SECRETARY|...</td>\n",
       "      <td>[United|States|Supreme|Court|YELLEN,|SECRETARY...</td>\n",
       "      <td>(United|States|Supreme|Court|YELLEN,|SECRETARY...</td>\n",
       "      <td>[United|States|Supreme|Court|YELLEN,|SECRETARY...</td>\n",
       "      <td>United|States|Supreme|Court|YELLEN,|SECRETARY|...</td>\n",
       "    </tr>\n",
       "  </tbody>\n",
       "</table>\n",
       "<p>139 rows × 9 columns</p>\n",
       "</div>"
      ],
      "text/plain": [
       "                                                 Title       Docket  \\\n",
       "0    FEDERAL COMMUNICATIONS COMMISSION ET AL. v. PR...  No. 19-1231   \n",
       "1    AGENCY FOR INTERNATIONAL DEVELOPMENT ET AL. v....   No. 19-177   \n",
       "2    ALLEN ET AL. v. COOPER, GOVERNOR OF NORTH CARO...   No. 18-877   \n",
       "3    AMERICANS FOR PROSPERITY FOUNDATION v. BONTA, ...   No. 19-251   \n",
       "4    AMG CAPITAL MANAGEMENT, LLC, ET AL. v. FEDERAL...   No. 19-508   \n",
       "..                                                 ...          ...   \n",
       "134  WHOLE WOMAN'S HEALTH ET AL. v. JACKSON, JUDGE,...   No. 21-463   \n",
       "135  WHOLE WOMAN'S HEALTH ET AL.  v.  AUSTIN REEVE ...    No. 21a24   \n",
       "136  WILLIAM P. BARR, ATTORNEY GENERAL, ET AL.  v. ...     No. 20a8   \n",
       "137  WILLIAM P. BARR, ATTORNEY GENERAL, ET AL.  v. ...     No. 20a9   \n",
       "138  YELLEN, SECRETARY OF TREASURY v. CONFEDERATED ...   No. 20-543   \n",
       "\n",
       "               Argued            Decided  \\\n",
       "0    January 19, 2021      April 1, 2021   \n",
       "1         May 5, 2020      June 29, 2020   \n",
       "2    November 5, 2019     March 23, 2020   \n",
       "3      April 26, 2021       July 1, 2021   \n",
       "4    January 13, 2021     April 22, 2021   \n",
       "..                ...                ...   \n",
       "134  November 1, 2021  December 10, 2021   \n",
       "135                    September 1, 2021   \n",
       "136                        July 14, 2020   \n",
       "137                        July 16, 2020   \n",
       "138    April 19, 2021      June 25, 2021   \n",
       "\n",
       "                                                  Text  \\\n",
       "0    United|States|Supreme|Court|FEDERAL|COMMUNICAT...   \n",
       "1    United|States|Supreme|Court|AGENCY|FOR|INTERNA...   \n",
       "2    United|States|Supreme|Court|ALLEN|ET|AL.|v.|CO...   \n",
       "3    United|States|Supreme|Court|AMERICANS|FOR|PROS...   \n",
       "4    United|States|Supreme|Court|AMG|CAPITAL|MANAGE...   \n",
       "..                                                 ...   \n",
       "134  United|States|Supreme|Court|WHOLE|WOMAN'S|HEAL...   \n",
       "135  United|States|Supreme|Court|WHOLE|WOMAN'S|HEAL...   \n",
       "136  United|States|Supreme|Court|WILLIAM|P.|BARR,|A...   \n",
       "137  United|States|Supreme|Court|WILLIAM|P.|BARR,|A...   \n",
       "138  United|States|Supreme|Court|YELLEN,|SECRETARY|...   \n",
       "\n",
       "                                                tokens  \\\n",
       "0    [United|States|Supreme|Court|FEDERAL|COMMUNICA...   \n",
       "1    [United|States|Supreme|Court|AGENCY|FOR|INTERN...   \n",
       "2    [United|States|Supreme|Court|ALLEN|ET|AL.|v.|C...   \n",
       "3    [United|States|Supreme|Court|AMERICANS|FOR|PRO...   \n",
       "4    [United|States|Supreme|Court|AMG|CAPITAL|MANAG...   \n",
       "..                                                 ...   \n",
       "134  [United|States|Supreme|Court|WHOLE|WOMAN'S|HEA...   \n",
       "135  [United|States|Supreme|Court|WHOLE|WOMAN'S|HEA...   \n",
       "136  [United|States|Supreme|Court|WILLIAM|P.|BARR,|...   \n",
       "137  [United|States|Supreme|Court|WILLIAM|P.|BARR,|...   \n",
       "138  [United|States|Supreme|Court|YELLEN,|SECRETARY...   \n",
       "\n",
       "                                                   nlp  \\\n",
       "0    (United|States|Supreme|Court|FEDERAL|COMMUNICA...   \n",
       "1    (United|States|Supreme|Court|AGENCY|FOR|INTERN...   \n",
       "2    (United|States|Supreme|Court|ALLEN|ET|AL.|v.|C...   \n",
       "3    (United|States|Supreme|Court|AMERICANS|FOR|PRO...   \n",
       "4    (United|States|Supreme|Court|AMG|CAPITAL|MANAG...   \n",
       "..                                                 ...   \n",
       "134  (United|States|Supreme|Court|WHOLE|WOMAN'S|HEA...   \n",
       "135  (United|States|Supreme|Court|WHOLE|WOMAN'S|HEA...   \n",
       "136  (United|States|Supreme|Court|WILLIAM|P.|BARR,|...   \n",
       "137  (United|States|Supreme|Court|WILLIAM|P.|BARR,|...   \n",
       "138  (United|States|Supreme|Court|YELLEN,|SECRETARY...   \n",
       "\n",
       "                                                 lemma  \\\n",
       "0    [United|States|Supreme|Court|FEDERAL|COMMUNICA...   \n",
       "1    [United|States|Supreme|Court|AGENCY|FOR|INTERN...   \n",
       "2    [united|states|supreme|court|allen|et|al.|v.|c...   \n",
       "3    [united|states|supreme|court|americans|for|pro...   \n",
       "4    [United|States|Supreme|Court|AMG|CAPITAL|MANAG...   \n",
       "..                                                 ...   \n",
       "134  [United|States|Supreme|Court|WHOLE|WOMAN'S|HEA...   \n",
       "135  [united|states|supreme|court|whole|woman's|hea...   \n",
       "136  [united|states|supreme|court|william|p.|barr,|...   \n",
       "137  [united|states|supreme|court|william|p.|barr,|...   \n",
       "138  [United|States|Supreme|Court|YELLEN,|SECRETARY...   \n",
       "\n",
       "                                            final_text  \n",
       "0    United|States|Supreme|Court|FEDERAL|COMMUNICAT...  \n",
       "1    United|States|Supreme|Court|AGENCY|FOR|INTERNA...  \n",
       "2    united|states|supreme|court|allen|et|al.|v.|co...  \n",
       "3    united|states|supreme|court|americans|for|pros...  \n",
       "4    United|States|Supreme|Court|AMG|CAPITAL|MANAGE...  \n",
       "..                                                 ...  \n",
       "134  United|States|Supreme|Court|WHOLE|WOMAN'S|HEAL...  \n",
       "135  united|states|supreme|court|whole|woman|health...  \n",
       "136  united|states|supreme|court|william|p.|barr,|a...  \n",
       "137  united|states|supreme|court|william|p.|barr,|a...  \n",
       "138  United|States|Supreme|Court|YELLEN,|SECRETARY|...  \n",
       "\n",
       "[139 rows x 9 columns]"
      ]
     },
     "execution_count": 63,
     "metadata": {},
     "output_type": "execute_result"
    }
   ],
   "source": [
    "df"
   ]
  },
  {
   "cell_type": "code",
   "execution_count": 64,
   "metadata": {},
   "outputs": [],
   "source": [
    "del df['lemma']\n",
    "del df['nlp']"
   ]
  },
  {
   "cell_type": "code",
   "execution_count": 65,
   "metadata": {},
   "outputs": [
    {
     "data": {
      "text/html": [
       "<div>\n",
       "<style scoped>\n",
       "    .dataframe tbody tr th:only-of-type {\n",
       "        vertical-align: middle;\n",
       "    }\n",
       "\n",
       "    .dataframe tbody tr th {\n",
       "        vertical-align: top;\n",
       "    }\n",
       "\n",
       "    .dataframe thead th {\n",
       "        text-align: right;\n",
       "    }\n",
       "</style>\n",
       "<table border=\"1\" class=\"dataframe\">\n",
       "  <thead>\n",
       "    <tr style=\"text-align: right;\">\n",
       "      <th></th>\n",
       "      <th>Title</th>\n",
       "      <th>Docket</th>\n",
       "      <th>Argued</th>\n",
       "      <th>Decided</th>\n",
       "      <th>Text</th>\n",
       "      <th>tokens</th>\n",
       "      <th>final_text</th>\n",
       "    </tr>\n",
       "  </thead>\n",
       "  <tbody>\n",
       "    <tr>\n",
       "      <th>0</th>\n",
       "      <td>FEDERAL COMMUNICATIONS COMMISSION ET AL. v. PR...</td>\n",
       "      <td>No. 19-1231</td>\n",
       "      <td>January 19, 2021</td>\n",
       "      <td>April 1, 2021</td>\n",
       "      <td>United|States|Supreme|Court|FEDERAL|COMMUNICAT...</td>\n",
       "      <td>[United|States|Supreme|Court|FEDERAL|COMMUNICA...</td>\n",
       "      <td>United|States|Supreme|Court|FEDERAL|COMMUNICAT...</td>\n",
       "    </tr>\n",
       "    <tr>\n",
       "      <th>1</th>\n",
       "      <td>AGENCY FOR INTERNATIONAL DEVELOPMENT ET AL. v....</td>\n",
       "      <td>No. 19-177</td>\n",
       "      <td>May 5, 2020</td>\n",
       "      <td>June 29, 2020</td>\n",
       "      <td>United|States|Supreme|Court|AGENCY|FOR|INTERNA...</td>\n",
       "      <td>[United|States|Supreme|Court|AGENCY|FOR|INTERN...</td>\n",
       "      <td>United|States|Supreme|Court|AGENCY|FOR|INTERNA...</td>\n",
       "    </tr>\n",
       "    <tr>\n",
       "      <th>2</th>\n",
       "      <td>ALLEN ET AL. v. COOPER, GOVERNOR OF NORTH CARO...</td>\n",
       "      <td>No. 18-877</td>\n",
       "      <td>November 5, 2019</td>\n",
       "      <td>March 23, 2020</td>\n",
       "      <td>United|States|Supreme|Court|ALLEN|ET|AL.|v.|CO...</td>\n",
       "      <td>[United|States|Supreme|Court|ALLEN|ET|AL.|v.|C...</td>\n",
       "      <td>united|states|supreme|court|allen|et|al.|v.|co...</td>\n",
       "    </tr>\n",
       "    <tr>\n",
       "      <th>3</th>\n",
       "      <td>AMERICANS FOR PROSPERITY FOUNDATION v. BONTA, ...</td>\n",
       "      <td>No. 19-251</td>\n",
       "      <td>April 26, 2021</td>\n",
       "      <td>July 1, 2021</td>\n",
       "      <td>United|States|Supreme|Court|AMERICANS|FOR|PROS...</td>\n",
       "      <td>[United|States|Supreme|Court|AMERICANS|FOR|PRO...</td>\n",
       "      <td>united|states|supreme|court|americans|for|pros...</td>\n",
       "    </tr>\n",
       "    <tr>\n",
       "      <th>4</th>\n",
       "      <td>AMG CAPITAL MANAGEMENT, LLC, ET AL. v. FEDERAL...</td>\n",
       "      <td>No. 19-508</td>\n",
       "      <td>January 13, 2021</td>\n",
       "      <td>April 22, 2021</td>\n",
       "      <td>United|States|Supreme|Court|AMG|CAPITAL|MANAGE...</td>\n",
       "      <td>[United|States|Supreme|Court|AMG|CAPITAL|MANAG...</td>\n",
       "      <td>United|States|Supreme|Court|AMG|CAPITAL|MANAGE...</td>\n",
       "    </tr>\n",
       "    <tr>\n",
       "      <th>...</th>\n",
       "      <td>...</td>\n",
       "      <td>...</td>\n",
       "      <td>...</td>\n",
       "      <td>...</td>\n",
       "      <td>...</td>\n",
       "      <td>...</td>\n",
       "      <td>...</td>\n",
       "    </tr>\n",
       "    <tr>\n",
       "      <th>134</th>\n",
       "      <td>WHOLE WOMAN'S HEALTH ET AL. v. JACKSON, JUDGE,...</td>\n",
       "      <td>No. 21-463</td>\n",
       "      <td>November 1, 2021</td>\n",
       "      <td>December 10, 2021</td>\n",
       "      <td>United|States|Supreme|Court|WHOLE|WOMAN'S|HEAL...</td>\n",
       "      <td>[United|States|Supreme|Court|WHOLE|WOMAN'S|HEA...</td>\n",
       "      <td>United|States|Supreme|Court|WHOLE|WOMAN'S|HEAL...</td>\n",
       "    </tr>\n",
       "    <tr>\n",
       "      <th>135</th>\n",
       "      <td>WHOLE WOMAN'S HEALTH ET AL.  v.  AUSTIN REEVE ...</td>\n",
       "      <td>No. 21a24</td>\n",
       "      <td></td>\n",
       "      <td>September 1, 2021</td>\n",
       "      <td>United|States|Supreme|Court|WHOLE|WOMAN'S|HEAL...</td>\n",
       "      <td>[United|States|Supreme|Court|WHOLE|WOMAN'S|HEA...</td>\n",
       "      <td>united|states|supreme|court|whole|woman|health...</td>\n",
       "    </tr>\n",
       "    <tr>\n",
       "      <th>136</th>\n",
       "      <td>WILLIAM P. BARR, ATTORNEY GENERAL, ET AL.  v. ...</td>\n",
       "      <td>No. 20a8</td>\n",
       "      <td></td>\n",
       "      <td>July 14, 2020</td>\n",
       "      <td>United|States|Supreme|Court|WILLIAM|P.|BARR,|A...</td>\n",
       "      <td>[United|States|Supreme|Court|WILLIAM|P.|BARR,|...</td>\n",
       "      <td>united|states|supreme|court|william|p.|barr,|a...</td>\n",
       "    </tr>\n",
       "    <tr>\n",
       "      <th>137</th>\n",
       "      <td>WILLIAM P. BARR, ATTORNEY GENERAL, ET AL.  v. ...</td>\n",
       "      <td>No. 20a9</td>\n",
       "      <td></td>\n",
       "      <td>July 16, 2020</td>\n",
       "      <td>United|States|Supreme|Court|WILLIAM|P.|BARR,|A...</td>\n",
       "      <td>[United|States|Supreme|Court|WILLIAM|P.|BARR,|...</td>\n",
       "      <td>united|states|supreme|court|william|p.|barr,|a...</td>\n",
       "    </tr>\n",
       "    <tr>\n",
       "      <th>138</th>\n",
       "      <td>YELLEN, SECRETARY OF TREASURY v. CONFEDERATED ...</td>\n",
       "      <td>No. 20-543</td>\n",
       "      <td>April 19, 2021</td>\n",
       "      <td>June 25, 2021</td>\n",
       "      <td>United|States|Supreme|Court|YELLEN,|SECRETARY|...</td>\n",
       "      <td>[United|States|Supreme|Court|YELLEN,|SECRETARY...</td>\n",
       "      <td>United|States|Supreme|Court|YELLEN,|SECRETARY|...</td>\n",
       "    </tr>\n",
       "  </tbody>\n",
       "</table>\n",
       "<p>139 rows × 7 columns</p>\n",
       "</div>"
      ],
      "text/plain": [
       "                                                 Title       Docket  \\\n",
       "0    FEDERAL COMMUNICATIONS COMMISSION ET AL. v. PR...  No. 19-1231   \n",
       "1    AGENCY FOR INTERNATIONAL DEVELOPMENT ET AL. v....   No. 19-177   \n",
       "2    ALLEN ET AL. v. COOPER, GOVERNOR OF NORTH CARO...   No. 18-877   \n",
       "3    AMERICANS FOR PROSPERITY FOUNDATION v. BONTA, ...   No. 19-251   \n",
       "4    AMG CAPITAL MANAGEMENT, LLC, ET AL. v. FEDERAL...   No. 19-508   \n",
       "..                                                 ...          ...   \n",
       "134  WHOLE WOMAN'S HEALTH ET AL. v. JACKSON, JUDGE,...   No. 21-463   \n",
       "135  WHOLE WOMAN'S HEALTH ET AL.  v.  AUSTIN REEVE ...    No. 21a24   \n",
       "136  WILLIAM P. BARR, ATTORNEY GENERAL, ET AL.  v. ...     No. 20a8   \n",
       "137  WILLIAM P. BARR, ATTORNEY GENERAL, ET AL.  v. ...     No. 20a9   \n",
       "138  YELLEN, SECRETARY OF TREASURY v. CONFEDERATED ...   No. 20-543   \n",
       "\n",
       "               Argued            Decided  \\\n",
       "0    January 19, 2021      April 1, 2021   \n",
       "1         May 5, 2020      June 29, 2020   \n",
       "2    November 5, 2019     March 23, 2020   \n",
       "3      April 26, 2021       July 1, 2021   \n",
       "4    January 13, 2021     April 22, 2021   \n",
       "..                ...                ...   \n",
       "134  November 1, 2021  December 10, 2021   \n",
       "135                    September 1, 2021   \n",
       "136                        July 14, 2020   \n",
       "137                        July 16, 2020   \n",
       "138    April 19, 2021      June 25, 2021   \n",
       "\n",
       "                                                  Text  \\\n",
       "0    United|States|Supreme|Court|FEDERAL|COMMUNICAT...   \n",
       "1    United|States|Supreme|Court|AGENCY|FOR|INTERNA...   \n",
       "2    United|States|Supreme|Court|ALLEN|ET|AL.|v.|CO...   \n",
       "3    United|States|Supreme|Court|AMERICANS|FOR|PROS...   \n",
       "4    United|States|Supreme|Court|AMG|CAPITAL|MANAGE...   \n",
       "..                                                 ...   \n",
       "134  United|States|Supreme|Court|WHOLE|WOMAN'S|HEAL...   \n",
       "135  United|States|Supreme|Court|WHOLE|WOMAN'S|HEAL...   \n",
       "136  United|States|Supreme|Court|WILLIAM|P.|BARR,|A...   \n",
       "137  United|States|Supreme|Court|WILLIAM|P.|BARR,|A...   \n",
       "138  United|States|Supreme|Court|YELLEN,|SECRETARY|...   \n",
       "\n",
       "                                                tokens  \\\n",
       "0    [United|States|Supreme|Court|FEDERAL|COMMUNICA...   \n",
       "1    [United|States|Supreme|Court|AGENCY|FOR|INTERN...   \n",
       "2    [United|States|Supreme|Court|ALLEN|ET|AL.|v.|C...   \n",
       "3    [United|States|Supreme|Court|AMERICANS|FOR|PRO...   \n",
       "4    [United|States|Supreme|Court|AMG|CAPITAL|MANAG...   \n",
       "..                                                 ...   \n",
       "134  [United|States|Supreme|Court|WHOLE|WOMAN'S|HEA...   \n",
       "135  [United|States|Supreme|Court|WHOLE|WOMAN'S|HEA...   \n",
       "136  [United|States|Supreme|Court|WILLIAM|P.|BARR,|...   \n",
       "137  [United|States|Supreme|Court|WILLIAM|P.|BARR,|...   \n",
       "138  [United|States|Supreme|Court|YELLEN,|SECRETARY...   \n",
       "\n",
       "                                            final_text  \n",
       "0    United|States|Supreme|Court|FEDERAL|COMMUNICAT...  \n",
       "1    United|States|Supreme|Court|AGENCY|FOR|INTERNA...  \n",
       "2    united|states|supreme|court|allen|et|al.|v.|co...  \n",
       "3    united|states|supreme|court|americans|for|pros...  \n",
       "4    United|States|Supreme|Court|AMG|CAPITAL|MANAGE...  \n",
       "..                                                 ...  \n",
       "134  United|States|Supreme|Court|WHOLE|WOMAN'S|HEAL...  \n",
       "135  united|states|supreme|court|whole|woman|health...  \n",
       "136  united|states|supreme|court|william|p.|barr,|a...  \n",
       "137  united|states|supreme|court|william|p.|barr,|a...  \n",
       "138  United|States|Supreme|Court|YELLEN,|SECRETARY|...  \n",
       "\n",
       "[139 rows x 7 columns]"
      ]
     },
     "execution_count": 65,
     "metadata": {},
     "output_type": "execute_result"
    }
   ],
   "source": [
    "df"
   ]
  },
  {
   "cell_type": "code",
   "execution_count": 66,
   "metadata": {},
   "outputs": [],
   "source": [
    "# df['final_text'] = df['final_text'].str.replace('|',' ')"
   ]
  },
  {
   "cell_type": "code",
   "execution_count": 68,
   "metadata": {},
   "outputs": [
    {
     "data": {
      "text/plain": [
       "0      United|States|Supreme|Court|FEDERAL|COMMUNICAT...\n",
       "1      United|States|Supreme|Court|AGENCY|FOR|INTERNA...\n",
       "2      united|states|supreme|court|allen|et|al.|v.|co...\n",
       "3      united|states|supreme|court|americans|for|pros...\n",
       "4      United|States|Supreme|Court|AMG|CAPITAL|MANAGE...\n",
       "                             ...                        \n",
       "134    United|States|Supreme|Court|WHOLE|WOMAN'S|HEAL...\n",
       "135    united|states|supreme|court|whole|woman|health...\n",
       "136    united|states|supreme|court|william|p.|barr,|a...\n",
       "137    united|states|supreme|court|william|p.|barr,|a...\n",
       "138    United|States|Supreme|Court|YELLEN,|SECRETARY|...\n",
       "Name: final_text, Length: 139, dtype: object"
      ]
     },
     "execution_count": 68,
     "metadata": {},
     "output_type": "execute_result"
    }
   ],
   "source": [
    "df['final_text']"
   ]
  },
  {
   "cell_type": "code",
   "execution_count": 69,
   "metadata": {},
   "outputs": [],
   "source": [
    "df.to_csv('preprocessed_data.tsv.zst', index=False, sep='\\t',compression='zstd')"
   ]
  },
  {
   "cell_type": "code",
   "execution_count": 2,
   "metadata": {},
   "outputs": [],
   "source": [
    "df = pd.read_csv('preprocessed_data.tsv.zst', sep='\\t',compression='zstd')"
   ]
  },
  {
   "cell_type": "code",
   "execution_count": 3,
   "metadata": {},
   "outputs": [
    {
     "data": {
      "text/html": [
       "<div>\n",
       "<style scoped>\n",
       "    .dataframe tbody tr th:only-of-type {\n",
       "        vertical-align: middle;\n",
       "    }\n",
       "\n",
       "    .dataframe tbody tr th {\n",
       "        vertical-align: top;\n",
       "    }\n",
       "\n",
       "    .dataframe thead th {\n",
       "        text-align: right;\n",
       "    }\n",
       "</style>\n",
       "<table border=\"1\" class=\"dataframe\">\n",
       "  <thead>\n",
       "    <tr style=\"text-align: right;\">\n",
       "      <th></th>\n",
       "      <th>Title</th>\n",
       "      <th>Docket</th>\n",
       "      <th>Argued</th>\n",
       "      <th>Decided</th>\n",
       "      <th>Text</th>\n",
       "      <th>tokens</th>\n",
       "      <th>final_text</th>\n",
       "    </tr>\n",
       "  </thead>\n",
       "  <tbody>\n",
       "    <tr>\n",
       "      <th>0</th>\n",
       "      <td>FEDERAL COMMUNICATIONS COMMISSION ET AL. v. PR...</td>\n",
       "      <td>No. 19-1231</td>\n",
       "      <td>January 19, 2021</td>\n",
       "      <td>April 1, 2021</td>\n",
       "      <td>United|States|Supreme|Court|FEDERAL|COMMUNICAT...</td>\n",
       "      <td>['United|States|Supreme|Court|FEDERAL|COMMUNIC...</td>\n",
       "      <td>United|States|Supreme|Court|FEDERAL|COMMUNICAT...</td>\n",
       "    </tr>\n",
       "    <tr>\n",
       "      <th>1</th>\n",
       "      <td>AGENCY FOR INTERNATIONAL DEVELOPMENT ET AL. v....</td>\n",
       "      <td>No. 19-177</td>\n",
       "      <td>May 5, 2020</td>\n",
       "      <td>June 29, 2020</td>\n",
       "      <td>United|States|Supreme|Court|AGENCY|FOR|INTERNA...</td>\n",
       "      <td>['United|States|Supreme|Court|AGENCY|FOR|INTER...</td>\n",
       "      <td>United|States|Supreme|Court|AGENCY|FOR|INTERNA...</td>\n",
       "    </tr>\n",
       "    <tr>\n",
       "      <th>2</th>\n",
       "      <td>ALLEN ET AL. v. COOPER, GOVERNOR OF NORTH CARO...</td>\n",
       "      <td>No. 18-877</td>\n",
       "      <td>November 5, 2019</td>\n",
       "      <td>March 23, 2020</td>\n",
       "      <td>United|States|Supreme|Court|ALLEN|ET|AL.|v.|CO...</td>\n",
       "      <td>['United|States|Supreme|Court|ALLEN|ET|AL.|v.|...</td>\n",
       "      <td>united|states|supreme|court|allen|et|al.|v.|co...</td>\n",
       "    </tr>\n",
       "    <tr>\n",
       "      <th>3</th>\n",
       "      <td>AMERICANS FOR PROSPERITY FOUNDATION v. BONTA, ...</td>\n",
       "      <td>No. 19-251</td>\n",
       "      <td>April 26, 2021</td>\n",
       "      <td>July 1, 2021</td>\n",
       "      <td>United|States|Supreme|Court|AMERICANS|FOR|PROS...</td>\n",
       "      <td>['United|States|Supreme|Court|AMERICANS|FOR|PR...</td>\n",
       "      <td>united|states|supreme|court|americans|for|pros...</td>\n",
       "    </tr>\n",
       "    <tr>\n",
       "      <th>4</th>\n",
       "      <td>AMG CAPITAL MANAGEMENT, LLC, ET AL. v. FEDERAL...</td>\n",
       "      <td>No. 19-508</td>\n",
       "      <td>January 13, 2021</td>\n",
       "      <td>April 22, 2021</td>\n",
       "      <td>United|States|Supreme|Court|AMG|CAPITAL|MANAGE...</td>\n",
       "      <td>['United|States|Supreme|Court|AMG|CAPITAL|MANA...</td>\n",
       "      <td>United|States|Supreme|Court|AMG|CAPITAL|MANAGE...</td>\n",
       "    </tr>\n",
       "    <tr>\n",
       "      <th>...</th>\n",
       "      <td>...</td>\n",
       "      <td>...</td>\n",
       "      <td>...</td>\n",
       "      <td>...</td>\n",
       "      <td>...</td>\n",
       "      <td>...</td>\n",
       "      <td>...</td>\n",
       "    </tr>\n",
       "    <tr>\n",
       "      <th>134</th>\n",
       "      <td>WHOLE WOMAN'S HEALTH ET AL. v. JACKSON, JUDGE,...</td>\n",
       "      <td>No. 21-463</td>\n",
       "      <td>November 1, 2021</td>\n",
       "      <td>December 10, 2021</td>\n",
       "      <td>United|States|Supreme|Court|WHOLE|WOMAN'S|HEAL...</td>\n",
       "      <td>[\"United|States|Supreme|Court|WHOLE|WOMAN'S|HE...</td>\n",
       "      <td>United|States|Supreme|Court|WHOLE|WOMAN'S|HEAL...</td>\n",
       "    </tr>\n",
       "    <tr>\n",
       "      <th>135</th>\n",
       "      <td>WHOLE WOMAN'S HEALTH ET AL.  v.  AUSTIN REEVE ...</td>\n",
       "      <td>No. 21a24</td>\n",
       "      <td>NaN</td>\n",
       "      <td>September 1, 2021</td>\n",
       "      <td>United|States|Supreme|Court|WHOLE|WOMAN'S|HEAL...</td>\n",
       "      <td>[\"United|States|Supreme|Court|WHOLE|WOMAN'S|HE...</td>\n",
       "      <td>united|states|supreme|court|whole|woman|health...</td>\n",
       "    </tr>\n",
       "    <tr>\n",
       "      <th>136</th>\n",
       "      <td>WILLIAM P. BARR, ATTORNEY GENERAL, ET AL.  v. ...</td>\n",
       "      <td>No. 20a8</td>\n",
       "      <td>NaN</td>\n",
       "      <td>July 14, 2020</td>\n",
       "      <td>United|States|Supreme|Court|WILLIAM|P.|BARR,|A...</td>\n",
       "      <td>['United|States|Supreme|Court|WILLIAM|P.|BARR,...</td>\n",
       "      <td>united|states|supreme|court|william|p.|barr,|a...</td>\n",
       "    </tr>\n",
       "    <tr>\n",
       "      <th>137</th>\n",
       "      <td>WILLIAM P. BARR, ATTORNEY GENERAL, ET AL.  v. ...</td>\n",
       "      <td>No. 20a9</td>\n",
       "      <td>NaN</td>\n",
       "      <td>July 16, 2020</td>\n",
       "      <td>United|States|Supreme|Court|WILLIAM|P.|BARR,|A...</td>\n",
       "      <td>['United|States|Supreme|Court|WILLIAM|P.|BARR,...</td>\n",
       "      <td>united|states|supreme|court|william|p.|barr,|a...</td>\n",
       "    </tr>\n",
       "    <tr>\n",
       "      <th>138</th>\n",
       "      <td>YELLEN, SECRETARY OF TREASURY v. CONFEDERATED ...</td>\n",
       "      <td>No. 20-543</td>\n",
       "      <td>April 19, 2021</td>\n",
       "      <td>June 25, 2021</td>\n",
       "      <td>United|States|Supreme|Court|YELLEN,|SECRETARY|...</td>\n",
       "      <td>['United|States|Supreme|Court|YELLEN,|SECRETAR...</td>\n",
       "      <td>United|States|Supreme|Court|YELLEN,|SECRETARY|...</td>\n",
       "    </tr>\n",
       "  </tbody>\n",
       "</table>\n",
       "<p>139 rows × 7 columns</p>\n",
       "</div>"
      ],
      "text/plain": [
       "                                                 Title       Docket  \\\n",
       "0    FEDERAL COMMUNICATIONS COMMISSION ET AL. v. PR...  No. 19-1231   \n",
       "1    AGENCY FOR INTERNATIONAL DEVELOPMENT ET AL. v....   No. 19-177   \n",
       "2    ALLEN ET AL. v. COOPER, GOVERNOR OF NORTH CARO...   No. 18-877   \n",
       "3    AMERICANS FOR PROSPERITY FOUNDATION v. BONTA, ...   No. 19-251   \n",
       "4    AMG CAPITAL MANAGEMENT, LLC, ET AL. v. FEDERAL...   No. 19-508   \n",
       "..                                                 ...          ...   \n",
       "134  WHOLE WOMAN'S HEALTH ET AL. v. JACKSON, JUDGE,...   No. 21-463   \n",
       "135  WHOLE WOMAN'S HEALTH ET AL.  v.  AUSTIN REEVE ...    No. 21a24   \n",
       "136  WILLIAM P. BARR, ATTORNEY GENERAL, ET AL.  v. ...     No. 20a8   \n",
       "137  WILLIAM P. BARR, ATTORNEY GENERAL, ET AL.  v. ...     No. 20a9   \n",
       "138  YELLEN, SECRETARY OF TREASURY v. CONFEDERATED ...   No. 20-543   \n",
       "\n",
       "               Argued            Decided  \\\n",
       "0    January 19, 2021      April 1, 2021   \n",
       "1         May 5, 2020      June 29, 2020   \n",
       "2    November 5, 2019     March 23, 2020   \n",
       "3      April 26, 2021       July 1, 2021   \n",
       "4    January 13, 2021     April 22, 2021   \n",
       "..                ...                ...   \n",
       "134  November 1, 2021  December 10, 2021   \n",
       "135               NaN  September 1, 2021   \n",
       "136               NaN      July 14, 2020   \n",
       "137               NaN      July 16, 2020   \n",
       "138    April 19, 2021      June 25, 2021   \n",
       "\n",
       "                                                  Text  \\\n",
       "0    United|States|Supreme|Court|FEDERAL|COMMUNICAT...   \n",
       "1    United|States|Supreme|Court|AGENCY|FOR|INTERNA...   \n",
       "2    United|States|Supreme|Court|ALLEN|ET|AL.|v.|CO...   \n",
       "3    United|States|Supreme|Court|AMERICANS|FOR|PROS...   \n",
       "4    United|States|Supreme|Court|AMG|CAPITAL|MANAGE...   \n",
       "..                                                 ...   \n",
       "134  United|States|Supreme|Court|WHOLE|WOMAN'S|HEAL...   \n",
       "135  United|States|Supreme|Court|WHOLE|WOMAN'S|HEAL...   \n",
       "136  United|States|Supreme|Court|WILLIAM|P.|BARR,|A...   \n",
       "137  United|States|Supreme|Court|WILLIAM|P.|BARR,|A...   \n",
       "138  United|States|Supreme|Court|YELLEN,|SECRETARY|...   \n",
       "\n",
       "                                                tokens  \\\n",
       "0    ['United|States|Supreme|Court|FEDERAL|COMMUNIC...   \n",
       "1    ['United|States|Supreme|Court|AGENCY|FOR|INTER...   \n",
       "2    ['United|States|Supreme|Court|ALLEN|ET|AL.|v.|...   \n",
       "3    ['United|States|Supreme|Court|AMERICANS|FOR|PR...   \n",
       "4    ['United|States|Supreme|Court|AMG|CAPITAL|MANA...   \n",
       "..                                                 ...   \n",
       "134  [\"United|States|Supreme|Court|WHOLE|WOMAN'S|HE...   \n",
       "135  [\"United|States|Supreme|Court|WHOLE|WOMAN'S|HE...   \n",
       "136  ['United|States|Supreme|Court|WILLIAM|P.|BARR,...   \n",
       "137  ['United|States|Supreme|Court|WILLIAM|P.|BARR,...   \n",
       "138  ['United|States|Supreme|Court|YELLEN,|SECRETAR...   \n",
       "\n",
       "                                            final_text  \n",
       "0    United|States|Supreme|Court|FEDERAL|COMMUNICAT...  \n",
       "1    United|States|Supreme|Court|AGENCY|FOR|INTERNA...  \n",
       "2    united|states|supreme|court|allen|et|al.|v.|co...  \n",
       "3    united|states|supreme|court|americans|for|pros...  \n",
       "4    United|States|Supreme|Court|AMG|CAPITAL|MANAGE...  \n",
       "..                                                 ...  \n",
       "134  United|States|Supreme|Court|WHOLE|WOMAN'S|HEAL...  \n",
       "135  united|states|supreme|court|whole|woman|health...  \n",
       "136  united|states|supreme|court|william|p.|barr,|a...  \n",
       "137  united|states|supreme|court|william|p.|barr,|a...  \n",
       "138  United|States|Supreme|Court|YELLEN,|SECRETARY|...  \n",
       "\n",
       "[139 rows x 7 columns]"
      ]
     },
     "execution_count": 3,
     "metadata": {},
     "output_type": "execute_result"
    }
   ],
   "source": [
    "df"
   ]
  },
  {
   "cell_type": "markdown",
   "metadata": {},
   "source": [
    "# $\\textbf{Text Summarization Functions}$"
   ]
  },
  {
   "cell_type": "code",
   "execution_count": 4,
   "metadata": {},
   "outputs": [
    {
     "data": {
      "text/plain": [
       "0      United|States|Supreme|Court|FEDERAL|COMMUNICAT...\n",
       "1      United|States|Supreme|Court|AGENCY|FOR|INTERNA...\n",
       "2      united|states|supreme|court|allen|et|al.|v.|co...\n",
       "3      united|states|supreme|court|americans|for|pros...\n",
       "4      United|States|Supreme|Court|AMG|CAPITAL|MANAGE...\n",
       "                             ...                        \n",
       "134    United|States|Supreme|Court|WHOLE|WOMAN'S|HEAL...\n",
       "135    united|states|supreme|court|whole|woman|health...\n",
       "136    united|states|supreme|court|william|p.|barr,|a...\n",
       "137    united|states|supreme|court|william|p.|barr,|a...\n",
       "138    United|States|Supreme|Court|YELLEN,|SECRETARY|...\n",
       "Name: final_text, Length: 139, dtype: object"
      ]
     },
     "execution_count": 4,
     "metadata": {},
     "output_type": "execute_result"
    }
   ],
   "source": [
    "df[\"final_text\"]"
   ]
  },
  {
   "cell_type": "code",
   "execution_count": 7,
   "metadata": {},
   "outputs": [],
   "source": [
    "from transformers import pipeline\n",
    "\n",
    "\n",
    "# summarizer = pipeline(\"summarization\",model=\"sshleifer/distilbart-xsum-12-6\",device=0)\n",
    "# df[\"summary_pipeline\"] = summarizer(df[\"Text\"].tolist(), truncation=True, max_length=1024, min_length=64)\n",
    "\n",
    "\n"
   ]
  },
  {
   "cell_type": "code",
   "execution_count": 9,
   "metadata": {},
   "outputs": [],
   "source": [
    "import summa"
   ]
  },
  {
   "cell_type": "code",
   "execution_count": 10,
   "metadata": {},
   "outputs": [],
   "source": [
    "df[\"summary_summa\"] = df[\"Text\"].apply(lambda x: summa.summarizer.summarize(x, ratio=0.02))"
   ]
  },
  {
   "cell_type": "code",
   "execution_count": 47,
   "metadata": {},
   "outputs": [
    {
     "data": {
      "text/plain": [
       "'In analyzing whether to repeal or modify its existing ownership rules, the FCC considered the record evidence and reasonably concluded that the three ownership rules at issue were no longer necessary to serve the agency\\'s public interest goals of competition, localism, and viewpoint diversity, and that the rule changes were not likely to harm minority and female ownership.\\nIn conducting its public interest analysis under Section|202(h), the FCC considered the effects of the rules on competition, localism, viewpoint diversity, and minority and female ownership of broadcast media outlets.\\nIn its quadrennial Section|202(h) order issued in 2016, the FCC concluded that the Newspaper/Broadcast|Cross-Ownership,|Radio/Television|Cross-Ownership, and Local Television Ownership Rules remained necessary to serve the agency\\'s public interest goals of promoting \"competition and a diversity of viewpoints in local markets.\" In re 2014|Quadrennial|Regulatory|Review--Second Report and Order,|31|FCC|Rcd.|9864,|9865|(2016) (2016|Order).\\nIn light of the sparse record on minority and female ownership and the FCC\\'s findings with respect to competition, localism, and viewpoint diversity, we cannot say that the agency\\'s decision to repeal or modify the ownership rules fell outside the zone of reasonableness for purposes of the APA.4 * * * We reverse the judgment of the U.S. Court of Appeals for the Third|Circuit.'"
      ]
     },
     "execution_count": 47,
     "metadata": {},
     "output_type": "execute_result"
    }
   ],
   "source": [
    "df[\"summary_summa\"][0]"
   ]
  },
  {
   "cell_type": "code",
   "execution_count": 74,
   "metadata": {},
   "outputs": [],
   "source": [
    "summarizer = pipeline(\"summarization\",model=\"sshleifer/distilbart-xsum-12-6\",device=0)"
   ]
  },
  {
   "cell_type": "code",
   "execution_count": null,
   "metadata": {},
   "outputs": [],
   "source": [
    "df[\"final_text\"][0]"
   ]
  },
  {
   "cell_type": "code",
   "execution_count": 76,
   "metadata": {},
   "outputs": [
    {
     "data": {
      "text/plain": [
       "\" The US Supreme Court has ruled in the Prometheus Radio Project case against the Federal Communications Commission (FCC) over its decision to repeal or modify three of its media ownership rules in 2017, but ruled that the agency's decision was not arbitrary and capricious, and that the rule changes were likely to harm minority and female ownership\""
      ]
     },
     "execution_count": 76,
     "metadata": {},
     "output_type": "execute_result"
    }
   ],
   "source": [
    "summarizer(df[\"Text\"][0], truncation=True, max_length=1024, min_length=64)[0]['summary_text']"
   ]
  },
  {
   "cell_type": "code",
   "execution_count": 77,
   "metadata": {},
   "outputs": [
    {
     "data": {
      "text/plain": [
       "\" Prometheus Radio Project and several other public interest and consumer advocacy groups have won their case at the US Supreme Court against the Federal Communications Commission (FCC) over a rule that limits the number of radio station and newspaper owners in a give-market given to a single entity in a given market, and the agency's decision to repeal or modify three ownership rule\""
      ]
     },
     "execution_count": 77,
     "metadata": {},
     "output_type": "execute_result"
    }
   ],
   "source": [
    "summarizer(df[\"final_text\"][0], truncation=True, max_length=1024, min_length=64)[0]['summary_text']"
   ]
  },
  {
   "cell_type": "code",
   "execution_count": 17,
   "metadata": {},
   "outputs": [],
   "source": [
    "sums = summarizer(df[\"Text\"].tolist(), truncation=True, max_length=1024, min_length=64)"
   ]
  },
  {
   "cell_type": "code",
   "execution_count": 18,
   "metadata": {},
   "outputs": [
    {
     "data": {
      "text/plain": [
       "[{'summary_text': \" The US Supreme Court has ruled in the Prometheus Radio Project case against the Federal Communications Commission (FCC) over its decision to repeal or modify three of its media ownership rules in 2017, but ruled that the agency's decision was not arbitrary and capricious, and that the rule changes were likely to harm minority and female ownership\"},\n",
       " {'summary_text': \" A federal agency's requirement that it funding foreign nongovernmental groups with a policy against prostitution and sex trafficking is not unconstitutional, the Supreme Court has ruled in a case brought by the Alliance for Open Society, a group representing open society, and a group of American-based non-governmental organisations. and foreign groups\"},\n",
       " {'summary_text': \" A federal court ruled in the case of Frederick Allen, a videographer who documented the recovery of a shipwreck off the North Carolina coast, that Congress did not have the power to abrogate the States' sovereign immunity from copyright infringement cases, and that Congress could accomplish its goal under Section 5 of the Fourteenth\"},\n",
       " {'summary_text': \" The US Supreme Court has ruled in the cases of the NAACP and the California Attorney General and two tax-exempt charities, both challenging a requirement that charities disclose the names of their major donors to the state's Office of the Attorney General, in a case brought by the National Association of Public Prosecutors (NAACP) in Alabama.\"},\n",
       " {'summary_text': ' The Ninth Circuit has ruled that the Federal Trade Commission has the power to seek monetary relief directly from courts and effectively bypass the rules of the Act on unfair or deceptive practices, as it did in the case against Scott Tucker and other payday lenders in the 1990s and 1990s.. and it has the right to seek'},\n",
       " {'summary_text': \"Here is a summary of the Supreme Court's ruling on a case involving the Swartzentruber Amish community and a Minnesota county, brought by a group of Amish farmers who say they cannot be forced to use modern technology to dispose of their waste water in their homes, as well as by local officials.\"},\n",
       " {'summary_text': ' A group of landowners in Montana sued Atlantic Richfield for damages over the contamination of an Anaconda copper smelter in the 1970s and 1980s, but the Montana Supreme Court ruled that the federal courts had jurisdiction over the case, under the Clean-up Act, which was signed into law in 1996.'},\n",
       " {'summary_text': \" The US Supreme Court has ruled in the case of Noris Babb, a 40-year-old woman who sued the Department of Veterans' Affairs (VA) for age discrimination, in a case heard by the Eleventh Circuit in New York City in January 2020, that the federal-sector provision of Age Discrimination in Employment\"},\n",
       " {'summary_text': ' A judge in the Fifth Circuit of the US Supreme Court has ruled in the case of Gregory Banister, a Texas prisoner, who sought federal habeas relief from his conviction but failed to get it through the courts\\' \"second or successive application\" to a ruling on his case. the Federal Rules of Civil Procedure'},\n",
       " {'summary_text': ' A US Supreme Court ruling on a robocall restriction that allows the government to collect debt has implications for free speech, as well as limits on other types of speech, including that made for the purpose of collecting government debt, and the right to make political calls, has been upheld by the Supreme Court in the case'},\n",
       " {'summary_text': ' The US Supreme Court has ruled in the case of Andre Barton, a lawful permanent resident from Texas, who was found removable from the United States because of a string of serious crimes he committed over a 12-year period, but whose removal was not based on his prior criminal convictions and was not eligible for cancellation of removal.'},\n",
       " {'summary_text': ' The US Supreme Court ruled in the case of Charles Borden, Jr, who pleaded guilty to a felon-in-possession charge, and remanded to consider whether his conviction was a \"violent felony\" under the Armed Career Criminal Act (ACA), but ruled that reckless crimes do not qualify as a violent felony.'},\n",
       " {'summary_text': ' The US Supreme Court has ruled that discrimination on the basis of homosexuality or transgender is a violation of the 1964 Civil Rights Act, and that employers can be sued on the grounds that they discriminate against employees who are gay, lesbian, gay, bisexual or transgender (also known as \"transgender) or who are not).'},\n",
       " {'summary_text': \" The Fourth Circuit of the United States ruled that a federal court's order remanding a case to a Maryland state court can be reviewed on appeal, even if the case was removed from the court's docket and the defendants' grounds for removal were not grounds for federal jurisdiction, as well as other grounds for removing the case\"},\n",
       " {'summary_text': \"Here is the full text of the Supreme Court's ruling in the Idaho initiative case, brought by the governor of Idaho, Bradley Littlele, who is seeking a stay on an appeal in the Ninth Circuit against the State's decision to allow an initiative to be put on the ballot without the required number of signatures.\"},\n",
       " {'summary_text': \" The US Supreme Court has ruled in the case of the Democratic National Committee and certain affiliates against the State of Arizona's out-of-precinct policy on early voting and early mail-in voting, as well as its own ruling in a similar case in the Virginia House of Delegates' case in 2011.\"},\n",
       " {'summary_text': ' The US Supreme Court has ruled in the case of James King, who sued the United States under the Federal Trade Act (FTCA) after a violent encounter with two of its officers in Michigan in 2010, that a federal court lacked subject-matter jurisdiction over his claims... and that the court did not'},\n",
       " {'summary_text': \" A federal appeals court in the United States has ruled that individual plaintiffs have standing to challenge the Affordable Care Act's minimum essential health insurance coverage provision, codified at 26:00 GMT on 26 March 2017, in a case brought by the state of Texas and a dozen other US states and two individuals, including the Supreme Court\"},\n",
       " {'summary_text': ' The US Supreme Court has ruled in the case of Edward Caniglia, a Rhode Island man who sought to shoot his wife after she left his home to go to hospital for a psychiatric evaluation, that a warrantless search of his home did not violate the constitutional right to search and seize firearms, as well as vehicles.'},\n",
       " {'summary_text': \" A federal appeals court ruled in the case of James Adams, a lawyer and political independent, that Delaware's judicial eligibility rules violate his right to freedom of association, and that the US Supreme Court should not rule on whether independents can join the Supreme Court, as well as other federal courts, as they do in other states.\"},\n",
       " {'summary_text': \" A federal court in the United States has ruled that the appointment of lower level staff to the Securities and Exchange Commission (SEC) violates the Constitution's Appointments Clause and allowed petitioners to seek new administrative review of their claims, but that they did not have the right to seek a judicial review of the process.\"},\n",
       " {'summary_text': \" A California regulation that grants union organizers access to agricultural employers' property constitutes a per se physical taking, the Supreme Court ruled in the case of Cedar Point Nursery, a case brought by two growers and the United Farm Workers (UFL) in the Ninth Circuit of the United States in June, 2021, and\"},\n",
       " {'summary_text': ' The US Supreme Court has ruled in favour of CIC, an insurance company, in its case against the IRS, which seeks to set aside a notice requiring it to report information about certain insurance agreements called micro-captive transactions, but also upholds the Anti-Injunction Act, which bars pre-enforcement review'},\n",
       " {'summary_text': ' The United States Supreme Court has ruled in the Frescati case, brought by the owner of a tanker that spilled 264,000 gallons of heavy crude oil into the Delaware River, and the United States government, over a $88m (Â£65,000) clean-up bill, that the company was ultimately liable for the spill.'},\n",
       " {'summary_text': ' The United States Supreme Court has ruled in a case brought by the city of Chicago, Illinois, that attempts to collect debts outside the bankruptcy forum violate a bankruptcy law, and that an entity in possession of estate property must hand over that property to the trustee, even if that property is exempt from a number of other provisions.'},\n",
       " {'summary_text': ' The US Supreme Court has ruled in a case brought by the city of San Antonio, Texas, that a Federal District Court did not have discretion to tax the costs of an appeal against a multi-million dollar judgment, but did not need to do so because it had no discretion over how to allocate the costs to courts of appeals.'},\n",
       " {'summary_text': \" A group of investors in two of the nation's largest mortgage lending companies, Fannie Mae and Freddie Mac, have won a case against the Federal Housing Finance Agency (FHFA) at the US Supreme Court, which ruled that the agency violated the separation of powers under the Recovery Act in the wake of the 2008 financial crisis.\"},\n",
       " {'summary_text': ' The US Supreme Court has ruled in a case brought by an African-American-owned television network that alleged Comcast violated the Civil Rights Act by refusing to allow it to carry its channels on Comcast\\'s network, but not by showing that race was a \"motivating factor\" in the decision. and that the case was'},\n",
       " {'summary_text': ' The US Supreme Court has ruled that the Clean Water Act requires a permit from the Environmental Protection Agency for the discharge of pollutants from a point source to \"navigable waters\" in the Pacific Ocean, and that the Ninth Circuit ruled that a permit was required when the discharge was \"functionally one into navigable water\".'},\n",
       " {'summary_text': \" Supreme Court Justice Neil Gorsuch dissenting from an application by a private school and the Attorney General of Kentucky to have a preliminary injunction against the governor's school-closing Order, as applied to religious schools, at the end of the holiday break, on Friday, 18 December 2020, at 7:00 GMT...\"},\n",
       " {'summary_text': ' As the US Supreme Court considers whether to vacate a stay on a Federal District Court ruling that requires Wisconsin voters to return their absentee ballots by the end of the election day, Justice Brett Kavanaugh and Justice Neil Gorsuch give their opinions and concurring on the application to vacates the ruling, as well as Justice Roberts and Justice'},\n",
       " {'summary_text': \" The US Supreme Court has ruled in a case brought by the University of California, Texas, and the Department of Homeland Security (DHS) that the Obama administration's DACA program violated the Immigration and Nationality Act (INA) and infringed the equal protection of the American Civil Rights Act (APA), as well as other cases.\"},\n",
       " {'summary_text': \" The US Supreme Court has ruled in the case of New York City, New York, and the Department of Commerce that President Donald Trump's policy of excluding non-US citizens from the 2020 census is unlawful and unconstitutional. and must be re-examined by the Secretary of Commerce, as well as by the President\"},\n",
       " {'summary_text': ' In a landmark case, the US Supreme Court has ruled that the jury-unanimity rule announced in Ramos v Ramos does not apply retroactively on federal collateral review, even if the defendant\\'s conviction has already been concluded, and that the new rule does not qualify as a \"watershed\" rule that applies to other cases'},\n",
       " {'summary_text': 'Here is the full Supreme Court ruling on Ernest Johnson, a death row inmate in Missouri who suffered from epilepsy after being sentenced to death by firing squad in 1986... the case was heard by the Supreme Court on 23 May 2019.. and the decision was made by Justice Justice Breyer and Justice Kagan.'},\n",
       " {'summary_text': ' A federal court in the United States ruled that the Montana Department of Revenue violated the Free Exercise Clause when it barred tax credits to religious schools, as well as other states, in a case brought by three mothers who wanted their children to attend a Christian school in Stillwater, Montana, on the basis of their religious views.'},\n",
       " {'summary_text': ' The US Supreme Court has ruled that the Telecommunications Act (TCPA) can be used to protect consumers from abusive telemarketing practices, and that Facebook violated the law by sending automated text messages to a man with a telephone number linked to his social media account, but not to his own account, which he never created.'},\n",
       " {'summary_text': \" The United States Supreme Court has ruled in a case brought by the heirs of Jewish art dealers who allege that Germany took their collection in violation of international law, and that the right to a foreign national's property must be exercised under the act of state, as well as the domestic takings rule of the FSIA.\"},\n",
       " {'summary_text': \" A federal court in the United States has ruled that the appointment of seven members of Puerto Rico's Financial Oversight and Management Board violated the Constitution's Appointments Clause and allowed the President to file for bankruptcy on behalf of the Commonwealth and its entities, but the decision was overturned by the US Supreme Court on the grounds that the members' selection was unconstitutional.\"},\n",
       " {'summary_text': \" The United States Supreme Court has dismissed a case brought by Florida against Georgia over the alleged overconsumption of water from interstate rivers in the Apalachicola-Chattahoochee-Flint River Basin, but ruled that Florida did not prove its injury was caused by the state's over consumption of water.\"},\n",
       " {'summary_text': ' A federal appeals court in the United States has ruled in the case of Curtis Flowers, a convicted murderer in Mississippi, that the State exercised race-based peremptory strikes on black prospective jurors on the basis of race in violation of Batson, a federal court ruling in the Batson case in 2007.'},\n",
       " {'summary_text': 'Here is the full ruling from the US Supreme Court in the case of mifepristone, a medication abortion, and the Food and Drug Administration (FDA) and the US Department of Health and Human Health (HHS) in a case brought by a group of women seeking access to the drug at home.'},\n",
       " {'summary_text': ' The US Supreme Court has ruled in the Argus Leader case, which seeks to force the government to reveal the names and addresses of all grocery stores that participate in the national food-stamp program... and the Institute of Food Marketing, a trade association representing grocery retailers, is not entitled to a \"confidential\"'},\n",
       " {'summary_text': \" A federal court in the United States has ruled that a state court can exercise personal jurisdiction over a defendant in two cases involving vehicles that were originally made elsewhere in the US, but not in the states where the vehicles were made and sold. the plaintiffs' claims were brought by the company, and the court had no jurisdiction\"},\n",
       " {'summary_text': ' The US Supreme Court has ruled in the case of Catholic Social Services (CSS) and the City of Philadelphia, which barred the agency from referring children to its foster care agencies unless it agreed to certify same-sex couples as foster parents, as well as unmarried couples, as they do not have a right to discriminate against them.'},\n",
       " {'summary_text': ' The US Supreme Court declined to overturn the longstanding dual-sovereignty doctrine, which protects individuals from double jeopardy if they are prosecuted by the same state under the same law, as in the case of George H. Gamble, who was convicted of possessing a gun in the US state of Alabama, in 2006 and later prosecuted in the United States.'},\n",
       " {'summary_text': ' The US Supreme Court has ruled in the cases of Cesar Alcaraz-Enriquez and Ming Dai, and ruled in their cases that a \"rebuttable presumption of credibility on appeal\" does not apply when a federal court reviews an order of removal from a foreign national\\'s country of origin, but does not'},\n",
       " {'summary_text': ' The Eleventh Circuit ruled that the New York Convention on Recognition and Enforcement of Foreign-Arbitral Awards (New York Convention) could be used to enforce arbitration agreements, despite the fact that both parties signed the agreement, and that neither was a \"signatory\" or a \"nonsignatory\" party.'},\n",
       " {'summary_text': \" The US Supreme Court has ruled in favour of a securities-fraud class action brought by shareholders of Goldman Sachs, after the Second Circuit upheld a District Court ruling that Goldman's alleged misrepresentations had no impact on its stock price, but the defendants did not have the burden of persuasion to prove that their actions had no effect.\"},\n",
       " {'summary_text': ' The United States Supreme Court is considering whether the right to use copyrighted material for \"fair use\" should be applied to Google\\'s use of Java, a program that uses the Java language to create its Android mobile phone operating system, and whether it can be used as a \"fairuse\" of that material. and that'},\n",
       " {'summary_text': ' The United States Supreme Court ruled in Rehaif, a case involving two felons in possession of a firearm, that a defendant must show that he knew he was a felon when he possessed the firearm when he went to trial and that he should not have been convicted, and that the case should be reversed..'},\n",
       " {'summary_text': ' A federal appeals court in the United States has ruled in the case of Carlos Guerrero-Lasprilla and Carlos Ovalles, who sought to reopen their removal proceedings after being ordered out of the country by the Board of Immigration Appeals, but the Court did not have jurisdiction to consider their claims of \"factual\" due diligence.'},\n",
       " {'summary_text': ' The United States Supreme Court is considering whether to grant damages to the parents of a Mexican teenager shot dead by a Border Patrol agent, Jesus Mesa, in a cross-border shooting incident in 2010, and whether to extend Bivens, a constitutional right to sue for damages under the Fifth and Eighth Amendment, or not.'},\n",
       " {'summary_text': \"Neil Gorsuch, Neil Gorsuch, and Stephen Breyer, the Supreme Court's most senior justice, delivered an opinion in a case brought by a Mexican drug trafficker, Daniel Holguin-Hernandez, who was sentenced to 12 months in prison for violating his supervised release order, and whose appeal was dismissed by the Fifth Circuit.\"},\n",
       " {'summary_text': ' The United States Supreme Court has ruled in a case involving three small refineries and a group of renewable fuel producers that seeks to extend exemptions from a renewable fuel program for at least two years, and that the right to seek such an extension should not be blocked by the federal government, but not by the Tenth Circuit.'},\n",
       " {'summary_text': ' The US Supreme Court has ruled in Erik Brunetti\\'s case against the Patent and Trademark Office (PTO) that prohibits the registration of trademarks that contain \"immoral or scandalous\" messages, but not those that denigrate society\\'s sense of propriety and social order. and are deemed \"inappropriate\".'},\n",
       " {'summary_text': ' The US Supreme Court has ruled in the case of Michael Sulyma, a former employee of Intel, who sued the company for allegedly failing to disclose his investments in retirement plans to the company\\'s management team, under the Employee Retirement Act (ERISA). and has ruled that the law must be enforced \"according to its'},\n",
       " {'summary_text': ' The US Supreme Court has ruled in the case of Matthew Reeves, who was convicted of murder and sentenced to death in Alabama in 1996, that a state court\\'s refusal to grant post-conviction relief was \" indefensible\" and that the Eleventh Circuit\\'s decision was \"unjust\" and should be reconsidered.'},\n",
       " {'summary_text': 'Here is the full text of the ruling in the case of Willie Smith, a death row inmate in Alabama who wants to have his pastor with him at the execution chamber, and how it affects his right to exercise his religious right to choose who will be on the death row. and how the Supreme Court will interpret it.'},\n",
       " {'summary_text': ' The US Supreme Court has ruled in the case of Nicholas Gilbert, who died after being arrested by police in St. Louis, Missouri, in December 2015, that officers did not apply unconstitutionally excessive force to him and that the use of force was \"objectively reasonable\" in light of the facts and circumstances.'},\n",
       " {'summary_text': 'Federal immigration law governs the detention of aliens subject to reinstated removal orders, the Supreme Court has ruled in a case brought by Guzman Aguir, who was deported from the United States and later reentered the country without the permission of an immigration judge and the Board of Immigration Appeals (BIA)..'},\n",
       " {'summary_text': ' The United States Supreme Court has upheld a life-without-parole sentence imposed on a teenager who murdered his grandfather, Brett Jones, in the case of Montgomery, and Miller, in a case that has now been referred to the Court of Justice in the United States for more than a decade, and is likely to'},\n",
       " {'summary_text': 'Louisiana\\'s \"admitting privileges\" law, similar to the Texas abortion law, is unconstitutional and violates the Constitution, the Supreme Court has ruled in a case brought by five abortion clinics and four abortion providers, as well as the state\\'s own Department of Health and Social Security (Department of Health) and the Fifth Circuit'},\n",
       " {'summary_text': \" The case of James Kahler, a man convicted of killing four people in the US state of Kansas, raises questions about the state's approach to the insanity defense, as well as its current interpretation of the rule of criminal responsibility, and whether states should adopt a different version of the insanity defence, as seen in Leland\"},\n",
       " {'summary_text': \" A federal law makes it unlawful to hire an alien knowing that they is unauthorized to work in the United States, but the Kansas Supreme Court reversed a ruling that the law's use of the same information could be used to prosecute others for identity theft and fraud, as well as the use of tax-withholding forms.\"},\n",
       " {'summary_text': \" The United States Supreme Court has ruled in the Glover case, ruling that a Kansas deputy did not have reasonable suspicion of criminal activity when he pulled over a truck that belonged to the man who was at the centre of a traffic dispute, but did not stop him because he had revoked his driver's driver's license..\"},\n",
       " {'summary_text': ' The US Supreme Court has ruled in the case of a former New Jersey Port Authority official and his deputy chief of staff, Bridget Kelly, who were convicted of fraud and conspiracy to commit each of the crimes, and ordered the Port Authority to pay extra toll collectors to cover up the effect of the scheme, in order to'},\n",
       " {'summary_text': 'Justice Elena Kagan delivered the Supreme Court\\'s opinion in the case of James Kisor, a Vietnam War veteran who sought disability benefits from the Department of Veterans\\' Affairs, calling on the Court to throw out the \"Auer deference\" that agencies give to them when they interpret their own rules, as well as other courts.'},\n",
       " {'summary_text': \" A federal court ruled in the case of Rose Knick, a Pennsylvania woman, that a town's plan to close cemeteries to the public violated the Fifth Amendment, but that property owners must seek compensation through a state law procedure that will eventually result in a federal takings claim, the Supreme Court ruled.\"},\n",
       " {'summary_text': ' The United States Supreme Court ruled that a police officer\\'s warrantless entry into a home during a \"hot pursuit\" of a suspected misdemeanant did not violate the Fourth Amendment, and that such cases should be considered on a case-by-case basis, rather than on the basis of \"categorical\"'},\n",
       " {'summary_text': 'New Jersey, New Jersey and Pennsylvania joined the Supreme Court to challenge the Department of Health and Human Services\\' rules on religious employers\\' refusal to provide contraceptive coverage in their health insurance plans, as well as the so-called \"religious freedom\" law, in a case brought by a group of religious groups, including the Hobby'},\n",
       " {'summary_text': ' The United States Supreme Court has ruled in a case involving securities fraud and the Securities and Exchange Commission (SEC) that disgorgation is an \"equitable relief\" for victims, not a punitive sanction, but an equitable remedy for wrongdoers that is typically available in equity jurisprudence, as well as'},\n",
       " {'summary_text': ' The US Supreme Court has ruled that a prisoner can bring a case in forma pauperis (IFP) if he has had three previous legal actions dismissed without prejudice, but that they were \"frivolous, malicious\" and \"failing to state a claim\" and should not be allowed to proceed.'},\n",
       " {'summary_text': ' The US Supreme Court has ruled in the case of Lucky Brand and Marcel, a clothing company that uses the word \"Get|Lucky\" on its jeans and other clothing. and it has been involved in a long-running trademark dispute over the use of the phrase \"Get\" since the first round of litigation in 2005.'},\n",
       " {'summary_text': ' The US Supreme Court has ruled in a case involving a high school cheerleading student, B. L, who posted vulgar images on the social media app Snapchat, but was not entitled to First Amendment protection when it took place outside the school, and the school did not impose a ban on off-campus speech on her.'},\n",
       " {'summary_text': ' A federal court has ruled in the case of Jimcy McGirt, an enrolled member of the Creek Nation of Indians, who seeks a new trial in federal court on the grounds that the state of Oklahoma does not have jurisdiction to prosecute him on the reservation he was convicted of, and that Congress has broken its promises to the tribe.'},\n",
       " {'summary_text': ' The US Supreme Court has ruled in the case of James McKinney, who was sentenced to death by the Arizona Supreme Court in 1991, that state courts did not properly consider his post-traumatic stress disorder as a mitigating factor in his conviction, and that the case should not be reopening the case for a second time.'},\n",
       " {'summary_text': ' The US Supreme Court has ruled that the doctrine of assignor estoppel can be used in patent cases, but not in cases where the patent is assigned or used to defend the patent itself, as well as when the patent has been assigned to the same company and that the claim is not applied to the other.'},\n",
       " {'summary_text': ' The United States Supreme Court has ruled that the doctrine of equitable apportionment applies to water resources, including the Middle Claiborne Aquifer, in a dispute between Tennessee and Mississippi, and that it should be applied to the water that flows between the two States and the rest of the United States, as well as to fish.'},\n",
       " {'summary_text': ' The United States Supreme Court has ruled that the right to return an abducted child to their country of \"habitual residence\" is a constitutional right, even if the child\\'s parents do not have an agreement to raise her in the country of her parents\\' right to leave the United States for the sake of their own safety.'},\n",
       " {'summary_text': ' A federal court in the United States has ruled in the case of Nidal Khalid Nasrallah, the leader of the Hezbollah movement, who was seeking to prevent his removal from the US to his home country of Lebanon, that a federal immigration judge may be able to challenge final orders of removal in the courts of appeals.'},\n",
       " {'summary_text': \" The US Supreme Court has ruled in the case of student-athletes against the National Collegiate Athletics Association (NCAA) and its member-schools, ruling that the governing body's restrictions on compensation violate the Sherman Act, which prohibits cartels in the United States from exerting monopoly control over markets in which they operate.\"},\n",
       " {'summary_text': ' A US Supreme Court ruling on child slavery claims against Nestle, Cargill, Royal DutchPetroleum, and others has been reversed and remanded, and will not be heard again for at least the next five years, in the case of Kiobel, a case brought by six Mali-born children.'},\n",
       " {'summary_text': 'Here is a brief summary of the Supreme Court ruling in a case brought by Agusto Niz-Chavez, who was ordered to leave the United States after 10 years, and what it means for the government to continue to enforce its immigration law despite the fact that he has lived there for at least 10 years.'},\n",
       " {'summary_text': \" A state tax on the income of a beneficiary of a trust formed by the late Joseph Lee Rice has been ruled unconstitutional by the United States Supreme Court, ruling that state taxes based on the beneficiary's in-state residence do not apply to the beneficiaries' right to receive the income, and that they should not receive it.\"},\n",
       " {'summary_text': ' A federal appeals court ruled that the Republic of Sudan was not entitled to punitive damages for its role in the 1998 attacks on the United States Embassies in Kenya and Tanzania, and that Congress was not clear enough to allow such damages to be imposed on any other state-sponsored acts of terror, as the case was.'},\n",
       " {'summary_text': ' The US Supreme Court ruled in the case of two teachers who sued their schools for employment discrimination in the 1960s and \\'70s, and upheld the \"ministerial exception\" in Hosanna-Tabor, a Lutheran church and school, as well as the case in Kedroff, a Russian Orthodox Church'},\n",
       " {'summary_text': ' The US Supreme Court has ruled in the case of PennEast Pipeline, a natural gas pipeline from Pennsylvania to New Jersey, that the Federal Energy Regulatory Commission (FERC) did not have the power to use eminent domain to condemn land owned by non-consenting States, as it did under the National Gas Act (NGA).'},\n",
       " {'summary_text': ' Avelino Pereida, an illegal immigrant from Nebraska, won a case at the US Supreme Court that would have allowed him to stay in the United States without having to prove he had not been convicted of a crime involving \"moral turpitude\" or \"fraud\" in order to be allowed into the country.'},\n",
       " {'summary_text': \" The US Patent and Trademark Office (PTO) cannot recover legal fees from an applicant who was denied a patent application, the Federal Circuit has ruled in a case brought by NantKwest, a California-based firm, which won the right to seek reimbursement of the PTO's lawyer's fees for its expenses.\"},\n",
       " {'summary_text': \" The United States Supreme Court reversed a judgment that a nonunanimous jury's conviction of a serious crime in a Louisiana court violated the Sixth Amendment, and the right to a jury trial, as well as the Fourteenth Amendment, in the case of Evangelisto Ramos, who was sentenced to life for life without parole.\"},\n",
       " {'summary_text': ' The United States Supreme Court has ruled in the Rehaif case, ruling that the Government did not have to prove that the defendant was unlawfully in the United States when he possessed a firearm, and that the law requires that he did not know that he was in the wrong category of persons barred from possessing a firearm.'},\n",
       " {'summary_text': ' Supreme Court Justice Brett Kavanaugh has asked for a stay on a preliminary injunction that would have prevented Wisconsin from counting absentee ballots ahead of next year\\'s state elections, but a dissent from the Court on the issue is quite wrong, writes Justice Antonin Scalia, who has argued that the District Court\\'s order was \"unlawful\".'},\n",
       " {'summary_text': ' The US Supreme Court, in the case of Donald Trump for President, has ruled that the state of Pennsylvania can set its own election rules, in a case that could affect the outcome of the 2020 presidential election in the United States, as well as that of the 2012 election in Maryland, in which the Democratic Party won'},\n",
       " {'summary_text': ' The US Supreme Court has ruled in the Dudenhoeffer case that the duty of prudence imposed by the Employee Retirement Income Security Act (ERISA) does not require a fiduciary to break the law on the basis of inside information, and that such actions would \"conflict\" with the securities laws.'},\n",
       " {'summary_text': \"Here is the full text of the Supreme Court's ruling in the case of Newsom, the governor of California, and the Roman Catholic Diocese of Brooklyn, which sought an injunction pending an appeal from the Ninth Circuit, on the grounds that a state's ban on the use of indoor prayer spaces in public places is unconstitutional.\"},\n",
       " {'summary_text': \" The US Supreme Court has ruled that a bankruptcy court's order denying Ritzen's motion to lift an automatic stay on creditors' debt-collection efforts is final and immediately appealable, and that the order must be filed within 14 days of the order being filed in the District Court, the Sixth Circuit of the United States\"},\n",
       " {'summary_text': \"Neil Gorsuch, the US Supreme Court's newest justice, delivered an opinion in a case involving a $4m tax refund to the parent corporation of United Western Bank, a bank that was forced into bankruptcy in the early years of the year, and a dispute over the distribution of the money among the group members in the group.\"},\n",
       " {'summary_text': \" The United States Supreme Court has ruled in the Romag Fasteners case, in which the plaintiff did not have to show that a defendant had willfully infringed the plaintiff's trademark, but did not need to make a show of willfulness to get a profits award. and may not be able to force the defendant to\"},\n",
       " {'summary_text': \" In a landmark case, the United States' Supreme Court ruled that the Roman Catholic Church in Puerto Rico had separate legal personhood and must pay pension benefits to employees of three Catholic schools in the city of San Juan, but not to the Archdiocese of San Jose, or the Superintendent of San Ignacio de Loyola\"},\n",
       " {'summary_text': 'Here is an opinion from the US Supreme Court on an emergency application filed by the Roman Catholic Diocese of Brooklyn and by Agudath Israel of America against restrictions on the number of people who can attend religious services in areas classified as \"red\" or \"orange\" zones. and by the Governor of New York,'},\n",
       " {'summary_text': ' The US Supreme Court has ruled in the case of Robert Rotkiske, who sued a debt collector for allegedly violating the Fair Debt Collection Act (FDCPA) and has appealed to the Third Circuit of the United States, where the case was heard in December 2019, and will be heard again in January 2019.'},\n",
       " {'summary_text': 'Partisan gerrymandering is a constitutional issue that the US Supreme Court has been asked to resolve, but not to rule on, because such claims are not \"judicially discoverable and manageable\" and are not just a \"political question\" that can be resolved by the courts, according to the Framers.'},\n",
       " {'summary_text': \" The US Supreme Court has ruled in the case of Pharmacy Benefit managers (PBM) against Arkansas, a state law that requires them to reimburse pharmacies at higher prices than the wholesale cost of their prescription-drugs, and that the state's law is not pre-empted by the Employee Retirement Income Security Act (ERISA).\"},\n",
       " {'summary_text': ' A federal appeals court ruled in the case of Manfredo Salinas, who sought disability benefits from the Union Pacific Railway, that the Board\\'s refusal to reopen his application was a \"terminal event\" in the agency\\'s administrative process, as well as a \"final decision\" under the Railroad Retirement Act (RRA).'},\n",
       " {'summary_text': 'Jose Sanchez, a citizen of El Salvador who entered the United States unlawfully in 1997, has won his case at the Supreme Court against the Department of Homeland Security and Immigration Services (DHS) and the US Department of Justice (DoJ) over the denial of his application to become a lawful permanent resident (LPR).'},\n",
       " {'summary_text': ' The US Supreme Court has ruled in the case of Seila Law, a California-based law firm, which sued the Consumer Financial Protection Bureau (CFPB) over its leadership of a single director, and its ability to investigate and fine consumers for non-payment of loans and other financial products, in a series of cases.'},\n",
       " {'summary_text': ' The case of Shkelzen Berisha v Guy Lawson, a Florida-based author who sued the author for defamation, is being heard by the US Supreme Court, which has ruled that public figures cannot be defamated without proving that they acted with \"actual malice\" and that such claims can be injurious.'},\n",
       " {'summary_text': ' The US Supreme Court has ruled in the case of Michael Shular, a Florida man who was sentenced to 15 years for possessing a gun while under the supervision of an armed police officer, and the use of a \"categorical approach\" to determining whether an offender\\'s prior convictions qualify for a \"serious drug offense'},\n",
       " {'summary_text': 'Here is the full text of the Supreme Court ruling on a case brought by a group calling for a temporary ban on places of worship in California to limit the spread of a respiratory illness that has killed tens of thousands of people in the state and has spread across the United States, and is now known as \"COVID-19\".'},\n",
       " {'summary_text': \"Here is the full text of Justice Kavanaugh's concurring opinion in the case of South Bay United Pentecostal Church v California Governor Gavin Newsom, which is set to be heard in the US Supreme Court in the summer of 2021, and which is likely to have implications for other cases in the future.\"},\n",
       " {'summary_text': ' The US Supreme Court has upheld the Religious Freedom Restoration Act (RFRA) in a case brought by two Muslim men who say federal agents placed them on the No Fly List for refusing to act as informants for their religious communities, but ruled that money damages can be awarded against federal officials in their individual capacities, as well as'},\n",
       " {'summary_text': ' The US Supreme Court has ruled in the case of Terence Andrus, a 20-year-old Texas man serving a life sentence for the murder of two people in a carjacking in 2008, that his defense counsel failed to investigate his past history, and that his trial was prejudiced by his failure to investigate it.'},\n",
       " {'summary_text': ' A federal court in the United States has ruled in favour of Guam in a dispute over the use of a dump on the island by the US Navy, but ruled that the island cannot pursue a contribution claim under the Clean|Water Act (CERCLA) under other laws, including that it was not eligible to do so.'},\n",
       " {'summary_text': ' The United States Supreme Court has ruled that a man convicted of possession with intent to distribute crack cocaine is not eligible for a reduction in his sentence because he was convicted of a crack offense that triggered a mandatory minimum sentence in 2010, but that was not retroactive when Congress enacted the First Step Act, as well as when it'},\n",
       " {'summary_text': \" The Supreme Court of the United States has ruled that New Mexico is entitled to delivery credit for the evaporated water of the Pecos River, in a dispute between Texas and New Mexico over the use of the river's water by the two States in the 1970s and '80s, and the 1990s.\"},\n",
       " {'summary_text': \" The US Supreme Court has ruled that a request for inter partes review by a patent challenger is unconstitutional and bars judicial review of the agency's decision to institute the process, as well as its own decision to dismiss the case... the case was brought by Click-to-Call, a group associated with the\"},\n",
       " {'summary_text': ' The United States Supreme Court ruled in the case of Roxanne Torres, who was shot and injured by police in Albuquerque, New Mexico, that the use of excessive force under the Fourth Amendment constituted an unreasonable seizure and violated the right of the person to be detained and that the right to privacy and security was not violated.'},\n",
       " {'summary_text': \" The US Supreme Court has ruled that TransUnion violated the Fair Credit Reporting Act and awarded damages to a class of 8,185 individuals, including a man named Sergio|Ramirez, who was falsely accused of being a terrorist and drug trafficker, in a case brought by the US Treasury's Office of Foreign Assets Control.\"},\n",
       " {'summary_text': ' The United States Supreme Court is considering whether correctional officers in Texas can be granted qualified immunity in a case involving a prisoner who was housed in cells teeming with human waste... and the case is likely to be heard in the coming months, as well as in the next, as it has been in the past.'},\n",
       " {'summary_text': \"President Donald Trump's legal challenge to a state criminal subpoena is the latest in a long series of cases involving the President and his businesses, and the Supreme Court's decision on whether he is entitled to immunity from such a subpoena is based on Article II and the Supremacy Clause, as well as the Fifth Amendment.\"},\n",
       " {'summary_text': ' The United States Supreme Court has ruled that congressional subpoenas for information about the finances of President Donald Trump, along with his children and his personal accounting firm, are lawful and should not be used as an excuse for executive privilege, as well as for the use of executive privilege and other constitutional provisions, the Court has concluded.'},\n",
       " {'summary_text': \"Here is a summary of Justice Sotomayor's opinion on the US Supreme Court's decision on Dustin Higgs, the latest federal death penalty case to be heard in the United States since the death penalty was reintroduced in 2007, and which Justice Elena Kagan is expected to rule on on on Wednesday, 7 January\"},\n",
       " {'summary_text': ' The United States Supreme Court ruled in two cases, one of which involved judges appointed by the Secretary of Commerce and the other by the President, that the structure of the Patent Trial and Appeal Board (PTAB) violated the Appointments Clause, as well as the Court in Edmond and the Federal Circuit.'},\n",
       " {'summary_text': \" A tribal police officer has the power to detain and search non-Indians on reservations, the Ninth Circuit ruled in a case brought by the Crow tribe on the Montana-Washington state's western reservation, and has the right to search and detain non-Indian suspects when they are outside the tribe's jurisdiction, but not on the reservation.\"},\n",
       " {'summary_text': ' The United States Supreme Court has ruled in a case brought by Jose Palomar-Santiago, who was removed from the United States after being convicted of a felony DUI in 1988, that a removal order was invalid and that he did not have the right to challenge the order on the grounds that he had not been removable.'},\n",
       " {'summary_text': ' The US Supreme Court has ruled that documents withheld from the Environmental Protection Agency (EPA) under the \"del deliberative process privilege\" are not exempt from disclosure. and should not be made public until the agency has made a final decision about its own proposed rule on environmental protection. and other environmental issues in the meantime.'},\n",
       " {'summary_text': ' The United States Supreme Court has ruled in the Atlantic Pipeline case, ruling that the Forest Service had the right to grant a right-of-way through a portion of the Appalachian Trail, which crosses the George Washington National Forest and is part of the National Park System, and is administered by the Department of the Interior.'},\n",
       " {'summary_text': ' The United States Patent and Trademark Office (PTO) failed to register the term URL as a generic name, but the Court of Appeals ruled that the term was not generic and that the mark should not be allowed to be trademarked, and that a similar mark can be registered as a \"nongeneric\" mark'},\n",
       " {'summary_text': ' The United States Supreme Court has ruled that a 5-year statute of limitations for rape in the military can be applied, even if the penalty is not \"punishable by death\" under the United States\\' Uniform Code of Military Justice (UCMJ), as well as in the case of Coker and Lovasco.'},\n",
       " {'summary_text': \" The United States Supreme Court has ruled in the case of Andre Haymond, a man convicted of possessing child pornography, that a judge's right to trial by jury was violated, and that the government's attempt to revoke his supervised release was unconstitutional and should not be allowed to apply to another defendant's prison term, as\"},\n",
       " {'summary_text': \" The US Supreme Court has ruled in a case brought by Evelyn Sineneng-Smith, an immigration lawyer, that the Ninth Circuit's decision to dismiss the case was an abuse of discretion and an overbreadth inquiry in a First Amendment case that is likely to be reconsidered by the Supreme Court in the future.\"},\n",
       " {'summary_text': ' The US Supreme Court has ruled in the case of Chike Uzuegbunam, a former student of Georgia Gwinnett College, who sued college officials for violating the First Amendment by speaking about his religion in a \"free speech zone\" and seeking nominal damages, as well as injunctive relief and other damages.'},\n",
       " {'summary_text': ' The US Supreme Court has ruled in the case of former Georgia police sergeant Nathan Van Buren, who was convicted of violating the Computer Fraud and Abuse Act (CFAA) when he accessed a police database without permission and used it to obtain or alter the information, but was not entitled to the right to obtain it.'},\n",
       " {'summary_text': 'Neil Gorsuch, the new US Supreme Court Justice, has ruled that abortion providers can pursue a pre-enforcement challenge to a Texas law that prohibits abortions if the physician detects a fetal heartbeat, and remanded the case to the Fifth Circuit of the US Court on the grounds that the law violates the federal constitution and should not be enforced'},\n",
       " {'summary_text': \"Justice Alito, with Justice Roberts and Justice Kagan, dissenting, in a case brought by a group of women seeking to overturn a Texas law banning abortions after six weeks of pregnancy, writes the Supreme Court's most recent ruling on such a case, in the case:. the plaintiffs have not met their burden of\"},\n",
       " {'summary_text': \" A last-minute injunction preventing the execution of four death row prisoners in the United States has been granted by the Supreme Court, but will not be applied for a stay or vacatur, as the plaintiffs' case is set to be heard on the grounds that the use of pentobarbital is cruel and unusual.\"},\n",
       " {'summary_text': \"Here is the full text of the Supreme Court's ruling on the case of Wesley Purkey, who will be executed in the United States in 2020, and which Justice Ginsburg joins the other four justices in opposing the death penalty, as well as the application for a stay or vacatur from the Department of Justice.\"},\n",
       " {'summary_text': \" The United States Department of the Interior and the Alaska Native Corporation (ANCs) are suing each other over $8bn (Â£6.5bn) in compensation for the aftermath of the 1993 COVID-19 earthquake and the 9/11 attacks on the United States and the US government's response to it.\"}]"
      ]
     },
     "execution_count": 18,
     "metadata": {},
     "output_type": "execute_result"
    }
   ],
   "source": [
    "sums"
   ]
  },
  {
   "cell_type": "code",
   "execution_count": 20,
   "metadata": {},
   "outputs": [],
   "source": [
    "df['summary_pipeline'] = [dic['summary_text'] for dic in sums]"
   ]
  },
  {
   "cell_type": "code",
   "execution_count": 82,
   "metadata": {},
   "outputs": [
    {
     "name": "stderr",
     "output_type": "stream",
     "text": [
      "No model was supplied, defaulted to sshleifer/distilbart-cnn-12-6 and revision a4f8f3e (https://huggingface.co/sshleifer/distilbart-cnn-12-6).\n",
      "Using a pipeline without specifying a model name and revision in production is not recommended.\n"
     ]
    }
   ],
   "source": [
    "cnnsummarizer = pipeline(\"summarization\",device=0)"
   ]
  },
  {
   "cell_type": "code",
   "execution_count": 84,
   "metadata": {},
   "outputs": [
    {
     "data": {
      "text/plain": [
       "' Prometheus Radio Project and several other public interest and consumer advocacy group collectively petition for review . Prometheus argue that the FCC  decision to repeal or modify the three rule be arbitrary and capricious under the administrative .procedure . Act of 1996 direct the FCC to review its medium ownership rule every four year and to repeal . or modify any rule that no long serve the public interest . In 2017 the FCC concluded that three of its ownership rule be no long necessary to promote competition localism or viewpoint diversity .'"
      ]
     },
     "execution_count": 84,
     "metadata": {},
     "output_type": "execute_result"
    }
   ],
   "source": [
    "cnnsummarizer(df[\"final_text\"][0], truncation=True, max_length=1024, min_length=64)[0]['summary_text']"
   ]
  },
  {
   "cell_type": "code",
   "execution_count": 85,
   "metadata": {},
   "outputs": [
    {
     "data": {
      "text/plain": [
       "\" The Federal Communications Commission possesses broad authority to regulate broadcast media in the public interest . In 2017, the FCC concluded that three of its ownership rules were no longer necessary to promote competition, localism, or viewpoint diversity . Prometheus Radio Project and several other public interest and consumer advocacy groups petitioned for review . The Third Circuit vacated the FCC's reconsideration order, holding that the record did not support the agency's conclusion that the rule changes would have minimal effect on minority .\""
      ]
     },
     "execution_count": 85,
     "metadata": {},
     "output_type": "execute_result"
    }
   ],
   "source": [
    "cnnsummarizer(df[\"Text\"][0], truncation=True, max_length=1024, min_length=64)[0]['summary_text']"
   ]
  },
  {
   "cell_type": "markdown",
   "metadata": {},
   "source": [
    "# $\\textbf{Vectorization Functions}$"
   ]
  },
  {
   "cell_type": "code",
   "execution_count": 42,
   "metadata": {},
   "outputs": [],
   "source": [
    "def concat_vectors(text_vector, transformer_vector, summa_vector):\n",
    "    return np.concatenate((text_vector, transformer_vector, summa_vector), axis=0)\n",
    "\n",
    "def combined_vectors(text_vec, transformer_vec, summa_vector):\n",
    "    combined_vectors = list()\n",
    "    print(transformer_vec.shape)\n",
    "    for i in range(len(transformer_vec)):\n",
    "        combined_vectors.append(concat_vectors(text_vec[i], transformer_vec[i], summa_vector[i]))\n",
    "\n",
    "    combined_vectors = np.array(combined_vectors)\n",
    "    return combined_vectors"
   ]
  },
  {
   "cell_type": "markdown",
   "metadata": {},
   "source": [
    "## Doc2Vec"
   ]
  },
  {
   "cell_type": "code",
   "execution_count": 9,
   "metadata": {},
   "outputs": [],
   "source": [
    "def tagged_document(list_of_list_of_words):\n",
    "       for i, list_of_words in enumerate(list_of_list_of_words):\n",
    "      \t\tyield gensim.models.doc2vec.TaggedDocument(list_of_words, [i])\n",
    "\n",
    "def process_doc2vec_similarity(X,case_id):\n",
    "\n",
    "\tdocuments = list(tagged_document(X))\n",
    "\t\t\n",
    "\tmodel = gensim.models.doc2vec.Doc2Vec(documents, vector_size=300, window=11, min_count=10, epochs=30)\n",
    "\n",
    "\tbase_vector = model.infer_vector(documents[case_id].words.split())\n",
    "\n",
    "\tvectors = []\n",
    "\tfor i, document in enumerate(documents):\n",
    "\n",
    "\t\t# tokens = list(filter(lambda x: x in model.wv.vocab.keys(), document))\n",
    "\t\tvector = model.infer_vector(document.words.split())\n",
    "\t\tvectors.append(vector)\n",
    "\n",
    "\tscores = cosine_similarity([base_vector], vectors).flatten()\n",
    "\n",
    "\t# top 10 highest scores\n",
    "\thighest_score_indices = scores.argsort()[-5:][::-1]\n",
    "\n",
    "\t\n",
    "\tprint(highest_score_indices)\n",
    "\n",
    "\thighest_score = 0\n",
    "\thighest_score_index = 0\n",
    "\tfor i, score in enumerate(scores):\n",
    "\t\tif highest_score < score and i != case_id:\n",
    "\t\t\thighest_score = score\n",
    "\t\t\thighest_score_index = i\n",
    "\n",
    "\tmost_similar_document = documents[highest_score_index]\n",
    "\tprint(\"Most similar document by Doc2vec with the score:\", highest_score, highest_score_index)\n",
    "\treturn vectors\n"
   ]
  },
  {
   "cell_type": "code",
   "execution_count": 10,
   "metadata": {},
   "outputs": [
    {
     "name": "stdout",
     "output_type": "stream",
     "text": [
      "Doc2Vec\n",
      "Final Text\n",
      "[1 0 7 9 3]\n",
      "Most similar document by Doc2vec with the score: 0.9930905 0\n",
      "Summary Pipeline\n",
      "[5 4 9 0 7]\n",
      "Most similar document by Doc2vec with the score: 0.9982727 5\n",
      "Summary Summa\n",
      "[ 2 12  1  5  6]\n",
      "Most similar document by Doc2vec with the score: 0.99665934 2\n",
      "Concatenated Vectors\n",
      "(15, 900)\n"
     ]
    }
   ],
   "source": [
    "print(\"Doc2Vec\")\n",
    "print(\"Final Text\")\n",
    "text_vec = process_doc2vec_similarity(df['final_text'], 1)\n",
    "\n",
    "print(\"Summary Pipeline\")\n",
    "transformer_vec = process_doc2vec_similarity(df['summary_pipeline'], 1)\n",
    "\n",
    "print(\"Summary Summa\")\n",
    "summa_vector = process_doc2vec_similarity(df['summary_summa'], 1)\n",
    "\n",
    "print(\"Concatenated Vectors\")\n",
    "doc2vec_vectors = combined_vectors(text_vec, transformer_vec, summa_vector)\n",
    "\n",
    "print(doc2vec_vectors.shape)"
   ]
  },
  {
   "cell_type": "code",
   "execution_count": 11,
   "metadata": {},
   "outputs": [
    {
     "name": "stdout",
     "output_type": "stream",
     "text": [
      "[1 3 4 0 8]\n",
      "Most similar document by Doc2vec with the score: 0.9927883 3\n",
      "[4 0 5 1 9]\n",
      "Most similar document by Doc2vec with the score: 0.99710906 4\n",
      "[ 1  2  6  5 12]\n",
      "Most similar document by Doc2vec with the score: 0.9950181 2\n"
     ]
    }
   ],
   "source": [
    "def doc2vec(df):\n",
    "    def tagged_document(list_of_list_of_words):\n",
    "        for i, list_of_words in enumerate(list_of_list_of_words):\n",
    "                yield gensim.models.doc2vec.TaggedDocument(list_of_words, [i])\n",
    "\n",
    "    def process_doc2vec_similarity(X,case_id):\n",
    "\n",
    "        documents = list(tagged_document(X))\n",
    "            \n",
    "        model = gensim.models.doc2vec.Doc2Vec(documents, vector_size=300, window=11, min_count=10, epochs=30)\n",
    "\n",
    "        base_vector = model.infer_vector(documents[case_id].words.split())\n",
    "\n",
    "        vectors = []\n",
    "        for i, document in enumerate(documents):\n",
    "\n",
    "            # tokens = list(filter(lambda x: x in model.wv.vocab.keys(), document))\n",
    "            vector = model.infer_vector(document.words.split())\n",
    "            vectors.append(vector)\n",
    "\n",
    "        scores = cosine_similarity([base_vector], vectors).flatten()\n",
    "\n",
    "        # top 10 highest scores\n",
    "        highest_score_indices = scores.argsort()[-5:][::-1]\n",
    "\n",
    "        \n",
    "        print(highest_score_indices)\n",
    "\n",
    "        highest_score = 0\n",
    "        highest_score_index = 0\n",
    "        for i, score in enumerate(scores):\n",
    "            if highest_score < score and i != case_id:\n",
    "                highest_score = score\n",
    "                highest_score_index = i\n",
    "\n",
    "        most_similar_document = documents[highest_score_index]\n",
    "        print(\"Most similar document by Doc2vec with the score:\", highest_score, highest_score_index)\n",
    "        return vectors\n",
    "    \n",
    "    text_vec = process_doc2vec_similarity(df['final_text'], 1)\n",
    "    transformer_vec = process_doc2vec_similarity(df['summary_pipeline'], 1)\n",
    "    summa_vector = process_doc2vec_similarity(df['summary_summa'], 1)\n",
    "\n",
    "    doc2vec_vectors = combined_vectors(text_vec, transformer_vec, summa_vector)\n",
    "    return doc2vec_vectors\n",
    "\n",
    "doc2vec_vectors = doc2vec(df)"
   ]
  },
  {
   "cell_type": "markdown",
   "metadata": {},
   "source": [
    "## TF-IDF"
   ]
  },
  {
   "cell_type": "code",
   "execution_count": 16,
   "metadata": {},
   "outputs": [],
   "source": [
    "def vectorize_tfidf(X, num_features=1500):\n",
    "    tfidf=TfidfVectorizer(min_df = 0.01, max_df=0.95, ngram_range = (1,3), max_features=num_features, norm='l2')\n",
    "    X_data = tfidf.fit_transform(X)\n",
    "    return X_data.toarray()\n",
    "\n",
    "def process_tfidf_similarity(X,case_id,num_features=1500):\n",
    "    X_data = vectorize_tfidf(X,num_features)\n",
    "\n",
    "    cosine_similarities = linear_kernel(X_data[case_id:case_id+1], X_data).flatten()\n",
    "    related_docs_indices = cosine_similarities.argsort()[:-5:-1]\n",
    "    print(related_docs_indices)\n",
    "    return X_data\n"
   ]
  },
  {
   "cell_type": "code",
   "execution_count": 17,
   "metadata": {},
   "outputs": [
    {
     "name": "stdout",
     "output_type": "stream",
     "text": [
      "TF-IDF \n",
      "Final Text\n",
      "[ 1 14 10 12]\n",
      "Summary Pipeline\n",
      "[ 1 14 10  5]\n",
      "Summary Summa\n",
      "[ 1 14 12  5]\n",
      "Concatenated Vectors\n",
      "(15, 1500)\n",
      "(15, 4500)\n"
     ]
    }
   ],
   "source": [
    "print(\"TF-IDF \\nFinal Text\")\n",
    "text_vec = process_tfidf_similarity(df['final_text'], 1)\n",
    "\n",
    "print(\"Summary Pipeline\")\n",
    "transformer_vec = process_tfidf_similarity(df['summary_pipeline'], 1)\n",
    "\n",
    "print(\"Summary Summa\")\n",
    "summa_vector = process_tfidf_similarity(df['summary_summa'], 1)\n",
    "\n",
    "\n",
    "print(\"Concatenated Vectors\")\n",
    "tf_idf_vectors = combined_vectors(text_vec, transformer_vec, summa_vector)\n",
    "\n",
    "print(tf_idf_vectors.shape)"
   ]
  },
  {
   "cell_type": "code",
   "execution_count": 14,
   "metadata": {},
   "outputs": [
    {
     "name": "stdout",
     "output_type": "stream",
     "text": [
      "[ 1 14 10 12]\n",
      "[ 1 14 10  5]\n",
      "[ 1 14 12  5]\n",
      "<class 'numpy.ndarray'>\n"
     ]
    }
   ],
   "source": [
    "def tfidf(df):\n",
    "    def vectorize_tfidf(X, num_features=1500):\n",
    "        tfidf=TfidfVectorizer(min_df = 0.01, max_df=0.95, ngram_range = (1,3), max_features=num_features, norm='l2')\n",
    "        X_data = tfidf.fit_transform(X)\n",
    "        return X_data.toarray()\n",
    "\n",
    "    def process_tfidf_similarity(X,case_id,num_features=1500):\n",
    "        X_data = vectorize_tfidf(X,num_features)\n",
    "\n",
    "        cosine_similarities = linear_kernel(X_data[case_id:case_id+1], X_data).flatten()\n",
    "        related_docs_indices = cosine_similarities.argsort()[:-5:-1]\n",
    "        print(related_docs_indices)\n",
    "        return X_data\n",
    "    \n",
    "    text_vec = process_tfidf_similarity(df['final_text'], 1)\n",
    "    transformer_vec = process_tfidf_similarity(df['summary_pipeline'], 1)\n",
    "    summa_vector = process_tfidf_similarity(df['summary_summa'], 1)\n",
    "    print(type(transformer_vec))\n",
    "    tfidf_vectors = combined_vectors(text_vec, transformer_vec, summa_vector)\n",
    "    return tfidf_vectors\n",
    "\n",
    "tfidf_vectors = tfidf(df)"
   ]
  },
  {
   "cell_type": "markdown",
   "metadata": {},
   "source": [
    "## BERT"
   ]
  },
  {
   "cell_type": "code",
   "execution_count": 21,
   "metadata": {},
   "outputs": [
    {
     "data": {
      "application/vnd.jupyter.widget-view+json": {
       "model_id": "9854c783ef1b4fbeb6766b2e603a8699",
       "version_major": 2,
       "version_minor": 0
      },
      "text/plain": [
       "Downloading:   0%|          | 0.00/1.18k [00:00<?, ?B/s]"
      ]
     },
     "metadata": {},
     "output_type": "display_data"
    },
    {
     "data": {
      "application/vnd.jupyter.widget-view+json": {
       "model_id": "d02c6c67b9c6443b867924011ac9464a",
       "version_major": 2,
       "version_minor": 0
      },
      "text/plain": [
       "Downloading:   0%|          | 0.00/190 [00:00<?, ?B/s]"
      ]
     },
     "metadata": {},
     "output_type": "display_data"
    },
    {
     "data": {
      "application/vnd.jupyter.widget-view+json": {
       "model_id": "704e82062f1c479ca49d159403405779",
       "version_major": 2,
       "version_minor": 0
      },
      "text/plain": [
       "Downloading:   0%|          | 0.00/10.6k [00:00<?, ?B/s]"
      ]
     },
     "metadata": {},
     "output_type": "display_data"
    },
    {
     "data": {
      "application/vnd.jupyter.widget-view+json": {
       "model_id": "bf643609167942af93afa11c0df67032",
       "version_major": 2,
       "version_minor": 0
      },
      "text/plain": [
       "Downloading:   0%|          | 0.00/612 [00:00<?, ?B/s]"
      ]
     },
     "metadata": {},
     "output_type": "display_data"
    },
    {
     "data": {
      "application/vnd.jupyter.widget-view+json": {
       "model_id": "bd4cc54f41264f4a9a27920b1299db88",
       "version_major": 2,
       "version_minor": 0
      },
      "text/plain": [
       "Downloading:   0%|          | 0.00/116 [00:00<?, ?B/s]"
      ]
     },
     "metadata": {},
     "output_type": "display_data"
    },
    {
     "data": {
      "application/vnd.jupyter.widget-view+json": {
       "model_id": "9006e09745a343e1a2a8eb853955c4bc",
       "version_major": 2,
       "version_minor": 0
      },
      "text/plain": [
       "Downloading:   0%|          | 0.00/39.3k [00:00<?, ?B/s]"
      ]
     },
     "metadata": {},
     "output_type": "display_data"
    },
    {
     "data": {
      "application/vnd.jupyter.widget-view+json": {
       "model_id": "d00fbd5e277b42b28f37936de1ce4c45",
       "version_major": 2,
       "version_minor": 0
      },
      "text/plain": [
       "Downloading:   0%|          | 0.00/90.9M [00:00<?, ?B/s]"
      ]
     },
     "metadata": {},
     "output_type": "display_data"
    },
    {
     "data": {
      "application/vnd.jupyter.widget-view+json": {
       "model_id": "a6869cbdc4934361ae05d7a029da6892",
       "version_major": 2,
       "version_minor": 0
      },
      "text/plain": [
       "Downloading:   0%|          | 0.00/53.0 [00:00<?, ?B/s]"
      ]
     },
     "metadata": {},
     "output_type": "display_data"
    },
    {
     "data": {
      "application/vnd.jupyter.widget-view+json": {
       "model_id": "ab32deb3a1e448188ca3fa10d32378f2",
       "version_major": 2,
       "version_minor": 0
      },
      "text/plain": [
       "Downloading:   0%|          | 0.00/112 [00:00<?, ?B/s]"
      ]
     },
     "metadata": {},
     "output_type": "display_data"
    },
    {
     "data": {
      "application/vnd.jupyter.widget-view+json": {
       "model_id": "ca8908aa38684c06acac947d9ed53d79",
       "version_major": 2,
       "version_minor": 0
      },
      "text/plain": [
       "Downloading:   0%|          | 0.00/466k [00:00<?, ?B/s]"
      ]
     },
     "metadata": {},
     "output_type": "display_data"
    },
    {
     "data": {
      "application/vnd.jupyter.widget-view+json": {
       "model_id": "7d9f8999b2d4439a9ffb6b0647d326e8",
       "version_major": 2,
       "version_minor": 0
      },
      "text/plain": [
       "Downloading:   0%|          | 0.00/350 [00:00<?, ?B/s]"
      ]
     },
     "metadata": {},
     "output_type": "display_data"
    },
    {
     "data": {
      "application/vnd.jupyter.widget-view+json": {
       "model_id": "c374822839e9420197b5054cbc1c6942",
       "version_major": 2,
       "version_minor": 0
      },
      "text/plain": [
       "Downloading:   0%|          | 0.00/13.2k [00:00<?, ?B/s]"
      ]
     },
     "metadata": {},
     "output_type": "display_data"
    },
    {
     "data": {
      "application/vnd.jupyter.widget-view+json": {
       "model_id": "01f37785f2344a13abedf60b4e2d8bdc",
       "version_major": 2,
       "version_minor": 0
      },
      "text/plain": [
       "Downloading:   0%|          | 0.00/232k [00:00<?, ?B/s]"
      ]
     },
     "metadata": {},
     "output_type": "display_data"
    },
    {
     "data": {
      "application/vnd.jupyter.widget-view+json": {
       "model_id": "82cb38ed0ac2474ba39caf31481cdcb5",
       "version_major": 2,
       "version_minor": 0
      },
      "text/plain": [
       "Downloading:   0%|          | 0.00/349 [00:00<?, ?B/s]"
      ]
     },
     "metadata": {},
     "output_type": "display_data"
    }
   ],
   "source": [
    "model = SentenceTransformer('all-MiniLM-L6-v2')"
   ]
  },
  {
   "cell_type": "code",
   "execution_count": 48,
   "metadata": {},
   "outputs": [],
   "source": [
    "sentence_embeddings = model.encode(df['Text'])"
   ]
  },
  {
   "cell_type": "code",
   "execution_count": 49,
   "metadata": {},
   "outputs": [
    {
     "data": {
      "text/plain": [
       "array([[ 0.04543006, -0.02943017, -0.02640579, ...,  0.02024797,\n",
       "         0.00164659,  0.05196369],\n",
       "       [-0.03778842, -0.0576166 , -0.08304673, ..., -0.06151274,\n",
       "         0.07072637, -0.02865805],\n",
       "       [-0.12460539,  0.0641542 ,  0.05176695, ..., -0.06757343,\n",
       "        -0.0183283 , -0.01664399],\n",
       "       ...,\n",
       "       [-0.02705874,  0.05671216, -0.02387497, ..., -0.01716211,\n",
       "         0.04588889,  0.00693745],\n",
       "       [-0.03024867,  0.05982466, -0.04545932, ..., -0.03671536,\n",
       "         0.07137609,  0.03063716],\n",
       "       [-0.06150437,  0.00545505, -0.07231373, ..., -0.0749362 ,\n",
       "        -0.01140705, -0.02334702]], dtype=float32)"
      ]
     },
     "execution_count": 49,
     "metadata": {},
     "output_type": "execute_result"
    }
   ],
   "source": [
    "sentence_embeddings"
   ]
  },
  {
   "cell_type": "code",
   "execution_count": 128,
   "metadata": {},
   "outputs": [],
   "source": [
    "sim = cosine_similarity([sentence_embeddings[3]], sentence_embeddings)[0]"
   ]
  },
  {
   "cell_type": "code",
   "execution_count": 129,
   "metadata": {},
   "outputs": [],
   "source": [
    "sim = list(sim)"
   ]
  },
  {
   "cell_type": "code",
   "execution_count": 131,
   "metadata": {},
   "outputs": [
    {
     "data": {
      "text/plain": [
       "1.0000001"
      ]
     },
     "execution_count": 131,
     "metadata": {},
     "output_type": "execute_result"
    }
   ],
   "source": [
    "sim.pop(3)"
   ]
  },
  {
   "cell_type": "code",
   "execution_count": 162,
   "metadata": {},
   "outputs": [
    {
     "data": {
      "text/plain": [
       "4.9239006"
      ]
     },
     "execution_count": 162,
     "metadata": {},
     "output_type": "execute_result"
    }
   ],
   "source": [
    "entropy(softmax(sim))"
   ]
  },
  {
   "cell_type": "code",
   "execution_count": 158,
   "metadata": {},
   "outputs": [],
   "source": [
    "from scipy.stats import entropy\n",
    "from scipy.special import softmax"
   ]
  },
  {
   "cell_type": "code",
   "execution_count": 72,
   "metadata": {},
   "outputs": [],
   "source": [
    "from sklearn.preprocessing import normalize"
   ]
  },
  {
   "cell_type": "code",
   "execution_count": 133,
   "metadata": {},
   "outputs": [
    {
     "data": {
      "text/plain": [
       "-inf"
      ]
     },
     "execution_count": 133,
     "metadata": {},
     "output_type": "execute_result"
    }
   ],
   "source": [
    "entropy(sim)"
   ]
  },
  {
   "cell_type": "code",
   "execution_count": 171,
   "metadata": {},
   "outputs": [],
   "source": [
    "def calculateEntropy(idx,sentence_embeddings):\n",
    "    sim = list(cosine_similarity([sentence_embeddings[idx]], sentence_embeddings)[0])\n",
    "    sim.pop(idx)\n",
    "    return entropy(softmax(sim))"
   ]
  },
  {
   "cell_type": "code",
   "execution_count": 164,
   "metadata": {},
   "outputs": [
    {
     "data": {
      "text/plain": [
       "4.924123"
      ]
     },
     "execution_count": 164,
     "metadata": {},
     "output_type": "execute_result"
    }
   ],
   "source": [
    "calculateEntropy(0)"
   ]
  },
  {
   "cell_type": "code",
   "execution_count": 170,
   "metadata": {},
   "outputs": [
    {
     "data": {
      "text/plain": [
       "4.922175"
      ]
     },
     "execution_count": 170,
     "metadata": {},
     "output_type": "execute_result"
    }
   ],
   "source": [
    "np.array([calculateEntropy(idx) for idx in range(len(sentence_embeddings))]).mean()"
   ]
  },
  {
   "cell_type": "code",
   "execution_count": 172,
   "metadata": {},
   "outputs": [],
   "source": [
    "def getAvgEntropyOfModel(modelname):\n",
    "    model = SentenceTransformer(modelname)\n",
    "    sentence_embeddings = model.encode(df['Text'])\n",
    "    return np.array([calculateEntropy(idx,sentence_embeddings) for idx in range(len(sentence_embeddings))]).mean()\n",
    "    "
   ]
  },
  {
   "cell_type": "code",
   "execution_count": 173,
   "metadata": {},
   "outputs": [
    {
     "data": {
      "text/plain": [
       "4.922175"
      ]
     },
     "execution_count": 173,
     "metadata": {},
     "output_type": "execute_result"
    }
   ],
   "source": [
    "getAvgEntropyOfModel(\"all-MiniLM-L6-v2\")"
   ]
  },
  {
   "cell_type": "code",
   "execution_count": 174,
   "metadata": {},
   "outputs": [
    {
     "data": {
      "application/vnd.jupyter.widget-view+json": {
       "model_id": "4b5c56258bae488db23de77ad276fb96",
       "version_major": 2,
       "version_minor": 0
      },
      "text/plain": [
       "Downloading:   0%|          | 0.00/968 [00:00<?, ?B/s]"
      ]
     },
     "metadata": {},
     "output_type": "display_data"
    },
    {
     "data": {
      "application/vnd.jupyter.widget-view+json": {
       "model_id": "a5d426f1407d493db578c0900bd67e81",
       "version_major": 2,
       "version_minor": 0
      },
      "text/plain": [
       "Downloading:   0%|          | 0.00/190 [00:00<?, ?B/s]"
      ]
     },
     "metadata": {},
     "output_type": "display_data"
    },
    {
     "data": {
      "application/vnd.jupyter.widget-view+json": {
       "model_id": "66e8d3b2744f4d19b98acee2dcb2b773",
       "version_major": 2,
       "version_minor": 0
      },
      "text/plain": [
       "Downloading:   0%|          | 0.00/3.79k [00:00<?, ?B/s]"
      ]
     },
     "metadata": {},
     "output_type": "display_data"
    },
    {
     "data": {
      "application/vnd.jupyter.widget-view+json": {
       "model_id": "a22826c2a5a343dfaee9a5d362107068",
       "version_major": 2,
       "version_minor": 0
      },
      "text/plain": [
       "Downloading:   0%|          | 0.00/645 [00:00<?, ?B/s]"
      ]
     },
     "metadata": {},
     "output_type": "display_data"
    },
    {
     "data": {
      "application/vnd.jupyter.widget-view+json": {
       "model_id": "575c1170733449daafc7c799979f8b13",
       "version_major": 2,
       "version_minor": 0
      },
      "text/plain": [
       "Downloading:   0%|          | 0.00/122 [00:00<?, ?B/s]"
      ]
     },
     "metadata": {},
     "output_type": "display_data"
    },
    {
     "data": {
      "application/vnd.jupyter.widget-view+json": {
       "model_id": "2740667c52e64589bca22648ae699369",
       "version_major": 2,
       "version_minor": 0
      },
      "text/plain": [
       "Downloading:   0%|          | 0.00/471M [00:00<?, ?B/s]"
      ]
     },
     "metadata": {},
     "output_type": "display_data"
    },
    {
     "data": {
      "application/vnd.jupyter.widget-view+json": {
       "model_id": "a895a9a2790f4ede8f0ebdadd930f436",
       "version_major": 2,
       "version_minor": 0
      },
      "text/plain": [
       "Downloading:   0%|          | 0.00/53.0 [00:00<?, ?B/s]"
      ]
     },
     "metadata": {},
     "output_type": "display_data"
    },
    {
     "data": {
      "application/vnd.jupyter.widget-view+json": {
       "model_id": "aba3a610bb4d41d18a99c257dda4a5e6",
       "version_major": 2,
       "version_minor": 0
      },
      "text/plain": [
       "Downloading:   0%|          | 0.00/5.07M [00:00<?, ?B/s]"
      ]
     },
     "metadata": {},
     "output_type": "display_data"
    },
    {
     "data": {
      "application/vnd.jupyter.widget-view+json": {
       "model_id": "91174be08ed643b699b3c15afbdf18b2",
       "version_major": 2,
       "version_minor": 0
      },
      "text/plain": [
       "Downloading:   0%|          | 0.00/239 [00:00<?, ?B/s]"
      ]
     },
     "metadata": {},
     "output_type": "display_data"
    },
    {
     "data": {
      "application/vnd.jupyter.widget-view+json": {
       "model_id": "fc54fd1b4f41494fbc55a785df626812",
       "version_major": 2,
       "version_minor": 0
      },
      "text/plain": [
       "Downloading:   0%|          | 0.00/9.08M [00:00<?, ?B/s]"
      ]
     },
     "metadata": {},
     "output_type": "display_data"
    },
    {
     "data": {
      "application/vnd.jupyter.widget-view+json": {
       "model_id": "4fcb734cb52a4f0fae0e995e57d76c14",
       "version_major": 2,
       "version_minor": 0
      },
      "text/plain": [
       "Downloading:   0%|          | 0.00/480 [00:00<?, ?B/s]"
      ]
     },
     "metadata": {},
     "output_type": "display_data"
    },
    {
     "data": {
      "application/vnd.jupyter.widget-view+json": {
       "model_id": "c8c8159c52d14471b0b18c5bd540bad1",
       "version_major": 2,
       "version_minor": 0
      },
      "text/plain": [
       "Downloading:   0%|          | 0.00/14.8M [00:00<?, ?B/s]"
      ]
     },
     "metadata": {},
     "output_type": "display_data"
    },
    {
     "data": {
      "application/vnd.jupyter.widget-view+json": {
       "model_id": "119103d626074dccbda0b77d070cfbfa",
       "version_major": 2,
       "version_minor": 0
      },
      "text/plain": [
       "Downloading:   0%|          | 0.00/229 [00:00<?, ?B/s]"
      ]
     },
     "metadata": {},
     "output_type": "display_data"
    },
    {
     "data": {
      "text/plain": [
       "4.9221663"
      ]
     },
     "execution_count": 174,
     "metadata": {},
     "output_type": "execute_result"
    }
   ],
   "source": [
    "getAvgEntropyOfModel(\"paraphrase-multilingual-MiniLM-L12-v2\")"
   ]
  },
  {
   "cell_type": "code",
   "execution_count": 175,
   "metadata": {},
   "outputs": [
    {
     "data": {
      "application/vnd.jupyter.widget-view+json": {
       "model_id": "113e7827695a4dacb159cbc7716d0dbe",
       "version_major": 2,
       "version_minor": 0
      },
      "text/plain": [
       "Downloading:   0%|          | 0.00/690 [00:00<?, ?B/s]"
      ]
     },
     "metadata": {},
     "output_type": "display_data"
    },
    {
     "data": {
      "application/vnd.jupyter.widget-view+json": {
       "model_id": "8f2c9696cf3248e69b02ba73b4fdbe6d",
       "version_major": 2,
       "version_minor": 0
      },
      "text/plain": [
       "Downloading:   0%|          | 0.00/190 [00:00<?, ?B/s]"
      ]
     },
     "metadata": {},
     "output_type": "display_data"
    },
    {
     "data": {
      "application/vnd.jupyter.widget-view+json": {
       "model_id": "e8790def5ef14c7392d324776d73f3e7",
       "version_major": 2,
       "version_minor": 0
      },
      "text/plain": [
       "Downloading:   0%|          | 0.00/3.69k [00:00<?, ?B/s]"
      ]
     },
     "metadata": {},
     "output_type": "display_data"
    },
    {
     "data": {
      "application/vnd.jupyter.widget-view+json": {
       "model_id": "9a9bb4df646b4116ae016258c6f0b44a",
       "version_major": 2,
       "version_minor": 0
      },
      "text/plain": [
       "Downloading:   0%|          | 0.00/629 [00:00<?, ?B/s]"
      ]
     },
     "metadata": {},
     "output_type": "display_data"
    },
    {
     "data": {
      "application/vnd.jupyter.widget-view+json": {
       "model_id": "ed7ca50dde374f74a40edb922cfab7ba",
       "version_major": 2,
       "version_minor": 0
      },
      "text/plain": [
       "Downloading:   0%|          | 0.00/122 [00:00<?, ?B/s]"
      ]
     },
     "metadata": {},
     "output_type": "display_data"
    },
    {
     "data": {
      "application/vnd.jupyter.widget-view+json": {
       "model_id": "bcdbf5758e27450caed29a5f06d2d2c1",
       "version_major": 2,
       "version_minor": 0
      },
      "text/plain": [
       "Downloading:   0%|          | 0.00/90.9M [00:00<?, ?B/s]"
      ]
     },
     "metadata": {},
     "output_type": "display_data"
    },
    {
     "data": {
      "application/vnd.jupyter.widget-view+json": {
       "model_id": "4c9c480153404984805639f96eb5095f",
       "version_major": 2,
       "version_minor": 0
      },
      "text/plain": [
       "Downloading:   0%|          | 0.00/53.0 [00:00<?, ?B/s]"
      ]
     },
     "metadata": {},
     "output_type": "display_data"
    },
    {
     "data": {
      "application/vnd.jupyter.widget-view+json": {
       "model_id": "4d8421ba3c9e46bda93b20f5288d7e5e",
       "version_major": 2,
       "version_minor": 0
      },
      "text/plain": [
       "Downloading:   0%|          | 0.00/112 [00:00<?, ?B/s]"
      ]
     },
     "metadata": {},
     "output_type": "display_data"
    },
    {
     "data": {
      "application/vnd.jupyter.widget-view+json": {
       "model_id": "3577d5d8bda04eb0a53aa7012574cf52",
       "version_major": 2,
       "version_minor": 0
      },
      "text/plain": [
       "Downloading:   0%|          | 0.00/466k [00:00<?, ?B/s]"
      ]
     },
     "metadata": {},
     "output_type": "display_data"
    },
    {
     "data": {
      "application/vnd.jupyter.widget-view+json": {
       "model_id": "1916ebe10fa44a24bcdbe5a4effda3e0",
       "version_major": 2,
       "version_minor": 0
      },
      "text/plain": [
       "Downloading:   0%|          | 0.00/314 [00:00<?, ?B/s]"
      ]
     },
     "metadata": {},
     "output_type": "display_data"
    },
    {
     "data": {
      "application/vnd.jupyter.widget-view+json": {
       "model_id": "0eeac4e2b58749f6b37b7323e4a2e3d7",
       "version_major": 2,
       "version_minor": 0
      },
      "text/plain": [
       "Downloading:   0%|          | 0.00/232k [00:00<?, ?B/s]"
      ]
     },
     "metadata": {},
     "output_type": "display_data"
    },
    {
     "data": {
      "application/vnd.jupyter.widget-view+json": {
       "model_id": "e787432039ce41f181de1c3a19d4cbe7",
       "version_major": 2,
       "version_minor": 0
      },
      "text/plain": [
       "Downloading:   0%|          | 0.00/229 [00:00<?, ?B/s]"
      ]
     },
     "metadata": {},
     "output_type": "display_data"
    },
    {
     "data": {
      "text/plain": [
       "4.9228525"
      ]
     },
     "execution_count": 175,
     "metadata": {},
     "output_type": "execute_result"
    }
   ],
   "source": [
    "getAvgEntropyOfModel(\"paraphrase-MiniLM-L6-v2\")"
   ]
  },
  {
   "cell_type": "code",
   "execution_count": 176,
   "metadata": {},
   "outputs": [
    {
     "data": {
      "application/vnd.jupyter.widget-view+json": {
       "model_id": "17849e3a430449bda2231dd5c289af55",
       "version_major": 2,
       "version_minor": 0
      },
      "text/plain": [
       "Downloading:   0%|          | 0.00/1.18k [00:00<?, ?B/s]"
      ]
     },
     "metadata": {},
     "output_type": "display_data"
    },
    {
     "data": {
      "application/vnd.jupyter.widget-view+json": {
       "model_id": "91f0b158f6e44cbdba236890e048edde",
       "version_major": 2,
       "version_minor": 0
      },
      "text/plain": [
       "Downloading:   0%|          | 0.00/190 [00:00<?, ?B/s]"
      ]
     },
     "metadata": {},
     "output_type": "display_data"
    },
    {
     "data": {
      "application/vnd.jupyter.widget-view+json": {
       "model_id": "6eba1a43da144b149e5aef48deb91e83",
       "version_major": 2,
       "version_minor": 0
      },
      "text/plain": [
       "Downloading:   0%|          | 0.00/10.6k [00:00<?, ?B/s]"
      ]
     },
     "metadata": {},
     "output_type": "display_data"
    },
    {
     "data": {
      "application/vnd.jupyter.widget-view+json": {
       "model_id": "ba73431eb8a54696ba6b38c1586dcb28",
       "version_major": 2,
       "version_minor": 0
      },
      "text/plain": [
       "Downloading:   0%|          | 0.00/573 [00:00<?, ?B/s]"
      ]
     },
     "metadata": {},
     "output_type": "display_data"
    },
    {
     "data": {
      "application/vnd.jupyter.widget-view+json": {
       "model_id": "269549e8d0f64d6dad5ae05f491ded1d",
       "version_major": 2,
       "version_minor": 0
      },
      "text/plain": [
       "Downloading:   0%|          | 0.00/116 [00:00<?, ?B/s]"
      ]
     },
     "metadata": {},
     "output_type": "display_data"
    },
    {
     "data": {
      "application/vnd.jupyter.widget-view+json": {
       "model_id": "ce393288a92249b3a2fda87c9fe68d3d",
       "version_major": 2,
       "version_minor": 0
      },
      "text/plain": [
       "Downloading:   0%|          | 0.00/39.3k [00:00<?, ?B/s]"
      ]
     },
     "metadata": {},
     "output_type": "display_data"
    },
    {
     "data": {
      "application/vnd.jupyter.widget-view+json": {
       "model_id": "c4f00d209e2a40518956c8998a028b73",
       "version_major": 2,
       "version_minor": 0
      },
      "text/plain": [
       "Downloading:   0%|          | 0.00/134M [00:00<?, ?B/s]"
      ]
     },
     "metadata": {},
     "output_type": "display_data"
    },
    {
     "data": {
      "application/vnd.jupyter.widget-view+json": {
       "model_id": "a85aa187508a49eda7bc2e86b9e834dd",
       "version_major": 2,
       "version_minor": 0
      },
      "text/plain": [
       "Downloading:   0%|          | 0.00/53.0 [00:00<?, ?B/s]"
      ]
     },
     "metadata": {},
     "output_type": "display_data"
    },
    {
     "data": {
      "application/vnd.jupyter.widget-view+json": {
       "model_id": "9935a532246949529b13911a372fd082",
       "version_major": 2,
       "version_minor": 0
      },
      "text/plain": [
       "Downloading:   0%|          | 0.00/112 [00:00<?, ?B/s]"
      ]
     },
     "metadata": {},
     "output_type": "display_data"
    },
    {
     "data": {
      "application/vnd.jupyter.widget-view+json": {
       "model_id": "0567b0dede7b43298b197b6dd075c2b5",
       "version_major": 2,
       "version_minor": 0
      },
      "text/plain": [
       "Downloading:   0%|          | 0.00/466k [00:00<?, ?B/s]"
      ]
     },
     "metadata": {},
     "output_type": "display_data"
    },
    {
     "data": {
      "application/vnd.jupyter.widget-view+json": {
       "model_id": "9d8cb77c8e124fecba070cb286d700a6",
       "version_major": 2,
       "version_minor": 0
      },
      "text/plain": [
       "Downloading:   0%|          | 0.00/352 [00:00<?, ?B/s]"
      ]
     },
     "metadata": {},
     "output_type": "display_data"
    },
    {
     "data": {
      "application/vnd.jupyter.widget-view+json": {
       "model_id": "5ff8aadb10954618931d20da4aa36738",
       "version_major": 2,
       "version_minor": 0
      },
      "text/plain": [
       "Downloading:   0%|          | 0.00/13.2k [00:00<?, ?B/s]"
      ]
     },
     "metadata": {},
     "output_type": "display_data"
    },
    {
     "data": {
      "application/vnd.jupyter.widget-view+json": {
       "model_id": "285bd82faa834158825dd1aa07365e93",
       "version_major": 2,
       "version_minor": 0
      },
      "text/plain": [
       "Downloading:   0%|          | 0.00/232k [00:00<?, ?B/s]"
      ]
     },
     "metadata": {},
     "output_type": "display_data"
    },
    {
     "data": {
      "application/vnd.jupyter.widget-view+json": {
       "model_id": "a4c44889e58d4c52a1bf4f18b334be41",
       "version_major": 2,
       "version_minor": 0
      },
      "text/plain": [
       "Downloading:   0%|          | 0.00/349 [00:00<?, ?B/s]"
      ]
     },
     "metadata": {},
     "output_type": "display_data"
    },
    {
     "data": {
      "text/plain": [
       "4.9231825"
      ]
     },
     "execution_count": 176,
     "metadata": {},
     "output_type": "execute_result"
    }
   ],
   "source": [
    "getAvgEntropyOfModel(\"all-MiniLM-L12-v2\")"
   ]
  },
  {
   "cell_type": "code",
   "execution_count": 177,
   "metadata": {},
   "outputs": [
    {
     "data": {
      "application/vnd.jupyter.widget-view+json": {
       "model_id": "5658014faea54da089c0fd8f6ee88143",
       "version_major": 2,
       "version_minor": 0
      },
      "text/plain": [
       "Downloading:   0%|          | 0.00/737 [00:00<?, ?B/s]"
      ]
     },
     "metadata": {},
     "output_type": "display_data"
    },
    {
     "data": {
      "application/vnd.jupyter.widget-view+json": {
       "model_id": "404222d58b1c48e1a727fe20cb7537dc",
       "version_major": 2,
       "version_minor": 0
      },
      "text/plain": [
       "Downloading:   0%|          | 0.00/190 [00:00<?, ?B/s]"
      ]
     },
     "metadata": {},
     "output_type": "display_data"
    },
    {
     "data": {
      "application/vnd.jupyter.widget-view+json": {
       "model_id": "75f567a7a0c647f1996c0b4c03c4bbe7",
       "version_major": 2,
       "version_minor": 0
      },
      "text/plain": [
       "Downloading:   0%|          | 0.00/8.65k [00:00<?, ?B/s]"
      ]
     },
     "metadata": {},
     "output_type": "display_data"
    },
    {
     "data": {
      "application/vnd.jupyter.widget-view+json": {
       "model_id": "6caf431c2b264b3c8ac633d64428eb69",
       "version_major": 2,
       "version_minor": 0
      },
      "text/plain": [
       "Downloading:   0%|          | 0.00/571 [00:00<?, ?B/s]"
      ]
     },
     "metadata": {},
     "output_type": "display_data"
    },
    {
     "data": {
      "application/vnd.jupyter.widget-view+json": {
       "model_id": "3d0b72a7120a4a62b8cdd14eb33d1cb6",
       "version_major": 2,
       "version_minor": 0
      },
      "text/plain": [
       "Downloading:   0%|          | 0.00/116 [00:00<?, ?B/s]"
      ]
     },
     "metadata": {},
     "output_type": "display_data"
    },
    {
     "data": {
      "application/vnd.jupyter.widget-view+json": {
       "model_id": "c015ec99cc3040c288d92d99a572d31f",
       "version_major": 2,
       "version_minor": 0
      },
      "text/plain": [
       "Downloading:   0%|          | 0.00/25.5k [00:00<?, ?B/s]"
      ]
     },
     "metadata": {},
     "output_type": "display_data"
    },
    {
     "data": {
      "application/vnd.jupyter.widget-view+json": {
       "model_id": "a0b54aa3e53b4ae68872b96cd88ee1fd",
       "version_major": 2,
       "version_minor": 0
      },
      "text/plain": [
       "Downloading:   0%|          | 0.00/438M [00:00<?, ?B/s]"
      ]
     },
     "metadata": {},
     "output_type": "display_data"
    },
    {
     "data": {
      "application/vnd.jupyter.widget-view+json": {
       "model_id": "277b0bb1ef6246afa5bbbc4e5b4c1e07",
       "version_major": 2,
       "version_minor": 0
      },
      "text/plain": [
       "Downloading:   0%|          | 0.00/53.0 [00:00<?, ?B/s]"
      ]
     },
     "metadata": {},
     "output_type": "display_data"
    },
    {
     "data": {
      "application/vnd.jupyter.widget-view+json": {
       "model_id": "057f092a1d8b48db9991f02a4d42dfe9",
       "version_major": 2,
       "version_minor": 0
      },
      "text/plain": [
       "Downloading:   0%|          | 0.00/239 [00:00<?, ?B/s]"
      ]
     },
     "metadata": {},
     "output_type": "display_data"
    },
    {
     "data": {
      "application/vnd.jupyter.widget-view+json": {
       "model_id": "62a2a0532365494589c82b24ceb9ee06",
       "version_major": 2,
       "version_minor": 0
      },
      "text/plain": [
       "Downloading:   0%|          | 0.00/466k [00:00<?, ?B/s]"
      ]
     },
     "metadata": {},
     "output_type": "display_data"
    },
    {
     "data": {
      "application/vnd.jupyter.widget-view+json": {
       "model_id": "695a075d0c414e1ea349dc54aa0159e0",
       "version_major": 2,
       "version_minor": 0
      },
      "text/plain": [
       "Downloading:   0%|          | 0.00/363 [00:00<?, ?B/s]"
      ]
     },
     "metadata": {},
     "output_type": "display_data"
    },
    {
     "data": {
      "application/vnd.jupyter.widget-view+json": {
       "model_id": "a313fd6338844577be41319d899fcb8c",
       "version_major": 2,
       "version_minor": 0
      },
      "text/plain": [
       "Downloading:   0%|          | 0.00/13.9k [00:00<?, ?B/s]"
      ]
     },
     "metadata": {},
     "output_type": "display_data"
    },
    {
     "data": {
      "application/vnd.jupyter.widget-view+json": {
       "model_id": "5ef9d367356142bf9b8cde9aa0b5d651",
       "version_major": 2,
       "version_minor": 0
      },
      "text/plain": [
       "Downloading:   0%|          | 0.00/232k [00:00<?, ?B/s]"
      ]
     },
     "metadata": {},
     "output_type": "display_data"
    },
    {
     "data": {
      "application/vnd.jupyter.widget-view+json": {
       "model_id": "254b8527770e4e5f8825e271dc662c59",
       "version_major": 2,
       "version_minor": 0
      },
      "text/plain": [
       "Downloading:   0%|          | 0.00/229 [00:00<?, ?B/s]"
      ]
     },
     "metadata": {},
     "output_type": "display_data"
    },
    {
     "data": {
      "text/plain": [
       "4.9255695"
      ]
     },
     "execution_count": 177,
     "metadata": {},
     "output_type": "execute_result"
    }
   ],
   "source": [
    "getAvgEntropyOfModel(\"multi-qa-mpnet-base-dot-v1\")"
   ]
  },
  {
   "cell_type": "code",
   "execution_count": 178,
   "metadata": {},
   "outputs": [
    {
     "data": {
      "application/vnd.jupyter.widget-view+json": {
       "model_id": "52b5546ec80845188683ffb32702b20b",
       "version_major": 2,
       "version_minor": 0
      },
      "text/plain": [
       "Downloading:   0%|          | 0.00/690 [00:00<?, ?B/s]"
      ]
     },
     "metadata": {},
     "output_type": "display_data"
    },
    {
     "data": {
      "application/vnd.jupyter.widget-view+json": {
       "model_id": "0484afd459204103b4e2e20b6d656fd8",
       "version_major": 2,
       "version_minor": 0
      },
      "text/plain": [
       "Downloading:   0%|          | 0.00/190 [00:00<?, ?B/s]"
      ]
     },
     "metadata": {},
     "output_type": "display_data"
    },
    {
     "data": {
      "application/vnd.jupyter.widget-view+json": {
       "model_id": "36c9b4e4a2134ffc94c07701bbaebb79",
       "version_major": 2,
       "version_minor": 0
      },
      "text/plain": [
       "Downloading:   0%|          | 0.00/3.70k [00:00<?, ?B/s]"
      ]
     },
     "metadata": {},
     "output_type": "display_data"
    },
    {
     "data": {
      "application/vnd.jupyter.widget-view+json": {
       "model_id": "4602fde44c5644e6b5ce0f9cc963c336",
       "version_major": 2,
       "version_minor": 0
      },
      "text/plain": [
       "Downloading:   0%|          | 0.00/594 [00:00<?, ?B/s]"
      ]
     },
     "metadata": {},
     "output_type": "display_data"
    },
    {
     "data": {
      "application/vnd.jupyter.widget-view+json": {
       "model_id": "12333164259e4f61807bdee8c87b7c26",
       "version_major": 2,
       "version_minor": 0
      },
      "text/plain": [
       "Downloading:   0%|          | 0.00/122 [00:00<?, ?B/s]"
      ]
     },
     "metadata": {},
     "output_type": "display_data"
    },
    {
     "data": {
      "application/vnd.jupyter.widget-view+json": {
       "model_id": "afe7fcc2991b4421bfa48aa29eaf7342",
       "version_major": 2,
       "version_minor": 0
      },
      "text/plain": [
       "Downloading:   0%|          | 0.00/438M [00:00<?, ?B/s]"
      ]
     },
     "metadata": {},
     "output_type": "display_data"
    },
    {
     "data": {
      "application/vnd.jupyter.widget-view+json": {
       "model_id": "d8d7092d71fd430cbf9dc7010ab1dbc9",
       "version_major": 2,
       "version_minor": 0
      },
      "text/plain": [
       "Downloading:   0%|          | 0.00/53.0 [00:00<?, ?B/s]"
      ]
     },
     "metadata": {},
     "output_type": "display_data"
    },
    {
     "data": {
      "application/vnd.jupyter.widget-view+json": {
       "model_id": "cfbb8a0fa02c45e982b8096e45c8a593",
       "version_major": 2,
       "version_minor": 0
      },
      "text/plain": [
       "Downloading:   0%|          | 0.00/239 [00:00<?, ?B/s]"
      ]
     },
     "metadata": {},
     "output_type": "display_data"
    },
    {
     "data": {
      "application/vnd.jupyter.widget-view+json": {
       "model_id": "4daed4877cdd43f59c52e6989b964117",
       "version_major": 2,
       "version_minor": 0
      },
      "text/plain": [
       "Downloading:   0%|          | 0.00/466k [00:00<?, ?B/s]"
      ]
     },
     "metadata": {},
     "output_type": "display_data"
    },
    {
     "data": {
      "application/vnd.jupyter.widget-view+json": {
       "model_id": "06955479723f4febb773b6f62e2af99e",
       "version_major": 2,
       "version_minor": 0
      },
      "text/plain": [
       "Downloading:   0%|          | 0.00/1.19k [00:00<?, ?B/s]"
      ]
     },
     "metadata": {},
     "output_type": "display_data"
    },
    {
     "data": {
      "application/vnd.jupyter.widget-view+json": {
       "model_id": "9dab3d413fac42cf8356a21e2feb32d2",
       "version_major": 2,
       "version_minor": 0
      },
      "text/plain": [
       "Downloading:   0%|          | 0.00/232k [00:00<?, ?B/s]"
      ]
     },
     "metadata": {},
     "output_type": "display_data"
    },
    {
     "data": {
      "application/vnd.jupyter.widget-view+json": {
       "model_id": "5581c08fbcf7436dbceaaa9f62c3308f",
       "version_major": 2,
       "version_minor": 0
      },
      "text/plain": [
       "Downloading:   0%|          | 0.00/229 [00:00<?, ?B/s]"
      ]
     },
     "metadata": {},
     "output_type": "display_data"
    },
    {
     "data": {
      "text/plain": [
       "4.924348"
      ]
     },
     "execution_count": 178,
     "metadata": {},
     "output_type": "execute_result"
    }
   ],
   "source": [
    "getAvgEntropyOfModel(\"paraphrase-mpnet-base-v2\")"
   ]
  },
  {
   "cell_type": "code",
   "execution_count": 179,
   "metadata": {},
   "outputs": [
    {
     "data": {
      "application/vnd.jupyter.widget-view+json": {
       "model_id": "efff25e88704499483583d1cfb5115bc",
       "version_major": 2,
       "version_minor": 0
      },
      "text/plain": [
       "Downloading:   0%|          | 0.00/737 [00:00<?, ?B/s]"
      ]
     },
     "metadata": {},
     "output_type": "display_data"
    },
    {
     "data": {
      "application/vnd.jupyter.widget-view+json": {
       "model_id": "99ac27b197aa4c1ab9878c3a22637f1b",
       "version_major": 2,
       "version_minor": 0
      },
      "text/plain": [
       "Downloading:   0%|          | 0.00/190 [00:00<?, ?B/s]"
      ]
     },
     "metadata": {},
     "output_type": "display_data"
    },
    {
     "data": {
      "application/vnd.jupyter.widget-view+json": {
       "model_id": "a18116b6c4234028b9f5164e182d78d5",
       "version_major": 2,
       "version_minor": 0
      },
      "text/plain": [
       "Downloading:   0%|          | 0.00/11.5k [00:00<?, ?B/s]"
      ]
     },
     "metadata": {},
     "output_type": "display_data"
    },
    {
     "data": {
      "application/vnd.jupyter.widget-view+json": {
       "model_id": "30908ba7c84a40878e613289ba215c5f",
       "version_major": 2,
       "version_minor": 0
      },
      "text/plain": [
       "Downloading:   0%|          | 0.00/612 [00:00<?, ?B/s]"
      ]
     },
     "metadata": {},
     "output_type": "display_data"
    },
    {
     "data": {
      "application/vnd.jupyter.widget-view+json": {
       "model_id": "146c26ac88404e4eacb9ef93466cfbb9",
       "version_major": 2,
       "version_minor": 0
      },
      "text/plain": [
       "Downloading:   0%|          | 0.00/116 [00:00<?, ?B/s]"
      ]
     },
     "metadata": {},
     "output_type": "display_data"
    },
    {
     "data": {
      "application/vnd.jupyter.widget-view+json": {
       "model_id": "eb0d4aed7fb540d6ada814de8b56ae91",
       "version_major": 2,
       "version_minor": 0
      },
      "text/plain": [
       "Downloading:   0%|          | 0.00/25.5k [00:00<?, ?B/s]"
      ]
     },
     "metadata": {},
     "output_type": "display_data"
    },
    {
     "data": {
      "application/vnd.jupyter.widget-view+json": {
       "model_id": "90527741099b442fa5f5a19850758ea5",
       "version_major": 2,
       "version_minor": 0
      },
      "text/plain": [
       "Downloading:   0%|          | 0.00/90.9M [00:00<?, ?B/s]"
      ]
     },
     "metadata": {},
     "output_type": "display_data"
    },
    {
     "data": {
      "application/vnd.jupyter.widget-view+json": {
       "model_id": "630c678bf3ed4d898a08ee4d898c8aca",
       "version_major": 2,
       "version_minor": 0
      },
      "text/plain": [
       "Downloading:   0%|          | 0.00/53.0 [00:00<?, ?B/s]"
      ]
     },
     "metadata": {},
     "output_type": "display_data"
    },
    {
     "data": {
      "application/vnd.jupyter.widget-view+json": {
       "model_id": "3f72fa526f534a1eb70d18108b552b63",
       "version_major": 2,
       "version_minor": 0
      },
      "text/plain": [
       "Downloading:   0%|          | 0.00/112 [00:00<?, ?B/s]"
      ]
     },
     "metadata": {},
     "output_type": "display_data"
    },
    {
     "data": {
      "application/vnd.jupyter.widget-view+json": {
       "model_id": "85de5c7539f3425baab212aeb18e8418",
       "version_major": 2,
       "version_minor": 0
      },
      "text/plain": [
       "Downloading:   0%|          | 0.00/466k [00:00<?, ?B/s]"
      ]
     },
     "metadata": {},
     "output_type": "display_data"
    },
    {
     "data": {
      "application/vnd.jupyter.widget-view+json": {
       "model_id": "101aca95599948adbb307071a493d476",
       "version_major": 2,
       "version_minor": 0
      },
      "text/plain": [
       "Downloading:   0%|          | 0.00/383 [00:00<?, ?B/s]"
      ]
     },
     "metadata": {},
     "output_type": "display_data"
    },
    {
     "data": {
      "application/vnd.jupyter.widget-view+json": {
       "model_id": "5d4e67a8201648389ce8d379c1e5e855",
       "version_major": 2,
       "version_minor": 0
      },
      "text/plain": [
       "Downloading:   0%|          | 0.00/13.8k [00:00<?, ?B/s]"
      ]
     },
     "metadata": {},
     "output_type": "display_data"
    },
    {
     "data": {
      "application/vnd.jupyter.widget-view+json": {
       "model_id": "4351e04851054ab4a70d8610f8fbd5b1",
       "version_major": 2,
       "version_minor": 0
      },
      "text/plain": [
       "Downloading:   0%|          | 0.00/232k [00:00<?, ?B/s]"
      ]
     },
     "metadata": {},
     "output_type": "display_data"
    },
    {
     "data": {
      "application/vnd.jupyter.widget-view+json": {
       "model_id": "cf16067fa0704585a78a39a37b36148e",
       "version_major": 2,
       "version_minor": 0
      },
      "text/plain": [
       "Downloading:   0%|          | 0.00/349 [00:00<?, ?B/s]"
      ]
     },
     "metadata": {},
     "output_type": "display_data"
    },
    {
     "data": {
      "text/plain": [
       "4.9237676"
      ]
     },
     "execution_count": 179,
     "metadata": {},
     "output_type": "execute_result"
    }
   ],
   "source": [
    "getAvgEntropyOfModel(\"multi-qa-MiniLM-L6-cos-v1\")"
   ]
  },
  {
   "cell_type": "code",
   "execution_count": 180,
   "metadata": {},
   "outputs": [
    {
     "data": {
      "application/vnd.jupyter.widget-view+json": {
       "model_id": "4465bc7f5acc4c509848245a886931fb",
       "version_major": 2,
       "version_minor": 0
      },
      "text/plain": [
       "Downloading:   0%|          | 0.00/690 [00:00<?, ?B/s]"
      ]
     },
     "metadata": {},
     "output_type": "display_data"
    },
    {
     "data": {
      "application/vnd.jupyter.widget-view+json": {
       "model_id": "90ee098129234347a1679328d6e064ce",
       "version_major": 2,
       "version_minor": 0
      },
      "text/plain": [
       "Downloading:   0%|          | 0.00/190 [00:00<?, ?B/s]"
      ]
     },
     "metadata": {},
     "output_type": "display_data"
    },
    {
     "data": {
      "application/vnd.jupyter.widget-view+json": {
       "model_id": "b98146ff07534b898bc47c23022d697e",
       "version_major": 2,
       "version_minor": 0
      },
      "text/plain": [
       "Downloading:   0%|          | 0.00/3.77k [00:00<?, ?B/s]"
      ]
     },
     "metadata": {},
     "output_type": "display_data"
    },
    {
     "data": {
      "application/vnd.jupyter.widget-view+json": {
       "model_id": "3a7e0da1a2884ea49b55aaa3580053fe",
       "version_major": 2,
       "version_minor": 0
      },
      "text/plain": [
       "Downloading:   0%|          | 0.00/723 [00:00<?, ?B/s]"
      ]
     },
     "metadata": {},
     "output_type": "display_data"
    },
    {
     "data": {
      "application/vnd.jupyter.widget-view+json": {
       "model_id": "3c5885d484584ab881e4551066273fe2",
       "version_major": 2,
       "version_minor": 0
      },
      "text/plain": [
       "Downloading:   0%|          | 0.00/122 [00:00<?, ?B/s]"
      ]
     },
     "metadata": {},
     "output_type": "display_data"
    },
    {
     "data": {
      "application/vnd.jupyter.widget-view+json": {
       "model_id": "837f0972ce5844c5affa2eab89a6b89f",
       "version_major": 2,
       "version_minor": 0
      },
      "text/plain": [
       "Downloading:   0%|          | 0.00/1.11G [00:00<?, ?B/s]"
      ]
     },
     "metadata": {},
     "output_type": "display_data"
    },
    {
     "data": {
      "application/vnd.jupyter.widget-view+json": {
       "model_id": "3e2b60c7eac54b878d12114ab18cdd27",
       "version_major": 2,
       "version_minor": 0
      },
      "text/plain": [
       "Downloading:   0%|          | 0.00/53.0 [00:00<?, ?B/s]"
      ]
     },
     "metadata": {},
     "output_type": "display_data"
    },
    {
     "data": {
      "application/vnd.jupyter.widget-view+json": {
       "model_id": "1c59d820fc3f44fea5e64203306d3e1a",
       "version_major": 2,
       "version_minor": 0
      },
      "text/plain": [
       "Downloading:   0%|          | 0.00/5.07M [00:00<?, ?B/s]"
      ]
     },
     "metadata": {},
     "output_type": "display_data"
    },
    {
     "data": {
      "application/vnd.jupyter.widget-view+json": {
       "model_id": "053116142ede47f996e4f89fa2006cc6",
       "version_major": 2,
       "version_minor": 0
      },
      "text/plain": [
       "Downloading:   0%|          | 0.00/239 [00:00<?, ?B/s]"
      ]
     },
     "metadata": {},
     "output_type": "display_data"
    },
    {
     "data": {
      "application/vnd.jupyter.widget-view+json": {
       "model_id": "01b026c43c57406f9940c14e97bee077",
       "version_major": 2,
       "version_minor": 0
      },
      "text/plain": [
       "Downloading:   0%|          | 0.00/9.08M [00:00<?, ?B/s]"
      ]
     },
     "metadata": {},
     "output_type": "display_data"
    },
    {
     "data": {
      "application/vnd.jupyter.widget-view+json": {
       "model_id": "39439c47a35f4d099e19e7e5ce895fc2",
       "version_major": 2,
       "version_minor": 0
      },
      "text/plain": [
       "Downloading:   0%|          | 0.00/402 [00:00<?, ?B/s]"
      ]
     },
     "metadata": {},
     "output_type": "display_data"
    },
    {
     "data": {
      "application/vnd.jupyter.widget-view+json": {
       "model_id": "f153dc08988c4bc2a8cebf161169cd6d",
       "version_major": 2,
       "version_minor": 0
      },
      "text/plain": [
       "Downloading:   0%|          | 0.00/229 [00:00<?, ?B/s]"
      ]
     },
     "metadata": {},
     "output_type": "display_data"
    },
    {
     "data": {
      "text/plain": [
       "4.9224324"
      ]
     },
     "execution_count": 180,
     "metadata": {},
     "output_type": "execute_result"
    }
   ],
   "source": [
    "getAvgEntropyOfModel(\"paraphrase-multilingual-mpnet-base-v2\")"
   ]
  },
  {
   "cell_type": "code",
   "execution_count": 41,
   "metadata": {},
   "outputs": [],
   "source": [
    "model = SentenceTransformer('all-MiniLM-L6-v2')\n",
    "def bert_similarity(X,case_id):\n",
    "    sentences = X\n",
    "    sentence_embeddings = model.encode(sentences)\n",
    "    \n",
    "    query = sentences[case_id]\n",
    "    query_embedding = model.encode(query)\n",
    "\n",
    "    # Find the closest 5 sentences of the corpus for each query sentence based on cosine similarity\n",
    "    number_top_matches = 5\n",
    "    similar_sentences = cosine_similarity([query_embedding], sentence_embeddings)[0].argsort()[::-1][1:number_top_matches+1]\n",
    "    print(similar_sentences)\n",
    "\n",
    "    return sentence_embeddings"
   ]
  },
  {
   "cell_type": "code",
   "execution_count": 45,
   "metadata": {},
   "outputs": [
    {
     "name": "stdout",
     "output_type": "stream",
     "text": [
      "BERT \n",
      "Final Text\n",
      "[ 16   8 113  96 116]\n",
      "Summary Pipeline\n",
      "[38 68 16 13 45]\n",
      "Summary Summa\n",
      "[120  52 131  16  64]\n",
      "Concatenated Vectors\n",
      "(139, 384)\n",
      "(139, 1152)\n"
     ]
    }
   ],
   "source": [
    "print(\"BERT \\nFinal Text\")\n",
    "text_vec = bert_similarity(df['Text'], 2)\n",
    "\n",
    "print(\"Summary Pipeline\")\n",
    "transformer_vec = bert_similarity(df['summary_pipeline'], 2)\n",
    "\n",
    "print(\"Summary Summa\")\n",
    "summa_vector = bert_similarity(df['summary_summa'], 2)\n",
    "\n",
    "print(\"Concatenated Vectors\")\n",
    "bert_vectors = combined_vectors(text_vec, transformer_vec, summa_vector)\n",
    "\n",
    "print(bert_vectors.shape)"
   ]
  },
  {
   "cell_type": "markdown",
   "metadata": {},
   "source": [
    "## Word2Vec"
   ]
  },
  {
   "cell_type": "code",
   "execution_count": 115,
   "metadata": {},
   "outputs": [],
   "source": [
    "def train_word2vec(X):\n",
    "    model = Word2Vec(X, vector_size=100, window=5, min_count=1, workers=4)  \n",
    "    return model\n",
    "\n"
   ]
  },
  {
   "cell_type": "code",
   "execution_count": 132,
   "metadata": {},
   "outputs": [],
   "source": [
    "sentences = df['final_text'].apply(lambda x: x.split(\" \"))\n",
    "w2v_model = train_word2vec(sentences)"
   ]
  },
  {
   "cell_type": "code",
   "execution_count": 134,
   "metadata": {},
   "outputs": [
    {
     "data": {
      "text/plain": [
       "[('decision', 0.998510479927063),\n",
       " ('sixth', 0.9983252286911011),\n",
       " ('writ', 0.9982919096946716),\n",
       " ('circuit', 0.9981789588928223),\n",
       " ('jurisdiction', 0.9979424476623535),\n",
       " ('preliminary', 0.9979386925697327),\n",
       " ('reverse', 0.9979249835014343),\n",
       " ('grant', 0.9978001117706299),\n",
       " ('petition', 0.9977887272834778),\n",
       " ('federal', 0.9977492690086365)]"
      ]
     },
     "execution_count": 134,
     "metadata": {},
     "output_type": "execute_result"
    }
   ],
   "source": [
    "# len(w2v_model.wv.index_to_key)\n",
    "w2v_model.wv.most_similar('supreme')"
   ]
  },
  {
   "cell_type": "code",
   "execution_count": null,
   "metadata": {},
   "outputs": [],
   "source": []
  },
  {
   "cell_type": "code",
   "execution_count": 46,
   "metadata": {},
   "outputs": [],
   "source": [
    "#save df[\"text\"][0] as a text file\n",
    "with open(\"check.txt\", \"w\") as text_file:\n",
    "    text_file.write(df[\"Text\"][0])"
   ]
  },
  {
   "cell_type": "code",
   "execution_count": null,
   "metadata": {},
   "outputs": [],
   "source": []
  }
 ],
 "metadata": {
  "kernelspec": {
   "display_name": "Python 3.10.7 64-bit",
   "language": "python",
   "name": "python3"
  },
  "language_info": {
   "codemirror_mode": {
    "name": "ipython",
    "version": 3
   },
   "file_extension": ".py",
   "mimetype": "text/x-python",
   "name": "python",
   "nbconvert_exporter": "python",
   "pygments_lexer": "ipython3",
   "version": "3.10.7"
  },
  "vscode": {
   "interpreter": {
    "hash": "e66561729588fc2fcb09d28710c33ed3600fb4199061a7dd168c5260d84c0181"
   }
  }
 },
 "nbformat": 4,
 "nbformat_minor": 2
}
