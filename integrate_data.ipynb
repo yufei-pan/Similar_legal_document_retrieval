{
 "cells": [
  {
   "cell_type": "code",
   "execution_count": 1,
   "metadata": {},
   "outputs": [],
   "source": [
    "import pandas as pd"
   ]
  },
  {
   "cell_type": "code",
   "execution_count": null,
   "metadata": {},
   "outputs": [],
   "source": [
    "startYear = 1760\n",
    "endYear = 2022\n",
    "df = pd.read_pickle('data/'+str(endYear)+'.pkl.zst',compression = 'zstd')"
   ]
  }
 ],
 "metadata": {
  "kernelspec": {
   "display_name": "Python 3.10.7 64-bit",
   "language": "python",
   "name": "python3"
  },
  "language_info": {
   "codemirror_mode": {
    "name": "ipython",
    "version": 3
   },
   "file_extension": ".py",
   "mimetype": "text/x-python",
   "name": "python",
   "nbconvert_exporter": "python",
   "pygments_lexer": "ipython3",
   "version": "3.10.7"
  },
  "orig_nbformat": 4,
  "vscode": {
   "interpreter": {
    "hash": "e66561729588fc2fcb09d28710c33ed3600fb4199061a7dd168c5260d84c0181"
   }
  }
 },
 "nbformat": 4,
 "nbformat_minor": 2
}
